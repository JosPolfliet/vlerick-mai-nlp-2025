{
 "cells": [
  {
   "cell_type": "markdown",
   "id": "06cd0adc-60ff-4e8c-9a36-43f59ce578de",
   "metadata": {},
   "source": [
    "# Sentence embeddings\n",
    "We will mainly use `sentence-transformers`, which is a dedicated package from Hugging Face 🤗. \n",
    "\n",
    "Relevant documentation\n",
    "- Semantic textual similarity https://www.sbert.net/docs/usage/semantic_textual_similarity.html\n",
    "- Semantic search https://www.sbert.net/examples/applications/semantic-search/README.html"
   ]
  },
  {
   "cell_type": "code",
   "execution_count": null,
   "id": "9f070d4c-1c9b-4af9-9b22-d357e07c0ca6",
   "metadata": {},
   "outputs": [],
   "source": [
    "# !pip install -U sentence-transformers faiss-cpu langchain langchain-community \"unstructured[all-docs]\" openai nest-asyncio streamlit jq"
   ]
  },
  {
   "cell_type": "markdown",
   "id": "5ed070c3-50f0-4d3c-ad73-4b5fef706279",
   "metadata": {
    "scrolled": true
   },
   "source": [
    "### From word embeddings to sentence embeddings"
   ]
  },
  {
   "cell_type": "code",
   "execution_count": 1,
   "id": "c10fd65a-d607-4a2f-8e46-c07bb71ec11e",
   "metadata": {},
   "outputs": [],
   "source": [
    "import nest_asyncio\n",
    "nest_asyncio.apply()"
   ]
  },
  {
   "cell_type": "code",
   "execution_count": 3,
   "id": "11ee6e0a",
   "metadata": {},
   "outputs": [
    {
     "data": {
      "text/plain": [
       "array([[-1.76214159e-01,  1.20600946e-01, -2.93624103e-01,\n",
       "        -2.29858249e-01, -8.22925270e-02,  2.37709418e-01,\n",
       "         3.39985251e-01, -7.80964315e-01,  1.18127592e-01,\n",
       "         1.63373768e-01, -1.37715191e-01,  2.40282565e-01,\n",
       "         4.25125331e-01,  1.72417864e-01,  1.05279565e-01,\n",
       "         5.18164277e-01,  6.22217394e-02,  3.99286211e-01,\n",
       "        -1.81652650e-01, -5.85578680e-01,  4.49721254e-02,\n",
       "        -1.72750533e-01, -2.68443465e-01, -1.47385836e-01,\n",
       "        -1.89217985e-01,  1.92150563e-01, -3.83842617e-01,\n",
       "        -3.96007031e-01,  4.30648953e-01, -3.15319538e-01,\n",
       "         3.65949690e-01,  6.05157800e-02,  3.57325613e-01,\n",
       "         1.59736484e-01, -3.00984204e-01,  2.63250291e-01,\n",
       "        -3.94311011e-01,  1.84855521e-01, -3.99549007e-01,\n",
       "        -2.67889529e-01, -5.45117259e-01, -3.13403197e-02,\n",
       "        -4.30643976e-01,  1.33278221e-01, -1.74793825e-01,\n",
       "        -4.35465395e-01, -4.77379024e-01,  7.12557212e-02,\n",
       "        -7.37001002e-02,  5.69136739e-01, -2.82579124e-01,\n",
       "         5.24975657e-02, -8.20008039e-01,  1.98296890e-01,\n",
       "         1.69511765e-01,  2.71780193e-01,  2.64610618e-01,\n",
       "        -2.55738981e-02, -1.74096510e-01,  1.63314104e-01,\n",
       "        -3.95260781e-01, -3.17559391e-02, -2.62556046e-01,\n",
       "         3.52754235e-01,  3.01434696e-01, -1.47197172e-01,\n",
       "         2.10075885e-01, -1.84010535e-01, -4.12895977e-01,\n",
       "         4.14776146e-01, -1.89769268e-01, -1.35482326e-01,\n",
       "        -3.79272252e-01, -4.68022563e-02, -3.33598517e-02,\n",
       "         9.00393650e-02, -3.30132991e-01, -3.87313180e-02,\n",
       "         3.75082225e-01, -1.46996513e-01,  4.34959590e-01,\n",
       "         5.38325548e-01, -2.65445411e-01,  1.64445728e-01,\n",
       "         4.17078286e-01, -4.72506620e-02, -7.48732835e-02,\n",
       "        -4.26260799e-01, -1.96994454e-01,  6.10319301e-02,\n",
       "        -4.74262863e-01, -6.48334801e-01,  3.71462226e-01,\n",
       "         2.50956744e-01,  1.22529581e-01,  8.88765305e-02,\n",
       "        -1.06724426e-01,  5.33984527e-02,  9.74505767e-02,\n",
       "        -3.46655101e-02, -1.02882847e-01,  2.32288986e-01,\n",
       "        -2.53739685e-01, -5.13111949e-01,  1.85216129e-01,\n",
       "        -3.04357648e-01, -3.55209000e-02, -1.26974851e-01,\n",
       "        -7.71634653e-02, -5.15329897e-01, -2.28071958e-01,\n",
       "         2.03342903e-02,  7.38176182e-02, -1.52558267e-01,\n",
       "        -4.00837690e-01, -2.47749165e-01,  3.97470474e-01,\n",
       "        -2.60260314e-01,  2.50906140e-01,  1.68229103e-01,\n",
       "         1.33900374e-01, -2.10835375e-02, -4.70035255e-01,\n",
       "         4.78849947e-01,  2.80345500e-01, -4.64546829e-01,\n",
       "         3.21746528e-01,  2.34207079e-01,  2.45772183e-01,\n",
       "        -4.71482128e-01,  5.00401378e-01,  4.10190076e-01,\n",
       "         5.15216708e-01,  2.62549460e-01,  2.11590528e-02,\n",
       "        -3.89687240e-01, -2.41742581e-01, -2.14834541e-01,\n",
       "        -8.62652138e-02, -1.65323481e-01, -5.21896519e-02,\n",
       "         3.41874719e-01,  4.50314403e-01, -3.06973755e-01,\n",
       "        -2.02294260e-01,  6.85521781e-01, -5.33892274e-01,\n",
       "         3.58471274e-01,  1.45286888e-01, -7.07058385e-02,\n",
       "        -1.50529683e-01, -8.56280401e-02, -7.67852515e-02,\n",
       "         1.89544529e-01, -1.04067072e-01,  5.33544123e-01,\n",
       "        -5.27887106e-01,  2.42331848e-02, -2.64347821e-01,\n",
       "        -2.23186597e-01, -3.81208867e-01,  7.59916604e-02,\n",
       "        -4.64484721e-01, -3.36549252e-01,  4.21229720e-01,\n",
       "         1.07479110e-01,  1.90457925e-01,  2.89464463e-03,\n",
       "        -1.08513646e-01,  1.53545439e-01,  3.16023350e-01,\n",
       "        -2.70841345e-02, -5.40594399e-01,  8.97289142e-02,\n",
       "        -1.15549415e-01,  3.97803843e-01, -4.97683376e-01,\n",
       "        -2.84893483e-01,  4.99864407e-02,  3.61279339e-01,\n",
       "         6.90535605e-01,  1.46821663e-01,  1.73396274e-01,\n",
       "        -1.74582303e-01, -3.15702468e-01,  6.73002005e-02,\n",
       "         2.17250124e-01,  9.78537351e-02, -1.29472762e-01,\n",
       "        -1.86929762e-01,  1.34878024e-01, -1.53885588e-01,\n",
       "         7.44716674e-02, -1.85536116e-01, -2.80628264e-01,\n",
       "        -1.14144139e-01,  4.12249357e-01,  6.39495850e-02,\n",
       "        -1.45715147e-01, -9.82061327e-02, -1.33081809e-01,\n",
       "        -1.88410267e-01, -2.84843538e-02, -3.49510051e-02,\n",
       "         3.34262848e-02,  6.98896945e-02,  1.90354601e-01,\n",
       "        -2.96723992e-01,  2.64665252e-03,  1.09140739e-01,\n",
       "         1.70892850e-02,  2.60589272e-01,  3.29038322e-01,\n",
       "        -6.61557391e-02,  2.39665404e-01, -2.26195127e-01,\n",
       "        -3.36869135e-02,  1.49400398e-01, -3.21265697e-01,\n",
       "        -2.68577695e-01,  5.72631896e-01, -4.92308319e-01,\n",
       "         2.00666219e-01, -3.49261612e-01, -2.89886277e-02,\n",
       "         6.09010339e-01, -5.72332978e-01,  2.35000312e-01,\n",
       "         6.47151936e-03, -3.14947814e-02,  2.78108343e-02,\n",
       "        -3.90340596e-01, -2.08949938e-01, -3.04452568e-01,\n",
       "        -7.20197409e-02, -8.29839855e-02,  3.73792946e-01,\n",
       "         7.38935769e-02, -2.21077520e-02,  9.88135412e-02,\n",
       "        -1.51426494e-01, -1.40430942e-01,  2.26018056e-01,\n",
       "         2.76089817e-01, -8.87749940e-02, -1.12816148e-01,\n",
       "        -2.66286045e-01,  2.77834386e-01, -4.75609638e-02,\n",
       "         6.71006516e-02, -2.78587900e-02, -2.39990260e-02,\n",
       "         2.51708716e-01,  4.68793690e-01, -5.39325356e-01,\n",
       "         1.10598460e-01, -3.44947308e-01,  4.15989846e-01,\n",
       "         7.28483647e-02, -3.19647461e-01,  4.90374118e-01,\n",
       "        -7.30335712e-03, -2.64254445e-03,  9.63711023e-01,\n",
       "         3.23884964e-01, -7.79616088e-02, -2.37589136e-01,\n",
       "         2.34038845e-01, -3.16053718e-01, -1.65631680e-03,\n",
       "        -1.09070647e+00,  3.38409275e-01,  4.70606163e-02,\n",
       "         1.07435383e-01, -2.06672490e-01,  4.26451536e-03,\n",
       "        -1.38476258e-03, -5.31455338e-01, -2.75648385e-01,\n",
       "        -1.64648697e-01, -3.42916429e-01, -4.26118851e-01,\n",
       "         6.01812124e-01,  4.55971420e-01, -2.72701889e-01,\n",
       "        -3.45809497e-02,  2.62752354e-01, -6.34147553e-03,\n",
       "         2.79631197e-01, -2.53559053e-01, -1.68626443e-01,\n",
       "         3.82936448e-02,  2.07762882e-01, -4.31525826e-01,\n",
       "        -7.23999441e-02, -1.26854241e-01,  2.07027104e-02,\n",
       "         5.74441195e-01,  3.54672313e-01,  9.28299949e-02,\n",
       "         6.70505762e-02,  1.11520417e-01, -1.86511092e-02,\n",
       "         4.62351680e-01,  2.72504389e-01, -3.60473990e-01,\n",
       "         5.29415429e-01, -1.00351067e-03, -8.81360397e-02,\n",
       "         1.49975121e-01,  5.25861606e-02,  4.63517696e-01,\n",
       "        -3.96831185e-01,  2.42640600e-01, -2.08912522e-01,\n",
       "         3.65672112e-01, -4.73563501e-04,  5.33963382e-01,\n",
       "        -1.97879717e-01,  3.11582863e-01, -6.96715236e-01,\n",
       "        -4.29500401e-01, -4.49359298e-01, -2.71372385e-02,\n",
       "        -6.98711574e-02,  2.06174836e-01, -1.57107621e-01,\n",
       "         4.43521202e-01, -6.74266443e-02, -3.00924063e-01,\n",
       "         5.14859319e-01,  3.36029500e-01,  6.63374141e-02,\n",
       "        -1.15234964e-01, -2.95978989e-02,  2.79471815e-01,\n",
       "        -3.48199680e-02, -7.29323700e-02, -4.58473712e-02,\n",
       "         1.54262766e-01,  8.09356034e-01,  5.20327985e-01,\n",
       "        -4.02114660e-01, -3.23151574e-02, -1.10364184e-01,\n",
       "         7.50499219e-02, -1.51098460e-01,  8.45740378e-01,\n",
       "        -1.80844158e-01,  3.22573543e-01,  1.04708180e-01,\n",
       "         3.19663793e-01, -1.55085057e-01,  1.69236645e-01,\n",
       "        -2.56996691e-01,  2.01209143e-01,  1.77392900e-01,\n",
       "        -2.74333417e-01, -3.36944282e-01,  5.02357125e-01,\n",
       "        -1.18357137e-01, -2.01167181e-01, -5.36485791e-01,\n",
       "        -7.69808367e-02,  1.15382764e-02, -2.36464292e-01,\n",
       "        -2.98766717e-02,  1.31366923e-01,  2.94184476e-01,\n",
       "         9.90918204e-02, -5.43897450e-01,  1.40813023e-01,\n",
       "         3.66998523e-01,  5.04861623e-02,  1.99122116e-01,\n",
       "        -2.80674815e-01,  4.34192151e-01, -1.40275210e-01,\n",
       "         5.78048825e-01,  1.77715808e-01,  8.98363069e-02,\n",
       "         3.29651624e-01,  6.13007545e-02, -3.24933261e-01]], dtype=float32)"
      ]
     },
     "execution_count": 3,
     "metadata": {},
     "output_type": "execute_result"
    }
   ],
   "source": [
    "from sentence_transformers import SentenceTransformer, util\n",
    "model = SentenceTransformer('paraphrase-MiniLM-L6-v2') # https://www.sbert.net/docs/pretrained_models.html\n",
    "\n",
    "# Sentences we want to encode. Example:\n",
    "sentence = ['This framework generates embeddings for each input sentence']\n",
    "\n",
    "# Sentences are encoded by calling model.encode()\n",
    "embedding = model.encode(sentence)\n",
    "embedding"
   ]
  },
  {
   "cell_type": "code",
   "execution_count": 4,
   "id": "362fbba8-f9a0-489c-b7af-20b25ae8f28a",
   "metadata": {},
   "outputs": [
    {
     "data": {
      "text/plain": [
       "(1, 384)"
      ]
     },
     "execution_count": 4,
     "metadata": {},
     "output_type": "execute_result"
    }
   ],
   "source": [
    "embedding.shape"
   ]
  },
  {
   "cell_type": "markdown",
   "id": "2b0ba9e8-82a7-458b-97ab-d9af7f2555a5",
   "metadata": {},
   "source": [
    "See, a sentence embedding is just a vector, just like a word embedding. That means we can also calculate similarities in a similar way:"
   ]
  },
  {
   "cell_type": "code",
   "execution_count": 9,
   "id": "c5113acd-53a0-47bd-a7b6-d1f072b0baa1",
   "metadata": {},
   "outputs": [
    {
     "name": "stdout",
     "output_type": "stream",
     "text": [
      "The new movie is awesome! \t\t The dog plays in the garden \t\t Score: 0.112\n",
      "The new movie is awesome! \t\t My plants look a bit sick, could it be bitrot? \t\t Score: -0.116\n",
      "The new movie is awesome! \t\t The film I just saw really sucked \t\t Score: 0.377\n",
      "The new movie is awesome! \t\t The film I just saw is just really good \t\t Score: 0.611\n",
      "The new movie is awesome! \t\t The film I just saw deserves 10 oscars \t\t Score: 0.376\n"
     ]
    }
   ],
   "source": [
    "\n",
    "# Two lists of sentences - source https://www.sbert.net/\n",
    "sentences1 = ['The new movie is awesome!']\n",
    "\n",
    "sentences2 = ['The dog plays in the garden',\n",
    "              'My plants look a bit sick, could it be bitrot?',\n",
    "              'The film I just saw really sucked',\n",
    "              'The film I just saw is just really good',\n",
    "              'The film I just saw deserves 10 oscars'\n",
    "              ]\n",
    "\n",
    "#Compute embedding for both lists\n",
    "embeddings1 = model.encode(sentences1, convert_to_tensor=True)\n",
    "embeddings2 = model.encode(sentences2, convert_to_tensor=True)\n",
    "\n",
    "#Compute cosine-similarities\n",
    "cosine_scores = util.cos_sim(embeddings1, embeddings2)\n",
    "\n",
    "#Output the pairs with their score\n",
    "for i in range(len(sentences1)):\n",
    "    for j in range(len(sentences2)):\n",
    "        print(\"{} \\t\\t {} \\t\\t Score: {:.3f}\".format(sentences1[i], sentences2[j], cosine_scores[i][j]))"
   ]
  },
  {
   "cell_type": "markdown",
   "id": "12f74a88-c711-4b1b-a7cc-8a7a473c2478",
   "metadata": {},
   "source": [
    "## Semantic search and retrieval\n",
    "\n",
    "The idea behind semantic search is to embed all entries in your corpus, whether they be sentences, paragraphs, or documents, into a vector space.\n",
    "\n",
    "At search time, the query is embedded into the same vector space and the closest embeddings from your corpus are found. These entries should have a high semantic overlap with the query.\n",
    "\n",
    "\n",
    "![title](https://raw.githubusercontent.com/UKPLab/sentence-transformers/master/docs/img/SemanticSearch.png\n",
    ")\n",
    "\n",
    "Instead of trying to build a semantic search engine from first principles, we'll use `langchain`. "
   ]
  },
  {
   "cell_type": "markdown",
   "id": "08117fa3-80b8-4138-bf75-d540930084a7",
   "metadata": {},
   "source": [
    "## [Don't run this again] Crawl the Vlerick website using Apify\n",
    "\n",
    "The following code crawls the Vlerick website so we have some text to model. It's just example code. \n",
    "\n",
    "Langchain supports more than 100 integrations, so depending on where you find interesting data you'll need to use something else."
   ]
  },
  {
   "cell_type": "code",
   "execution_count": null,
   "id": "331bd23b-1ccd-4e2c-8ca5-cc5f95381879",
   "metadata": {},
   "outputs": [],
   "source": [
    "# from langchain.utilities import ApifyWrapper\n",
    "# import os\n",
    "\n",
    "# os.environ[\"APIFY_API_TOKEN\"] = \"\"\n",
    "\n",
    "# apify = ApifyWrapper()\n",
    "# # Call the Actor to obtain text from the crawled webpages\n",
    "# loader = apify.call_actor(\n",
    "#     actor_id=\"apify/website-content-crawler\",\n",
    "#     run_input={\n",
    "#         \"startUrls\": [{\"url\": \"https://www.vlerick.com/en/\"}]\n",
    "#     },\n",
    "#     dataset_mapping_function=lambda item: Document(\n",
    "#         page_content=item[\"text\"] or \"\", metadata={\"source\": item[\"url\"]}\n",
    "#     ),\n",
    "# )\n"
   ]
  },
  {
   "cell_type": "markdown",
   "id": "3117d9c0-64a1-42ef-80e5-0beec692644a",
   "metadata": {},
   "source": [
    "## Create new vector store and embed all documents\n",
    "Source: https://python.langchain.com/docs/expression_language/cookbook/retrieval"
   ]
  },
  {
   "cell_type": "code",
   "execution_count": 10,
   "id": "b604e3e2-ff3f-4e40-ba93-1d55d5698bd0",
   "metadata": {},
   "outputs": [],
   "source": [
    "# Let's load all documents\n",
    "# Adapt this code to your own source of data.\n",
    "\n",
    "from langchain_community.document_loaders import DirectoryLoader\n",
    "from pathlib import Path\n",
    "from pprint import pprint\n",
    "\n",
    "from langchain.document_loaders import TextLoader, DirectoryLoader, JSONLoader\n",
    "from langchain.text_splitter import CharacterTextSplitter\n",
    "from langchain.vectorstores import FAISS\n",
    "from langchain.embeddings import HuggingFaceEmbeddings"
   ]
  },
  {
   "cell_type": "markdown",
   "id": "6d984cf2-484c-4f37-96b0-d49ee5e9b7f2",
   "metadata": {},
   "source": [
    "### Source 1: MAI 2023 dump"
   ]
  },
  {
   "cell_type": "code",
   "execution_count": 13,
   "id": "38ac200d-b25e-445d-92da-9539609e70c2",
   "metadata": {},
   "outputs": [
    {
     "name": "stdout",
     "output_type": "stream",
     "text": [
      "CPU times: user 2 μs, sys: 9 μs, total: 11 μs\n",
      "Wall time: 13.1 μs\n"
     ]
    },
    {
     "name": "stderr",
     "output_type": "stream",
     "text": [
      "Error loading file example data/MAI-2023 dump/Introduction To Business Statistics/WP2 Probability - Annotation.pdf: empty_like method already has a different docstring\n",
      "huggingface/tokenizers: The current process just got forked, after parallelism has already been used. Disabling parallelism to avoid deadlocks...\n",
      "To disable this warning, you can either:\n",
      "\t- Avoid using `tokenizers` before the fork if possible\n",
      "\t- Explicitly set the environment variable TOKENIZERS_PARALLELISM=(true | false)\n",
      "huggingface/tokenizers: The current process just got forked, after parallelism has already been used. Disabling parallelism to avoid deadlocks...\n",
      "To disable this warning, you can either:\n",
      "\t- Avoid using `tokenizers` before the fork if possible\n",
      "\t- Explicitly set the environment variable TOKENIZERS_PARALLELISM=(true | false)\n",
      "huggingface/tokenizers: The current process just got forked, after parallelism has already been used. Disabling parallelism to avoid deadlocks...\n",
      "To disable this warning, you can either:\n",
      "\t- Avoid using `tokenizers` before the fork if possible\n",
      "\t- Explicitly set the environment variable TOKENIZERS_PARALLELISM=(true | false)\n",
      "Matplotlib is building the font cache; this may take a moment.\n",
      "libmagic is unavailable but assists in filetype detection. Please consider installing libmagic for better results.\n",
      "Error loading file example data/MAI-2023 dump/People Analytics/~$Enagement_Data_Vlerick.xlsx: partition_xlsx() is not available because one or more dependencies are not installed. Use: pip install \"unstructured[xlsx]\" (including quotes) to install the required dependencies\n",
      "libmagic is unavailable but assists in filetype detection. Please consider installing libmagic for better results.\n",
      "Error loading file example data/MAI-2023 dump/People Analytics/~$Fair_Pay_Vlerick.xlsx: partition_xlsx() is not available because one or more dependencies are not installed. Use: pip install \"unstructured[xlsx]\" (including quotes) to install the required dependencies\n",
      "libmagic is unavailable but assists in filetype detection. Please consider installing libmagic for better results.\n",
      "Error loading file example data/MAI-2023 dump/Sustainable AI/~$anscription interview Brainjar.docx: partition_docx() is not available because one or more dependencies are not installed. Use: pip install \"unstructured[docx]\" (including quotes) to install the required dependencies\n",
      "libmagic is unavailable but assists in filetype detection. Please consider installing libmagic for better results.\n",
      "Error loading file example data/MAI-2023 dump/Sustainable AI/~$del card.docx: partition_docx() is not available because one or more dependencies are not installed. Use: pip install \"unstructured[docx]\" (including quotes) to install the required dependencies\n",
      "libmagic is unavailable but assists in filetype detection. Please consider installing libmagic for better results.\n",
      "Error loading file example data/MAI-2023 dump/Sustainable AI/~$Presentation_Sustainable_AI.pptx: partition_pptx() is not available because one or more dependencies are not installed. Use: pip install \"unstructured[pptx]\" (including quotes) to install the required dependencies\n",
      "libmagic is unavailable but assists in filetype detection. Please consider installing libmagic for better results.\n",
      "Error loading file example data/MAI-2023 dump/Sustainable AI/~$ore card and model card.docx: partition_docx() is not available because one or more dependencies are not installed. Use: pip install \"unstructured[docx]\" (including quotes) to install the required dependencies\n",
      "libmagic is unavailable but assists in filetype detection. Please consider installing libmagic for better results.\n",
      "Error loading file example data/MAI-2023 dump/Introduction To Programming/~$AKIFY PYTHON EXERCISES.docx: partition_docx() is not available because one or more dependencies are not installed. Use: pip install \"unstructured[docx]\" (including quotes) to install the required dependencies\n",
      "libmagic is unavailable but assists in filetype detection. Please consider installing libmagic for better results.\n",
      "Error loading file example data/MAI-2023 dump/Introduction To Programming/~$cture 3.docx: partition_docx() is not available because one or more dependencies are not installed. Use: pip install \"unstructured[docx]\" (including quotes) to install the required dependencies\n",
      "libmagic is unavailable but assists in filetype detection. Please consider installing libmagic for better results.\n",
      "Error loading file example data/MAI-2023 dump/Introduction To Programming/~$signment Opgave.docx: partition_docx() is not available because one or more dependencies are not installed. Use: pip install \"unstructured[docx]\" (including quotes) to install the required dependencies\n",
      "libmagic is unavailable but assists in filetype detection. Please consider installing libmagic for better results.\n",
      "Error loading file example data/MAI-2023 dump/Natural Language Processing/~$Assignment_WallStreetBets_Inaki_Peeters.pptx: partition_pptx() is not available because one or more dependencies are not installed. Use: pip install \"unstructured[pptx]\" (including quotes) to install the required dependencies\n",
      "libmagic is unavailable but assists in filetype detection. Please consider installing libmagic for better results.\n",
      "Error loading file example data/MAI-2023 dump/Natural Language Processing/~$data.xlsx: partition_xlsx() is not available because one or more dependencies are not installed. Use: pip install \"unstructured[xlsx]\" (including quotes) to install the required dependencies\n",
      "Error loading file example data/MAI-2023 dump/Natural Language Processing/2022-12-11 NLP course material.pptx: partition_pptx() is not available because one or more dependencies are not installed. Use: pip install \"unstructured[pptx]\" (including quotes) to install the required dependencies\n",
      "libmagic is unavailable but assists in filetype detection. Please consider installing libmagic for better results.\n",
      "Error loading file example data/MAI-2023 dump/Natural Language Processing/~$2022-12-11 NLP course material.pptx: partition_pptx() is not available because one or more dependencies are not installed. Use: pip install \"unstructured[pptx]\" (including quotes) to install the required dependencies\n",
      "libmagic is unavailable but assists in filetype detection. Please consider installing libmagic for better results.\n",
      "Error loading file example data/MAI-2023 dump/Natural Language Processing/~$kst NLP.docx: partition_docx() is not available because one or more dependencies are not installed. Use: pip install \"unstructured[docx]\" (including quotes) to install the required dependencies\n",
      "libmagic is unavailable but assists in filetype detection. Please consider installing libmagic for better results.\n",
      "Error loading file example data/MAI-2023 dump/Data Management/~$leplay_group-1.docx: partition_docx() is not available because one or more dependencies are not installed. Use: pip install \"unstructured[docx]\" (including quotes) to install the required dependencies\n",
      "libmagic is unavailable but assists in filetype detection. Please consider installing libmagic for better results.\n",
      "Error loading file example data/MAI-2023 dump/Presentation Skills/~$eparation Session 1 Presentation Skills.docx: partition_docx() is not available because one or more dependencies are not installed. Use: pip install \"unstructured[docx]\" (including quotes) to install the required dependencies\n",
      "libmagic is unavailable but assists in filetype detection. Please consider installing libmagic for better results.\n",
      "Error loading file example data/MAI-2023 dump/Presentation Skills/~$Presentation_Duvel.pptx: partition_pptx() is not available because one or more dependencies are not installed. Use: pip install \"unstructured[pptx]\" (including quotes) to install the required dependencies\n",
      "Error loading file example data/MAI-2023 dump/Career Services/01_Day 1_Morning_Career Self Management-4.pptx: partition_pptx() is not available because one or more dependencies are not installed. Use: pip install \"unstructured[pptx]\" (including quotes) to install the required dependencies\n",
      "Error loading file example data/MAI-2023 dump/Career Services/03_Day 1_Afternoon_Application_Interview-4.pptx: partition_pptx() is not available because one or more dependencies are not installed. Use: pip install \"unstructured[pptx]\" (including quotes) to install the required dependencies\n",
      "Error loading file example data/MAI-2023 dump/Career Services/04_Day 2_Morning_Job_Search_process_Linked_In_CL_CV-5.pptx: partition_pptx() is not available because one or more dependencies are not installed. Use: pip install \"unstructured[pptx]\" (including quotes) to install the required dependencies\n",
      "Error loading file example data/MAI-2023 dump/Career Services/Day 2_CV_and_CL Writing.pptx: partition_pptx() is not available because one or more dependencies are not installed. Use: pip install \"unstructured[pptx]\" (including quotes) to install the required dependencies\n",
      "libmagic is unavailable but assists in filetype detection. Please consider installing libmagic for better results.\n",
      "Error loading file example data/MAI-2023 dump/Decision Optimisation & Automation/~$Assignment.xlsx: partition_xlsx() is not available because one or more dependencies are not installed. Use: pip install \"unstructured[xlsx]\" (including quotes) to install the required dependencies\n"
     ]
    },
    {
     "name": "stdout",
     "output_type": "stream",
     "text": [
      "Number of documents 62\n"
     ]
    }
   ],
   "source": [
    "%time\n",
    "\n",
    "loader = DirectoryLoader('example data/MAI-2023 dump/', silent_errors=True)\n",
    "course_docs = loader.load()\n",
    "\n",
    "print(f\"Number of documents {len(course_docs)}\")"
   ]
  },
  {
   "cell_type": "code",
   "execution_count": 14,
   "id": "57e88ba1-b915-46ef-88af-63fbd50f4153",
   "metadata": {
    "scrolled": true
   },
   "outputs": [
    {
     "data": {
      "text/plain": [
       "[Document(metadata={'source': 'example data/MAI-2023 dump/People Analytics/Module 4- From Descriptive2Diagnostic.pdf'}, page_content='Module 4 From Descriptive to Diagnostics\\n\\nM1: Introduction\\n\\nToday\\n\\n1.\\n\\nIntroduction:\\n\\na. Human Resources: from 1930 to tomorrow b. People Analytics: creating business value\\n\\n2. From Operational to Descriptive a. KPIs & Surveys: exercise 1 b. Masterclass 1: An gentle introduction to Psychometrics\\n\\n3. Strategic Workforce Planning: Thomas Pensaert 4. From Descriptive to Diagnostics: a. Case study: A Retention Model b. Masterclass 2: A gentle introduction to Organisational Network Analysis\\n\\n5. From Diagnostics to Predictive/Prescriptive: a. Fair Pay b. Presentation 4 groups and evaluation\\n\\nPart 1 Diagnostics: A Retention Case\\n\\nM4: From Descriptive to Diagnostics\\n\\nWhy did something happen?\\n\\nQuery Why did it happen?\\n\\nDiscovery Where should we look?\\n\\nS E V I T C E J B O\\n\\nS K S A T D N A S N O I T C A\\n\\nT U P T U O\\n\\nS E L O R\\n\\nM4: From Descriptive to Diagnostics\\n\\ngated and iterative approach to be agile and efficient.\\n\\nEXPERIMENT\\n\\nEXPLORE\\n\\nDESIGN\\n\\nBUILD\\n\\nPILOT\\n\\nSTART POC?\\n\\nSET-UP TESTABLE PROTOTYPE?\\n\\nCONVERT TO IN-HOUSE SOLUTION?\\n\\nDEFINE THE PRODUCT\\n\\nCREATE PROOF OF CONCEPT\\n\\nPILOT THE CONCEPT\\n\\nx WEEKS\\n\\nx WEEKS\\n\\nX WEEKS\\n\\n› Kick-off, plan and scope\\n\\n› Build framework: KPIs, metrics and data sources\\n\\n› Pre-measure of identified metrics\\n\\n›\\n\\nInterviews with business stakeholders to understand business case, prioritize levels of evaluation and desired behaviors\\n\\n› Define pilot groups:\\n\\n› Pilot business unit or entity\\n\\n›\\n\\nIintervention follow-up in reporting solution\\n\\n› Hand-over and training of methodology for\\n\\n› Design workshop for insights\\n\\n› AB-design?\\n\\nsolution roll-out\\n\\n›\\n\\nTranslate business case insights and desired behaviors into set of KPIs\\n\\n› Define data analysis techniques\\n\\n›\\n\\nSet-up data pipelines\\n\\n› Data (source) and feasibility assessment based\\n\\n›\\n\\nSet-up reporting solution\\n\\nupon KPI list\\n\\n› Project plan with milestones › POC document › Data feasibility document\\n\\n› KPI catalogue › › POC reporting solution\\n\\nTechnical documentation\\n\\n› Model for Insights › Model for Actions › Hand-over document\\n\\n› Content Experts › Business stakeholders › HR solutions › Data/PA experts\\n\\n› Content Experts › HR solutions › Data/PA experts\\n\\n› Content Experts › Business stakeholders\\n\\nEXPLOIT\\n\\nRUN AND MANAGE THE SOLUTION\\n\\nA Retention Case\\n\\nContext\\n\\nA global company in the beverages industry operating in more than 20 countries over several continents,\\n\\nwitnessed heightened voluntary leave figures for a critical workforce segment, the Business Developers.\\n\\nA Retention Case\\n\\nWhy Retention analytics?\\n\\nTurnover Costs\\n\\nLoss of productivity before leaving\\n\\nLoss productivity while the position is vacant\\n\\nLoss productivity while onboarding\\n\\nImpact on productivity of team members\\n\\nCost of Hire including Team Leader’s time\\n\\nCost of Onboarding & Training\\n\\nCost of administration\\n\\nPotential Intangible Cost in Customer Relationship\\n\\n(CEB (Gartner) Turnover Modelling Tool)\\n\\n1M EUR / year\\n\\nThe cost of 1% BD Turnover is estimated at excluding intangible customer relationship impact\\n\\nAim of the project:\\n\\nDecrease BD Turnover\\n\\n\\n\\nfrom 15% to 10%\\n\\n\\n\\nin two years\\n\\nA Retention Case\\n\\nApproach 3 steps to gain data-driven insights into voluntary leave of BD’s\\n\\nStep 1\\n\\nStep 2\\n\\nStep 3\\n\\nGetting the basis right\\n\\nUnderstanding the business question\\n\\nFrom currently available data to initial insights\\n\\nFrom insights to identification of actions\\n\\nQualitative analysis of turnover in each country (CHE, POL & ROM)\\n\\nBuilding a conceptual model on what may determine employee turnover at the client\\n\\nWhat are the expected model outcomes?\\n\\nCollect & clean relevant data • Descriptive Analysis • Train, assess and select best model\\n\\nPredict the number of leavers for a data snapshot at medio 2021, looking one year ahead\\n\\nEmployee segmentation by risk profile\\n\\nTransforming segments to easy- to-understand personas • Per persona actions are co-\\n\\ncreated the client – combining analytical and qualitative results\\n\\nHow to map actions to model outcomes?\\n\\n“\\n\\nA statistical analysis, properly conducted, is a delicate dissection of uncertainties, a surgery of suppositions.” (M.J. Moroney)\\n\\nA Retention Case\\n\\nRetention Analytics Model\\n\\nTheoretical model on factors affecting voluntary leave\\n\\nEMPLOYEE CHARACTERISTICS (Accelerators)\\n\\nSOCIO-DEMOGRAPHICS\\n\\nEMPLOYEE ROLE\\n\\nWORK & ORGANIZATION CHARACTERISTICS (Push Factors)\\n\\nSOCIAL\\n\\nPERFORMANCE\\n\\nWe believe employee characteristics determine why people react differently to certain work, organization and external characteristics\\n\\nLeadership\\n\\nRelationship with colleagues\\n\\nMENTAL\\n\\nCultural fit, jobf it & empowerment\\n\\nINTERMEDIARY OUTCOMES\\n\\nWork-life balance\\n\\nJOB SATISFACTION\\n\\nJob security\\n\\nABSENTEEISM\\n\\nLearning & Development\\n\\nRecognition\\n\\nPHYSICAL\\n\\nWork environment\\n\\nCompensation & Benefits\\n\\nCareer opportunities\\n\\nFreely based on: Das, D.L. & Baruah, M., Employee Retention: A Review of Literature, Journal of Business and Management, 2013, vol. 14(2)\\n\\nEXTERNAL CHARACTERISTICS (Pull Factors)\\n\\nLABOUR MARKET\\n\\nOTHER\\n\\nFINAL OUTCOME\\n\\nVOLUNTARY LEAVE\\n\\nA Retention Case\\n\\nQualitative insights\\n\\nIdentified drivers based on the interview output\\n\\nPercentage of stayers who mentioned this driver as one of the reasons to leave in the future\\n\\nPercentage of stayers who mentioned this driver as one of the reasons to stay\\n\\nCompensation & Benefits\\n\\n54%\\n\\nCareer and personal development & growth\\n\\nCompensation & benefits\\n\\nRelationship with manager\\n\\n39%\\n\\nComplexity & workload\\n\\n37%\\n\\nTeam atmosphere\\n\\n39%\\n\\nUnreachable targets\\n\\n24%\\n\\nBrand & company name/prestige\\n\\n26%\\n\\nCareer and personal development & growth\\n\\n17%\\n\\nBonus system\\n\\n24%\\n\\n67%\\n\\n59%\\n\\n“Survivorship bias, survival bias is the logical error of concentrating on entities that passed a selection process while overlooking those that did not. This can lead to incorrect conclusions because of incomplete data.” (from Wikipedia)\\n\\nA Retention Case\\n\\nQualitative insights\\n\\nIdentified drivers based on the interview output\\n\\nPercentage of stayers who mentioned this driver as one of the reasons to leave in the future\\n\\nPercentage of stayers who mentioned this driver as one of the reasons to stay\\n\\nCompensation & Benefits\\n\\n54%\\n\\nCareer and personal development & growth\\n\\nCompensation & benefits\\n\\nRelationship with manager\\n\\n39%\\n\\nComplexity & workload\\n\\n37%\\n\\nTeam atmosphere\\n\\n39%\\n\\nUnreachable targets\\n\\n24%\\n\\nBrand & company name/prestige\\n\\n26%\\n\\nCareer and personal development & growth\\n\\n17%\\n\\nBonus system\\n\\n24%\\n\\n67%\\n\\n59%\\n\\nPercentage of leavers who mentioned this driver as one of the reasons for leaving\\n\\nComplexity & Workload\\n\\nCompensation & benefits\\n\\nUnreachable targets\\n\\nNot enough support or guidance\\n\\n25%\\n\\nRelationship with manager\\n\\n16%\\n\\n43%\\n\\n39%\\n\\n39%\\n\\nA Retention Case\\n\\nDeep-dives countries\\n\\nTURNOVER SWITZERLAND\\n\\nTURNOVER ROMANIA\\n\\nTurnover Trend\\n\\nTurnover Trend\\n\\nHistorically turnover of BDs is significantly higher than\\n\\n\\n\\ntotal workforce turnover. In past years the headcount of BDs has gone down due to restructurings and not filling vacancies on time + hiring freezes. Turnover peaked at 24,6% in 2017.\\n\\nVoluntary BD turnover is higher than total workforce • Voluntary BD turnover is steady, around 12-13% • Starting 2016, a new BD profile has been implemented with an effect on involuntary turnover (and indirectly on voluntary turnover).\\n\\nThe overall forecast for 2018 is looking good:\\n\\nTurnover rate expected to remain below the BP of 18,5%.\\n\\nActions taken/planned to reduce turnover in area of onboarding, rewards & recognition, learning & development and career opportunities.\\n\\nRestructuring & changed HR policies in area of incentives, recognition and reward, training & development start to show an effect?\\n\\nKey perceived causes for turnover\\n\\nKey perceived causes for turnover\\n\\nAggressive new players entering in the Swiss\\n\\nHigh complexity in the job of BD’s due to new products\\n\\nGastronomy market providing new job opportunities • High attractiveness of our BD compared to competitors\\n\\ndue to high continuous education level\\n\\nCustomer structure complexity (multichannel customer approach)\\n\\nCareer outlook within the organization\\n\\nand administrative burden\\n\\nFixed salary unaligned with market compared to job responsibilities. • Work-life balance • Our employees are attractive for other big companies as we are seen as ‘the best business school in FMCG for BD segment’\\n\\nTURNOVER POLAND\\n\\nTurnover Trend\\n\\nTurnover of BD’s equaled double of general workforce last years, with voluntary turnover playing a big part. In 2018, better results are reported on BD’s: voluntary leave decreased by 45% compared to 2017 (Jan. to July).\\n\\n\\n\\nActions taken to reduce turnover in area of recruitment, incentives, rewards & recognition, learning & development, career opportunities and work environment. First effect visible?\\n\\nKey perceived causes for turnover\\n\\nCompensation and benefits below market average for\\n\\njunior BD’s.\\n\\nLeadership’s mindset. No open feedback culture. • Work environment. High amount of KPI’s, complexity and admin burden. Also, Millennials have great expectations regarding flexibility.\\n\\nCareer possibilities.\\n\\nWhich data sources would you use for this exercise?\\n\\nA Retention Case Actionable Retention Analytics From data to modelling\\n\\nWe train a model with as the outcome the past year, by making use resigned over of data in the period up to the past year.\\n\\nTo allow our model to learn equally from both the employees who resigned and did not resign we rebalance our training dataset so that both groups are equally represented.\\n\\nOur selected model assigns to each employee a probability that he or she will resign in the coming year, called the resignation risk. Results are reported on an aggregated level. On top of that, by exploiting the model we are able to detect the risk drivers which in turn lead to actionable insights.\\n\\nTrain\\n\\nTest & Validate\\n\\nPredict\\n\\nLasso for feature selection\\n\\nRandom Forest for prediction\\n\\nClustering based on proximity matrix RF\\n\\nWe validate our model by comparing actual resignation with predicted resignation on a test dataset (data not seen by the model). This allows us to detect model accuracy and to select the most accurate model.\\n\\nA Retention Case\\n\\nOutcomes – cluster analysis\\n\\nSuggest relevant HR/people interventions in line with findings\\n\\nA Retention Case\\n\\nRecommendations\\n\\nSTL = Sales Team Leader\\n\\nOnboarding\\n\\nTowards consistently implemented onboarding processes, clear guidelines and processes for STL’s and integrated satisfaction survey 3 months after onboarding.\\n\\nPeer shadowing of young BD’s for faster time to performance.\\n\\nFocus on consistent build-up of skills & clear communication of future opportunities.\\n\\nA Retention Case\\n\\nRecommendations\\n\\nSTL = Sales Team Leader\\n\\nComp & Ben\\n\\nTo a Progressive Bonus System The bonus system is getting inherently more complex.\\n\\nDifferentiate between KBI’s for junior vs. senior: different mix of in-/output KBI’s and complement with more qualitative KBI’s reflecting skills & knowledge during the period of the onboarding.\\n\\nThese complementary qualitative KBI’s serve as an extra psychological safety net.\\n\\nA Retention Case\\n\\nRecommendations\\n\\nFMCG = Fast Moving Consumer Goods\\n\\nTalent Management\\n\\nDevelopment of a clear career paths\\n\\nAverage careers are short for young BD’s. The company is the ideal FMCG Business School.\\n\\nThis should be tackled by offering clear career paths. Better communication of the vast array of development opportunities – both within Sales and the wider organization is key here.\\n\\nA Retention Case\\n\\nRecommendations\\n\\nSTL = Sales Team Leader\\n\\nLeadership\\n\\nImprove competences and behaviors of STL’s for enhanced collaboration with BD’s: coaching, mentoring, empowerment.\\n\\nA subset of BD’s are found to have unexperienced STL’s. It appears there is a need to further strengthen the STL’s leadership competencies.\\n\\nA Retention Case\\n\\nConclusions\\n\\n1. Junior BD’s are severely at risk in first years of tenure: 35-40% of BD’s under 25 leave the organization within their first 2 years.\\n\\n2. Different actions to prevent BD turnover have been identified in qualitative deep dives with HR BP’s & sales managers. Most important actions are on the topic of onboarding & recruitment for junior BD’s and a repositioning of performance improvement plans.\\n\\n3.\\n\\nIn future analyses, it is important to consider the connectedness of retention and performance. Both concepts should thus be tackled together when further steps are taken in a follow up phase.\\n\\nPhase 2: Performance analytics\\n\\nThe importance of experiments and AB-testing. The importance of experiments and AB-testing.\\n\\nE.g., Measuring efficiency and effectiveness in a learning process\\n\\nBUILD\\n\\nPopulation\\n\\nHow to conduct measurement of personal skills in a suitable, realistic and objective way to enable assessment of change in behaviors and improvement of skills?\\n\\nPilot\\n\\na An randomized group would guarantee objectivity in measuring the efficiency and effectiveness of the learning approaches.\\n\\nexperiment\\n\\nusing\\n\\ncontrol\\n\\nPool A: Habits training\\n\\nbased on intention to change a chosen behavior in order to implement a new habit\\n\\nPool B: Conversation training\\n\\nbased on a case to prepare, discuss with a colleague\\n\\nPool C: Control group\\n\\nCompare with a random sample of employees that have not been doing the learning to distinguish true effects of learning\\n\\nThe importance of experiments and AB-testing. An iterative approach to pilot the POC and evaluate success\\n\\nCompare pools at the same time after training Pool A > Pool B > Pool C\\n\\nCompare within-pool changes over time › › ›\\n\\nPool A2 > Pool A1 Pool B2 > Pool B1 Pool C2 > Pool C1\\n\\npopulation\\n\\nTraining\\n\\nA2\\n\\nPilot\\n\\nCompare pools before training as a baseline measure Pool A ≈ Pool B ≈ Pool C\\n\\nA1\\n\\nB2\\n\\nB1\\n\\nA0 B0 C0\\n\\nC1\\n\\nC2\\n\\nPool A: Habits training\\n\\nPool B: Conversation training\\n\\nPool C: Control group\\n\\nT0\\n\\nT1\\n\\nT2\\n\\nCompare between-pool changes over time › ›\\n\\nTime change A > Time change B & C Time change B > Time change C\\n\\nPart 2 A gentle introduction to Organisational Network Analysis\\n\\nThe chemistry of networks\\n\\nThe chemistry of networks\\n\\nhttps://link.springer.com/content/pdf/10.1007/978-3-319-96746-2.pdf\\n\\nhttps://www.youtube.com/watch?v=oYCpdnuGPQI\\n\\nONA\\n\\nTerminology\\n\\nNetwork Models: G = {V, E}\\n\\nA social network comprises a set of social entities, called actors, and at least one but possibly several social relationships of different types among them.\\n\\nA relational tie is a social connection of a particular type between two actors (dyad).\\n\\nG: Graph V: Vertices or Nodes E: Edges or Connectors (directed or undirected)\\n\\nNetwork State: Activated nodes Network Structure: Strength of the edges A graph can also be represented as an n × n adjacency matrix with a cell representing the presence or absence of an edge. Attribute data\\n\\nONA\\n\\nTerminology\\n\\nPeripheral\\n\\nNode that possesses few connections. At risk of departure.\\n\\nNodes\\n\\nNodes represent each individual in the Core Team. Their color depicts the group and their size is proportional to their Eigenvector value.\\n\\nKnowledge Broker\\n\\nThis node is serving a critical bridge between groups. Must be connected to be effective. Can become a bottleneck and presents risk of fragmentation if lost.\\n\\nCentral Node\\n\\nHolds a network together. Can be a driver or a bottleneck to communication.\\n\\nTies\\n\\nTies indicate a connection between two nodes. Ties can either be undirected or directed. The arrow heads show direction. Tie color indicates relationship strength. Red is low/absent, Green is high/strong.\\n\\n? (Relevant with survey data only)\\n\\nAre individuals who did not respond to the survey. The individual is known; however, their attribute data is not. All of their connections will be in degree.\\n\\nSome roles within a social network:\\n\\n1. Liaisons: serve as a link between groups 2. Bridges: Liaisons, but connected with a group Representatives or Gatekeepers\\n\\n> monitor what information to pass on\\n\\n3. Stars: influencers 4. Cosmopolites: boundary spanners 5. Isolates\\n\\nNote. Importance of weak ties (serendipity)\\n\\nThe power of ONA\\n\\nONA at BU level\\n\\nThis is an ONA based on “recognition data”. In this organization, employees could recognize each other when they successfully collaborated.\\n\\nInsights • The more service-oriented business unites are more central in the network. • There is lack of connections between sales and manufacturing. • The strong link between HR and R&D illustrates the supporting role of HR in the\\n\\nDigital transformation the company is in.\\n\\nONA at individual level\\n\\nA deep-dive on the HR department\\n\\nThe nodes indicated with a red dot, are all members of a same team.\\n\\nInsights • Node 31 is an isolate, which was an expat and with difficulty to integrate. • Node number 47 has an important bridge function. • Node 18, 19 and 20 are a clique (isolated team). When digging into the data,\\n\\nwe learned that there was an error in the database.\\n\\nONA Output\\n\\nExample Outputs\\n\\nDiameter\\n\\nNetwork Density\\n\\nCluster Density\\n\\nLouvain and K-clique communities\\n\\nDegree Total\\n\\nBetweeness Centrality\\n\\nCloseness Centrality\\n\\nPageRank\\n\\nWhat can be answered by these?\\n\\nWhat is the greatest distance between two nodes within an organization? Does this reflect an efficient organization or potential for streamlining decision making across the organization?\\n\\nDo the number of connections between the relevant nodes within an organization show a collaborative culture or are there opportunities to improve collaboration? Are the connections between the right nodes? Are the most connected nodes in the right positions to support this?\\n\\nDo nodes rely on each other too much or too little given their respective responsibilities? Is there effective collaboration or does strong density show potential duplication or activities?\\n\\nAre there places where nodes ought to overlap more to operate more efficiently (e.g. customer experience handoffs)?\\n\\nIs each node connected to the right number of other nodes? Which nodes are hubs of information? Does the structure support this or is there potential risk of concentration or bottlenecks?\\n\\nAre some nodes bottlenecks of information and decision making or are they key to better collaboration? What makes them play this role? Is it intentional?\\n\\nAre some nodes more integrated within the network than others? For those not so integrated, what is the business impact? Are they specialized and/or individual contributors and therefore this is okay?\\n\\nWho has direct lines of communication? Does this reflect the organizational intention? Are the nodes with direct line of communications able to speed decision making within an organization and pass along critical information?\\n\\nMacro\\n\\nMicro\\n\\nIf you like to read or listen How to become a thermometer or thermostat'),\n",
       " Document(metadata={'source': 'example data/MAI-2023 dump/People Analytics/Module 5 - From Descriptive2Predicitve.pdf'}, page_content='Module 5 From Diagnostics to Predictive/Prescriptive\\n\\nM5: From Diagnostics to Predictive/Prescriptive\\n\\nToday\\n\\n1.\\n\\nIntroduction:\\n\\na. Human Resources: from 1930 to tomorrow b. People Analytics: creating business value\\n\\n2. From Operational to Descriptive a. KPIs & Surveys: exercise 1 b. Masterclass 1: An gentle introduction to Psychometrics\\n\\n3. Strategic Workforce Planning: Thomas Pensaert 4. From Descriptive to Diagnostics:\\n\\na. Case study: A Retention Model b. Masterclass 2: A gentle introduction to Organisational Network Analysis\\n\\n5. From Diagnostics to Predictive/Prescriptive: a. Fair Pay b. Predictive/Prescriptive\\n\\nPart 1 Fair Pay\\n\\nFair Pay\\n\\nTheApproach\\n\\n1. Data To create an analysis template, we depart from desk research based on scientific literature, previous work at clients and expert knowledge on the client side. We list all potential data points that should be taken into account in the analyses that are available in the organization.\\n\\n2. Analysis protocol Based on the data and further information on complexities that may arise, we define a formal protocol of the analytical steps. To restrict the subjectivity, the protocol formalizes some details on data to be used, transformations that are required, models to explore, but also when effects are considered relevant – for which we recommend aligning upfront.\\n\\n3. Statistical analyses We conduct the analyses by the guidelines of the protocol that we define a priori. Typical steps of the modelling process include data transformations, fitting a statistical model to test importance of factors influencing pay and post-analysis checks, diagnostics and remedial measures.\\n\\n4. Regression analyses Regression analyses is a technique that is often used for such use cases. The aim of regression analysis is to decompose to what extent some characteristics (i.e. gender, age, function, …) contribute to the variable of interest: pay gap. Analyzing gender pay equity roughly translates to examining the presence of an effect for gender in a robust statistical model.\\n\\n5. Meaning of the numbers Given a finalized model, we report on how pay is influenced by the characteristics and how gender plays a role. We provide model summaries (for instance, metrics such as R2, partial correlations, …) and give meaning to what these exactly mean for our use case. Additionally, some estimated effects and prediction intervals will help us to determine the extent of the gap in the presence of a gender effect.\\n\\n6. Reporting format We consolidate results and findings in a slide presentation. Results of the statistical analyses are provided in a technical appendix document that reports on the requirements specified in the analysis protocol.\\n\\nOur Pay Equity Project Phases\\n\\nDesigning the Pay Equity Methodology\\n\\nDevelop preliminary pay equity\\n\\n\\n\\nanalysis methodology Create and present a preliminary report with the defined pay equity analysis methodology\\n\\nDefining the Pay Equity Methodology\\n\\n\\n\\nReview existing pay equity methodology Conduct Pay Gap Approach workshop\\n\\n• Hold data availability interviews\\n\\nFinalizing the Pay Equity Methodology\\n\\n\\n\\n\\n\\n\\n\\nPresent the methodology for Management Board validation Fine-tune the methodology based on Management Board feedback Finalize pay equity report for defined population and present findings/insights\\n\\nAnalyzing Pay Equity Data\\n\\n\\n\\n\\n\\nAssess data quality and availability and clean the dataset Run statistical analyses to check for differences\\n\\nTraining & Handover\\n\\nHold training to handover methodology process to client\\n\\nFair Pay What is the Gender Pay Gap?\\n\\nThe Gender Pay Gap is the deviation in wages between males and females. Pay gaps are driven by a variety of characteristics, mainly including demographic differences. After accounting for reasonable differences, any remaining wage gap is considered the Adjusted Pay Gap, which is driven by gender or other variables not considered in the statistical model.\\n\\nUnadjusted Gender Pay Gap\\n\\nExpected Pay Gap\\n\\nAdjusted Pay Gap\\n\\nThe difference between the average (or median) wage of men vs. Average (or median) wage of women (in %). The average (or median) wage is calculated per gender. Then, the female deviation from the male average (median) wage is calculated per Grade to determine the % gap. Gap = (F-M) / M\\n\\nWhen the effect of all various demographic characteristics except gender, such as education, and work percentage are considered in explaining variation in wages, we use statistical equitation to calculate what expected pay gaps are within each Grade, given one’s demographic characteristics.\\n\\nage,\\n\\nseniority,\\n\\nAfter removing the effects of all the various demographic characteristics (done in the Expected Pay Gap step), we can calculate the difference between the Unadjusted Pay Gap and the Expected Pay Gap to test whether a significant gap (i.e. greater than 2,5%) remains. The remaining gap is attributed to the effect of gender and factors not defined in the statistical model.\\n\\nAdjusted Pay Gap = Unadjusted – Expected\\n\\nFair Pay 3 Dimensions of Fair Pay\\n\\nEqual Pay for Equal Work Risk for Within-occupation-establishment wage discrimination\\n\\nVertical UPG/APG per Unit\\n\\nRecruitment\\n\\n➢ Who gets hired\\n\\nMobility\\n\\n➢ Promotion ➢ Transfer ➢ Demotion\\n\\nn o i t a t n e m g e S l\\n\\nn o i t a n m\\n\\ni\\n\\ni r c s i d e v i t a c o\\n\\nD N A B\\n\\n5 B\\n\\n4 B\\n\\n3 B\\n\\nEqual work\\n\\nDismissal\\n\\na c i t r e V\\n\\nl l\\n\\na r o f k s i R\\n\\n2 B\\n\\n1 B\\n\\nHorizontal UPG/APG per Grade\\n\\nUnit 1 Unit 2 Unit 3 Unit 4 Unit 5 Unit 6 Unit 7 Business Unit\\n\\nHorizontal Segmentation Risk for valuative discrimination\\n\\nUPG = Unadjusted Pay Gap APG = Adjusted Pay Gap\\n\\nJustified factors in wage variation:\\n\\nSeniority • Education • Performance (if unbiased) • … Fair Pay KPIs\\n\\n1. Organizational UPG/APG 2. Horizontal UPG/APG per Grade 3. Vertical UPG/APG per Unit 4. EPEW-UPG/APG 5. Weighted EPEW-UPG/APG 6. # Outliers (H,V,EW) Measuring Fair Processes\\n\\nRecruiting Summaries • Hires by Gender Trend • Transfer Rate • Promotion Rate • Average Time to Promotion • Demotion Rate • Performance Ratings • Attrition Rates & Composition • • … Importance of: ➢ Documentation ➢ Transparency ➢ Statistical Evidence\\n\\nFair Pay\\n\\nUPG = (Salary – Mean(Salary-ref) ) / Mean(Salary-ref)\\n\\n7\\n\\nFair Pay\\n\\n8\\n\\nFair Pay\\n\\n9\\n\\nFair Pay\\n\\n1 0\\n\\nFair Pay Tackling Pay Gap Remediation\\n\\nFair pay analytics allows you to identify where there are fair pay gaps, which ones you need to worry about and how to interpret these. But actions are required in order to eliminate the fair pay biases out of your Total Rewards packages.\\n\\nDepending on the identified gaps, one specific action/change or an overall review of the Total Rewards framework might be required.\\n\\nShort Term\\n\\nMedium – Long Term\\n\\nDesign for Fair Pay\\n\\nConsider the Pay Philosophy\\n\\nEmbed fair pay into your rewards strategy and start from clearly defined and articulated vision & principles\\n\\nDefine outliers\\n\\n\\n\\nInvestigate the qualitative explanations for pay variations\\n\\nDecide on your Pay Philosophy (which populations, how much, when, etc.)\\n\\nDefine the Budget and Communication Approach\\n\\nHow much do you want to invest?\\n\\nHow do you want to communicate results?\\n\\nEnsure Effectiveness\\n\\n\\n\\nIdentify all processes and behaviors that may be contributing to pay inequity and\\n\\n\\n\\nIdentify root causes of the inequity by analyzing data for all processes and behaviors where pay differences may arise\\n\\n\\n\\nImplement or update function weighing & classification\\n\\nDraw-up or update salary bandings based on the fair pay anomalies detected\\n\\nUpdate of the broader comp & ben structures and policies (such as a variable pay system, company cars, recognition schemes, etc.)\\n\\nConduct training on reducing bias in promoting and performance cycles\\n\\nPart 2 Predictive/Prescriptive\\n\\nM5: From Diagnostics to Predictive/Prescriptive\\n\\nWhat will/should happen?\\n\\nclay tablets of the Babylonians: the Enuma Anu Enlil, dating to about 1,500 BC\\n\\nPredictive Construct model to predict\\n\\nPrescriptive Recommend actions or make decisions\\n\\nHow would you evaluate prediction models?\\n\\nM5: From Diagnostics to Predictive/Prescriptive\\n\\nKey Criteria of Predictive Models\\n\\nM5: From Diagnostics to Predictive/Prescriptive\\n\\nKey Criteria of Predictive Models\\n\\n1. Valid ~ Be able to generalize 2. Useful ~ Be actionable 3. Unexpected ~ Be non-obvious 4. Understandable ~ Be able to interpret the model\\n\\nM5: From Diagnostics to Predictive/Prescriptive\\n\\nModel Development Processes\\n\\nKDD Process Model, adapted from Fayyad et al. (1996) Knowledge Discovery in Databases\\n\\nM5: From Diagnostics to Predictive/Prescriptive\\n\\nModel Development Processes\\n\\nCRISP-DM Cross-industry Standard Process for Data Mining\\n\\nBusiness Understanding - Cyclic non-straightforward nature of data modeling\\n\\nM5: From Diagnostics to Predictive/Prescriptive\\n\\nModel Development Processes\\n\\nWhat is it we want to do What is it we can do\\n\\nWhat inputs of the system can we control?\\n\\nWhat new data is needed to produce the desired outcome\\n\\nDrivetrain approach Howard, J., Zwemer, M., & Loukides, M. (2012). Designing great data products. \" O\\'Reilly Media, Inc.\".\\n\\nBuilding the predictive models.\\n\\n-\\n\\nImportance of actionability Importance of clear model purpose\\n\\nCfr levels of reporting\\n\\nM5: From Diagnostics to Predictive/Prescriptive\\n\\nData Bias\\n\\nTraining data collected during a specific time span • Strategy of company while developing the model • Evolving predictors (e.g. sociodemographic’s)\\n\\nCalibration Re-estimation\\n\\nEthics: word2vec\\n\\nBolukbasi, T., Chang, K. W., Zou, J. Y., Saligrama, V., & Kalai, A. T. (2016). Man is to computer programmer as woman is to homemaker? debiasing word embeddings. Advances in neural information processing systems, 29.\\n\\nM5: From Diagnostics to Predictive/Prescriptive Ethics\\n\\n\\n\\nInvolve your employees as early as possible\\n\\nHuman-centered & participatory design\\n\\nGuarantee anonymity\\n\\nMulti-party-computation? Informed consent: GDPR\\n\\n• Culture\\n\\nM5: From Diagnostics to Predictive/Prescriptive Remember…. think like a Fox and be a Multidisciplinary\\n\\nIncorporate ideas from other disciplines.\\n\\nAdaptable\\n\\nTry and find new approaches.\\n\\nSelf-Critical\\n\\nAcknowledge mistakes\\n\\nTolerant of complexity\\n\\nSee the universe as complicated, with problems unpredictable\\n\\nEmpirical\\n\\nThink Evidence-based\\n\\nRelative\\n\\nExpress predictions in terms of probabilistic terms\\n\\nM5: From Diagnostics to Predictive/Prescriptive\\n\\nWhat’s next\\n\\nStay Informed Stay Connected!'),\n",
       " Document(metadata={'source': 'example data/MAI-2023 dump/People Analytics/Module 1-  Introduction.pdf'}, page_content='People Analytics\\n\\nFor the master in Business Analytics & Artificial Intelligence 2022-2023 Dr. Maarten De Schryver\\n\\nModule 1 An introduction to Human Resources & People Analytics\\n\\nM1: Introduction\\n\\nNice to meet you\\n\\nMaarten De Schryver\\n\\nWork experience\\n\\n2021 – current: Senior Manager People Analytics (Deloitte Belgium)\\n\\n2020 – 2021: Statistical Consultant & coordinator Research Support Office (RSO) Faculty of Psychology and Educational Sciences, UGent\\n\\n2018 – 2019: Senior Analyst - HR Data, Total Rewards & Analytics Bridgestone EMEA\\n\\n2005– 2018: Scientific Researcher at the Department of Experimental Clinical and Health Psychology & Department of Data Analysis - Faculty of Psychology and Educational Sciences, Ugent\\n\\nBackground\\n\\n2018: Doctor of Philosophy – PhD:\\n\\nA psychometric analysis of Choice Reaction Time Measures, Ghent University\\n\\n2013: Master of Statistical Data Analysis, UGent 2005: Licentiate/Master in Psychology, option Personnel Management, Work and Organizational Psychology, UGent\\n\\nM1: Introduction\\n\\nContent\\n\\n1.\\n\\nIntroduction:\\n\\na. Human Resources: from …. to …. b. People Analytics: creating business value\\n\\n2. From Operational to Descriptive a. KPIs & Surveys: exercise 1 b. Masterclass 1: An gentle introduction to Psychometrics\\n\\n3. Strategic Workforce Planning: Thomas Pensaert 4. From Descriptive to Diagnostics:\\n\\na. Case study: A Retention Model b. Masterclass 2: A gentle introduction to Organisational Network Analysis\\n\\n5. From Diagnostics to Predictive/Prescriptive: a. Fair Pay b. Presentation 4 groups and evaluation\\n\\nFinal Assessment: Paper Fair Pay: report (from executive summary to high-level appendix) by 05/12\\n\\nWithin courses: HR Tech – what’s on the market, pro/con.\\n\\nM1: Introduction\\n\\nThe assessment\\n\\nMonday 21/11: Group Presentation\\n\\nContext\\n\\nThe Lauda Company is a traditional company that has been making toys since the early 1960s. To be prepared for the upcoming legislation on pay transparency, the HR Leader Total Reward wants to understand the Gender Pay Gap in the company. Next week, a presentation should be given to the Executive Board with the findings and possible actions if necessary.\\n\\nWhat is expected\\n\\nEach group is expected to present their findings to the others. The group that presents takes on the role of HR Leader Total Reward, the audience is the board.\\n\\nThe board expects a detailed analysis at different levels: in addition to the total pay gap at the organizational level, what is the gender pay gap for each grade? What is the gap for the different job families or business units? How can you correct for different factors? And what is the adjusted pay gap?\\n\\nSee Canvas site for Data\\n\\nFinal Assessment: Paper Fair Pay: Individual report\\n\\n(from executive summary to high-level appendix) by 05/12\\n\\nM1: Introduction\\n\\nToday\\n\\nHuman Resources: from 1920 to tomorrow\\n\\nPeople Analytics: creating business value\\n\\nPart 1 What is Human Resources\\n\\nWhat is HR?\\n\\nM1: What is HR? 1.1 Reputation?\\n\\nWhy We Hate HR (fastcompany.com)\\n\\nAfter close to 20 years of hopeful rhetoric about becoming “strategic partners” with a “seat at the table” where the business decisions that matter are made, most human-resources professionals aren’t nearly there. They have no seat, and the table is locked inside a conference room to which they have no key. HR people are, for most practical purposes, neither strategic nor leaders.\\n\\nHR people aren’t the sharpest tacks in the box. We’ll be blunt: If you are an ambitious young thing newly graduated from a top college or B-school with your eye on a rewarding career in business, your first instinct is not to join the human-resources dance. • HR pursues efficiency in lieu of value. Why? Because it’s easier — and easier to measure. • HR isn’t working for you. Want to know why you go through that asinine performance appraisal every year, really?\\n\\nThe corner office doesn’t get HR (and vice versa).\\n\\nM1: What is HR?\\n\\nWhy is HR essential to the business?\\n\\n“A company is only as good as its workforce” https://www.formstack.com/resources/blog-hr-essential-business\\n\\n1. 2. 3. 4.\\n\\nRecruiting top talent Developing leaders Managing Employee Performance and Satisfaction Building Corporate Culture\\n\\nHow The COVID-19 Crisis Has Made HR One Of The Most Important Jobs Today.\\n\\nhttps://www.entrepreneur.com/en-ae/growth-strategies/how-the-covid- 19-crisis-has-made-hr-one-of-the-most/350747\\n\\nWhile businesses continue to make hard decisions to stay afloat, HR teams work to keep up employee morale, reconfigure workflows, redeploy talent, and upskill staff to help them stay relevant.\\n\\nM1: What is HR?\\n\\n1.2 Historical Overview HR\\n\\nhttps://www.youtube.com/watch?v=rLVp-CrBnPo\\n\\nHuman Relations (1930)\\n\\nA focus on people, rather than upon machines or economics.\\n\\nHuman relations are important in motivating people - Motivation depends upon teamwork. - Human relations within teams must fulfill both individual and organizational objectives simultaneously Individuals and organizations desire efficiency by achieving maximum results with minimum inputs\\n\\n\\n\\nElton Mayo\\n\\nM1: What is HR?\\n\\n1.2 Historical Overview HR\\n\\nHugo Munsterberg created the field of industrial psychology – the scientific study of individuals at work to maximize their productivity and adjustment.\\n\\nMunsterberg suggested the use of psychological tests to improve employee selection, the value of learning theory in the development of training methods, and the study of human behavior to determine what techniques are most effective for motivating workers.\\n\\nPsychology and Industrial Efficiency (1913) From: https://www.citeman.com/7408-human- resources-approach.html\\n\\nM1: What is HR?\\n\\n1.2 Historical Overview HR\\n\\nPersonal management/ staffing policy 1945-1970\\n\\n\\n\\nIn large companies, a separate personnel department is a permanent feature.\\n\\n\\n\\nLittle cohesion between different activities; little integration; no overarching goal.\\n\\n\\n\\nLate 1960s: Revisionism: initiatives aimed at increasing employee involvement and participation.\\n\\nFrom personnel policy to (strategic) HRM\\n\\nM1: What is HR?\\n\\n1.2 Historical Overview HR\\n\\nPast (Personnel Management)\\n\\nHRM - Employees are the main capital of an organization;\\n\\nWork 9 to 5\\n\\nWork in an office\\n\\na source of income to invest in.\\n\\nUse company equipment\\n\\nPersonnel policy becomes embedded in the company\\'s strategy and the impact on workforce is also considered when making important decisions.\\n\\nFocused on inputs\\n\\nClimb the corporate ladder\\n\\n\\n\\nInvolvement of various line managers in personnel policy is crucial .\\n\\nPre-defined work\\n\\nHoards information\\n\\n= \\'internalization\\' of personnel policy\\n\\nNo voice\\n\\nFocused on knowledge\\n\\nPresent (HRM)\\n\\nWork anytime\\n\\nWork anywhere and from anywhere\\n\\nUse your own modern gadgets and requirements\\n\\nFocused on outputs\\n\\nCreate your own ladder for career\\n\\nCustomized work\\n\\nShares information\\n\\nCan become a leader\\n\\nFocused on adaptive learning\\n\\nM1: What is HR?\\n\\n1.2 Historical Overview HR\\n\\nPersonnel Management\\n\\nWork 9 to 5\\n\\nHRM Work anytime\\n\\nWork in an office\\n\\nWork anywhere and from anywhere\\n\\nUse company equipment\\n\\nUse your own modern gadgets and requirements\\n\\nFocused on inputs\\n\\nFocused on outputs\\n\\nClimb the corporate ladder\\n\\nCreate your own ladder for career\\n\\nPre-defined work\\n\\nCustomized work\\n\\nHoards information\\n\\nShares information\\n\\nNo voice\\n\\nCan become a leader\\n\\nFocused on knowledge\\n\\nFocused on adaptive learning\\n\\nhttps://www.whatishumanresource.com/human-resource-management\\n\\nM1: What is HR?\\n\\n1.2 Historical Overview HR\\n\\nThe HR Model defined by Ulrich brings 4 main criteria:\\n\\n1. Strategic partner\\n\\n2. Change agent\\n\\n3. Employee champion\\n\\n4. Administrative expert\\n\\nM1: What is HR?\\n\\n1.2 Historical Overview HR\\n\\n1. Strategic partner\\n\\nStrategic Partner is about alignment of HR activities and initiatives with the global business strategy, and it is the task of the HR Management and HR Business Partners. Sometimes, it sounds easy to implement Strategic Partnership, but it needs a lot of effort from Human Resources.\\n\\nM1: What is HR?\\n\\n1.2 Historical Overview HR\\n\\n2. Change agent\\n\\nChange Agent is a very important area of the Ulrich’s HR Model. Change agent is about supporting the change and transition of the business in the area of the human capital in the organization. The role of Human Resources is the support for change activities in the change effort area and ensuring the capacity for the changes.\\n\\nM1: What is HR?\\n\\n1.2 Historical Overview HR\\n\\n3. Employee champion\\n\\nEmployee Champion is a very important role of Human Resources. The employee advocate knows what employees need and HRM should know it. The employee advocate is able to take care about the interest of employees and to protect them during the process of the change in the organization.\\n\\nM1: What is HR?\\n\\n1.2 Historical Overview HR\\n\\n4. Administrative expert\\n\\nAdministrative Expert changes over the period of time. In the beginning, it was just about ensuring the maximum possible quality of delivered services, but nowadays the stress is put on the possibility to provide quality service at the lowest possible costs to the organization.\\n\\nM1: What is HR?\\n\\n1.3 HR Today\\n\\nHRM TRENDS AND CHALLENGES IN BELGIAN ORGANISATIONS (Vlerick Business School & Hudson)\\n\\nD. Ulrich (1997)\\n\\nM1: What is HR?\\n\\n1.3 HR Today\\n\\nFrom: https://www.whatishumanresource.com/Home\\n\\n“Human Resource Management is the process of recruiting, selecting, inducting employees, providing orientation, imparting training and development, appraising the performance of employees, deciding compensation and providing benefits, motivating employees, maintaining proper relations with employees and their trade unions, ensuring employees safety, welfare and healthy measures in compliance with labour laws.”\\n\\n“If the HR manager wants to be seen as a strategic partner, he must also be able to prove his added value in the language spoken by the management, namely numbers.” D. Ulrich\\n\\nM1: What is HR?\\n\\n1.4 HR Trends: Sustainable HRM\\n\\nfrom “what should people do” to “what can people do”\\n\\nEnvironment, Health & Safety (EHS),\\n\\nEnvironment, Social, Governance (ESG)\\n\\nM1: What is HR?\\n\\n1.4 HR Trends: HR Tech\\n\\nM1: What is HR?\\n\\n1.4 HR Trends: HR Tech\\n\\nM1: What is HR?\\n\\n1.4 HR Trends: HR Tech\\n\\nM1: What is HR?\\n\\n1.4 HR Trends: People Analytics\\n\\nPart 2\\n\\n• •\\n\\n•\\n\\n\\n\\nM1: What is People Analytics? 2.1.What’s in a name?\\n\\nPeople Analytics HR Analytics\\n\\nHR analytics = A HR practice enabled by information technology (IT) that uses\\n\\n-\\n\\n\\n\\ndescriptive, visual, and statistical analyses of data related to HR processes, human capital, organizational performance, and external economic benchmarks to establish business impact and enable data-driven evidence-based decision making.\\n\\n(adapted definition based on the definition of Marler and Boudreau, 2017).\\n\\nHR analytics is not HR metrics, it uses metrics. HR analytics uses data from different sources HR analytics uses information technology to collect, manipulate, and report data. HR analytics is about supporting people-related decisions HR analytics is about linking HR decisions to business outcomes and organizational performance. HR analytics as part of Evidence-based HR.\\n\\nWhich role plays People Analytics?\\n\\nM1: What is People Analytics? 2.2 HR Trends\\n\\nyear\\n\\nM1: What is People Analytics? 2.2 HR Trends\\n\\nhttps://trends.google.nl/\\n\\nThe global HR analytics market size was valued at USD 2.7 billion in 2021 and is expected to expand at a compound annual growth rate (CAGR) of 14.3% from 2022 to 2030. The growing need to efficiently use human resources, reduce operational costs in an organization, and gain real insights into employee behaviors is a key factor driving the market.”\\n\\n(Source: https://www.grandviewresearch.com) .\\n\\nOur research shows People analytics is deemed important but organizations don’t feel ready for it\\n\\n71%\\n\\nsee people analytics as a high priority in their organizations\\n\\n23%\\n\\nfeel they are ready to start with people analytics\\n\\n9%\\n\\nbelieve they have a good understanding of which talent dimensions drive performance\\n\\n2%\\n\\nhave fully integrated people analytics into the business\\n\\nAnd that shows Only 20% of organizations have business-focused people analytics functions\\n\\n4%\\n\\nLevel 4\\n\\nLevel 3\\n\\n16%\\n\\nINSTITUTIONALIZED AND BUSINESS INTEGRATED\\n\\nLevel 1\\n\\n12%\\n\\nLevel 2\\n\\nCONSOLIDATING AND BUILDING\\n\\n68%\\n\\nACCESSIBLE AND UTILIZED\\n\\nFocus shifts from HR to business goals with emerging delivery mechanisms to share data and insights broadly.\\n\\nPeople analytics integral to business & talent decisions & to everyday work.\\n\\nFRAGMENTED AND UNSUPPORTED\\n\\nData not considered a value driver.\\n\\nFocus on creating a “single source of truth” by building a data warehouse, enhancing data security, accuracy and timeliness\\n\\nM1: What is People Analytics? 2.2 HR Trends\\n\\n3 Biggest Challenges • Data Integration: make data relevant for business stakeholders • Data Culture: from operational/supportive HR to strategic partner • Competences: Data literacy\\n\\nM1: What is People Analytics? 2.3 Data Literacy\\n\\nPeople Analytics Data Scientist\\n\\nSQL\\n\\nGDPR\\n\\nPeople Analytics Translator\\n\\nhttps://xkcd.com/2048/\\n\\nAre you a PA Data Scientist or a PA Translator?\\n\\nM1: What is People Analytics?\\n\\n2.4 “data-driven”\\n\\nTo support decisions\\n\\nImportance of decision hygiene.\\n\\ne s o N\\n\\ni\\n\\nbias\\n\\nM1: What is People Analytics?\\n\\n2.4 “data-driven”\\n\\nEvidence-based besluitvorming\\n\\ne s o N\\n\\ni\\n\\nbias\\n\\nM1: What is People Analytics?\\n\\n2.4 “data-driven”\\n\\ne s o N\\n\\ni\\n\\nbias\\n\\nM1: What is People Analytics?\\n\\n2.4 “data-driven”\\n\\ne s o N\\n\\ni\\n\\nbias\\n\\nM1: What is People Analytics?\\n\\n2.5 Data as part of evidence-based decisions\\n\\nScientific literature\\n\\nPractitioners\\n\\nEmpirical studies\\n\\nProfessional Expertise\\n\\nOrganization\\n\\nStakeholders\\n\\nInternal data\\n\\nValues and concerns\\n\\nAsk Acquire Appraise Aggregate Apply Assess\\n\\nM1: What is People Analytics?\\n\\n2.5 Data as part of evidence-based decisions\\n\\nScientific literature\\n\\nEmpirical studies\\n\\nOrganization\\n\\nInternal data\\n\\nPractitioners\\n\\nProfessional Expertise\\n\\nStakeholders\\n\\nValues and concerns\\n\\nM1: What is People Analytics?\\n\\n2.5 Data as part of evidence-based decisions\\n\\nScientific literature\\n\\nEmpirical studies\\n\\nOrganization\\n\\nInternal data\\n\\nPractitioners\\n\\nProfessional Expertise\\n\\nStakeholders\\n\\nValues and concerns\\n\\nM1: What is People Analytics?\\n\\n2.5 Data as part of evidence-based decisions\\n\\nScientific literature\\n\\nEmpirical studies\\n\\nOrganization\\n\\nInternal data\\n\\nPractitioners\\n\\nProfessional Expertise\\n\\nStakeholders\\n\\nValues and concerns\\n\\nM1: What is People Analytics?\\n\\n2.5 Data as part of evidence-based decisions\\n\\nAt university, I became obsessed with Sigmund Freud and Jacques Lacan, whose theories made for great bar conversations in the late hours of the I realised Buenos Aires night until they pure metaphysical masturbation. I decided I needed a way out – a return to reality – so I moved to London and embraced British empiricism. Data became my new best friend.\\n\\nwere\\n\\nScientific literature\\n\\nEmpirical studies\\n\\nOrganization\\n\\nInternal data\\n\\nPractitioners\\n\\nProfessional Expertise\\n\\nStakeholders\\n\\nValues and concerns\\n\\nM1: What is People Analytics?\\n\\n2.5 Data as part of evidence-based decisions\\n\\nData science doesn’t just predict the future, it causes the future.\\n\\nScientific Scientific literature literature\\n\\nBeslissingen: •\\n\\nHoe vertalen of reduceren we een uitdaging zodat deze met data kan worden opgelost?\\n\\nEmpirical Empirical studies studies\\n\\nWelke data kunnen dienen als input voor het algoritme?\\n\\nWelke data kunnen dienen als input voor het algoritme?\\n\\nWelke algoritmes zullen we\\n\\n•\\n\\ngebruiken? Hoe interpreteren we data? Kunnen we de ene context gebruiken voor elke andere context?\\n\\nInternal data Internal data\\n\\nPractitioners Practitioners\\n\\nProfessional Professional Expertise Expertise\\n\\nStakeholders Stakeholders\\n\\nValues and Values and concerns concerns\\n\\n“ When all windows put their story together, things become interesting “\\n\\nM1: What is People Analytics?\\n\\n2.6 Adding Value to the business\\n\\nWhat Business problems can People Analytics address?\\n\\nM1: What is People Analytics?\\n\\n2.6 Adding Value to the business\\n\\nM1: What is People Analytics?\\n\\n2.7 Levels of Reporting\\n\\nLevels of reporting\\n\\nPrescriptive Determine intervention strategies\\n\\nPredictive 1. 2. Diagnostic 3. Descriptive 4. Operational\\n\\nBased on diagnostics – what can be expected? Projecting of future KPIs Get insight in and explore data: association structures within a set of variables? Basic metrics – – tables and graphs, dashboards (e.g. QlikView) Raw Data\\n\\nCampbell\\'s law\\n\\n\"The more any quantitative social indicator is used for social decision-making, the more subject it will be to corruption pressures and the more apt it will be to distort and corrupt the social processes it is intended to monitor.\"\\n\\nM1: What is People Analytics?\\n\\nBe the Fox…\\n\\nThe hedgehog and the fox\\n\\nThere are two main types of prognosticators: the hedgehog and the fox.\\n\\nHedgehogs are those who believe “in governing principles about the world that behave as though they were physical laws.”\\n\\nFoxes, by contrast, “are scrappy creatures who believe in a plethora of little ideas and in taking a multitude of approaches toward a problem.”\\n\\nThink multidisciplinary, use different methods and question yourself.\\n\\nTalk in terms of probability rather than certainty. Say \"it\\'s more likely that\" instead of \"it\\'s this or that\".\\n\\nIf you like to read or listen How to become a thermometer or thermostat')]"
      ]
     },
     "execution_count": 14,
     "metadata": {},
     "output_type": "execute_result"
    }
   ],
   "source": [
    "course_docs[9:12]"
   ]
  },
  {
   "cell_type": "markdown",
   "id": "87deb65e-44aa-4bee-ab53-f798deaacb5b",
   "metadata": {},
   "source": [
    "### Source 2: Vlerick website"
   ]
  },
  {
   "cell_type": "code",
   "execution_count": 30,
   "id": "1dd20bfb-5cc4-475b-a6b8-e6555e3f84ce",
   "metadata": {},
   "outputs": [
    {
     "name": "stdout",
     "output_type": "stream",
     "text": [
      "Number of documents 145\n",
      "Number of non-trivial documents 113\n"
     ]
    },
    {
     "data": {
      "text/plain": [
       "[Document(metadata={'source': 'https://www.vlerick.com/en/alumni/lifelong-learning/'}, page_content='Lifelong learning - Vlerick Alumni\\nCutting-edge insights\\nFrom white papers, articles and opinions to podcasts, videos and research reports, we translate our ground-breaking research and our faculty’s expertise into highly relevant, easy-to-digest insights and tools. Whatever your discipline or industry, you’ll find the latest news, articles and research to take your thinking further. \\nLibrary services for alumni\\nThe doors to the Vlerick Library are always open, even after you’ve graduated. You can reserve books via our online database and pick them up from our campuses. You can find our latest insights on the Vlerick repository, which houses all our academic research and publications. And you can access the HSTalks Business and Management Collection, a collection of more than 1,300 case studies, peer-reviewed vocational journals, video lectures and industry insights. \\nDiscount on Executive Education\\nTo stay ahead, you need to keep learning and developing. That’s why we give Vlerick Alumni members a 10% discount on all open programmes – including our renowned executive education programmes, and conferences. \\nJoin a Vlerick Alumni Club\\nOur active Alumni Clubs are a great way to network with peers and stay up-to-date with the latest trends in your chosen field. Whether you’re a keen golfer or a budding entrepreneur, there’s a Vlerick Alumni Club for you.'),\n",
       " Document(metadata={'source': 'https://www.vlerick.com/en/find-a-programme/'}, page_content='Find the programme that will change your future\\nField of interest\\nDigital Transformation and AI\\nHuman Resource Management\\nOperations & Supply Chain Management\\nPeople Management & Leadership\\nExperience level\\nYoung graduate (0-3 years)\\nFormat\\nStart period\\nLanguage\\nLocation\\nFees\\nProgramme type\\nEuropean Executive MBA\\nSustainability, General Management\\nExperience level:\\nProfessional\\nPart-time, Blended, MBA\\nUpcoming editions:\\n21 Jan 2026 - 15 months - English - Brussels - Paris - Copenhagen - Dublin - Zaragoza\\nExecutive MBA\\nGeneral Management\\nExperience level:\\nProfessional\\nPart-time, MBA\\nUpcoming editions:\\n17 Oct 2025 - Fri-Sat/4-weekly/18 months - English - Brussels, Ghent\\nOnline Executive MBA\\nGeneral Management\\nExperience level:\\nProfessional\\nPart-time, Online, MBA\\nUpcoming editions:\\n17 Oct 2025 - 18 months - English - Online\\nFull-time MBA Programme\\nGeneral Management\\nExperience level:\\nProfessional\\nFull-time, MBA\\nUpcoming editions:\\n1 Sep 2025 - English - Brussels\\nExecutive PhD programme\\nGeneral Management\\nExperience level:\\nProfessional\\nBlended, Part-time\\nUpcoming editions:\\n1 Sep 2025 - 5 years - English - Brussels, Ghent, Online\\nMasters in Financial Management\\nAccounting & Finance\\nExperience level:\\nYoung graduate (0-3 years)\\nFull-time, 1 year or double degree\\nUpcoming editions:\\n1 Sep 2025 - English - Brussels')]"
      ]
     },
     "execution_count": 30,
     "metadata": {},
     "output_type": "execute_result"
    }
   ],
   "source": [
    "\n",
    "from langchain_community.document_loaders import ApifyDatasetLoader\n",
    "from langchain_core.documents import Document\n",
    "\n",
    "loader = ApifyDatasetLoader(\n",
    "    dataset_id=\"T0s7afek7lckeNDKO\",\n",
    "    dataset_mapping_function=lambda dataset_item: Document(\n",
    "        page_content=dataset_item[\"text\"], metadata={\"source\": dataset_item[\"url\"]}\n",
    "    ),\n",
    ")\n",
    "\n",
    "website_docs = loader.load()\n",
    "print(f\"Number of documents {len(website_docs)}\")\n",
    "website_docs = [doc for doc in website_docs if not doc.page_content.endswith(\"If you would like to read more about which cookies we use, please view our cookie policy.\")]\n",
    "print(f\"Number of non-trivial documents {len(website_docs)}\")\n",
    "website_docs[5:7]"
   ]
  },
  {
   "cell_type": "code",
   "execution_count": null,
   "id": "438e54a0-8dc0-4fb1-b666-f54802e85408",
   "metadata": {},
   "outputs": [],
   "source": []
  },
  {
   "cell_type": "code",
   "execution_count": 31,
   "id": "4bfc75d6-a218-4c49-8949-35c8fed54a34",
   "metadata": {},
   "outputs": [
    {
     "name": "stderr",
     "output_type": "stream",
     "text": [
      "Created a chunk of size 2234, which is longer than the specified 1000\n",
      "Created a chunk of size 1251, which is longer than the specified 1000\n",
      "Created a chunk of size 2234, which is longer than the specified 1000\n",
      "Created a chunk of size 1461, which is longer than the specified 1000\n",
      "Created a chunk of size 1417, which is longer than the specified 1000\n",
      "Created a chunk of size 2498, which is longer than the specified 1000\n"
     ]
    },
    {
     "name": "stdout",
     "output_type": "stream",
     "text": [
      "Number of chunks 1222\n"
     ]
    }
   ],
   "source": [
    "text_splitter = CharacterTextSplitter(chunk_size=1000, chunk_overlap=0)\n",
    "documents = text_splitter.split_documents(course_docs + website_docs)\n",
    "documents[0]\n",
    "print(f\"Number of chunks {len(documents)}\")"
   ]
  },
  {
   "cell_type": "markdown",
   "id": "472d4428-d9b8-4b62-be3d-cbed5058fe6c",
   "metadata": {},
   "source": [
    "### Embed into a vector store - and cache the results\n",
    "We got a decent store of data loaded into memory now. Next thing we need to do is calculate sentence embeddings. \n",
    "We'll use simple, reasonably fast embeddings that we can calculate locally withouting requiring an expensive GPU or cloud service like OpenAI's GPTx."
   ]
  },
  {
   "cell_type": "code",
   "execution_count": 32,
   "id": "d8ed4206-743d-4e72-b471-e2e300642645",
   "metadata": {},
   "outputs": [
    {
     "name": "stdout",
     "output_type": "stream",
     "text": [
      "CPU times: user 1.97 s, sys: 714 ms, total: 2.68 s\n",
      "Wall time: 7.39 s\n"
     ]
    }
   ],
   "source": [
    "%%time\n",
    "\n",
    "embeddings = HuggingFaceEmbeddings(model_name=\"all-MiniLM-L6-v2\")\n",
    "# to test, use query_result = embeddings.embed_query(\"My text\")\n",
    "\n",
    "if True: # change to True if you want to (re)create your store   \n",
    "    vectorstore = FAISS.from_documents(\n",
    "        documents, embedding=embeddings\n",
    "    )\n",
    "    # store because this is slow\n",
    "    vectorstore.save_local(\"vectorstore\") "
   ]
  },
  {
   "cell_type": "code",
   "execution_count": 33,
   "id": "b0c74ddc-4144-4ff6-a4bf-4f64b9ef1010",
   "metadata": {},
   "outputs": [
    {
     "data": {
      "text/plain": [
       "<faiss.swigfaiss.IndexFlatL2; proxy of <Swig Object of type 'faiss::IndexFlatL2 *' at 0x382fb9680> >"
      ]
     },
     "execution_count": 33,
     "metadata": {},
     "output_type": "execute_result"
    }
   ],
   "source": [
    "vectorstore = FAISS.load_local(\"vectorstore\", embeddings, allow_dangerous_deserialization=True)\n",
    "vectorstore.index"
   ]
  },
  {
   "cell_type": "code",
   "execution_count": 34,
   "id": "8a80908f-1696-461d-98ca-f973038139dc",
   "metadata": {},
   "outputs": [],
   "source": [
    "from langchain.embeddings import OpenAIEmbeddings\n",
    "from langchain.prompts import ChatPromptTemplate\n",
    "from langchain.schema.output_parser import StrOutputParser\n",
    "from langchain.chat_models import ChatOpenAI\n",
    "from operator import itemgetter\n",
    "\n",
    "retriever = vectorstore.as_retriever(k=8)\n"
   ]
  },
  {
   "cell_type": "code",
   "execution_count": 35,
   "id": "9dcf70a1-b150-47bc-af58-9de50d0cd07e",
   "metadata": {},
   "outputs": [
    {
     "name": "stdout",
     "output_type": "stream",
     "text": [
      "####################################################################################################\n",
      "example data/MAI-2023 dump/Deep_Learning/MAI01-neural networks - handouts.pdf\n",
      "####################################################################################################\n",
      "𝜕𝜀 𝜕𝜀 𝜕𝑤4 = 𝜕𝑦 𝜕𝑜4 𝜕𝑤5 𝜕𝑤4 𝜕𝑜4\n",
      "\n",
      "𝜕𝑦 𝜕𝑤5 𝜕𝑤4 𝜕𝑜3\n",
      "\n",
      "𝜕𝜀 𝜕𝑤3 = 𝜕𝑤5 𝜕𝑜4 𝜕𝑜4 𝜕𝑤4\n",
      "\n",
      "𝜕𝜀 𝜕𝑦\n",
      "\n",
      "𝜕𝑦 𝜕𝑤5\n",
      "\n",
      "𝜕𝑤4 𝜕𝑜3\n",
      "\n",
      "𝜕𝑜3 𝜕𝑤3\n",
      "\n",
      "𝜕𝑤3 𝜕𝑜2\n",
      "\n",
      "𝜕𝑜2 𝜕𝑤2\n",
      "\n",
      "𝜕𝜀 𝜕𝑤5 = 𝜕𝑤5 𝜕𝑜4 𝜕𝑜3 𝜕𝑤3\n",
      "\n",
      "𝜕𝜀 𝜕𝑦 𝜕𝑜4 𝜕𝑤4\n",
      "\n",
      "𝜕𝑦 𝜕𝑤5\n",
      "\n",
      "© Prof. dr. Philippe Baecke\n",
      "\n",
      "KEY ELEMENTS OF NEURAL NETWORKS\n",
      "\n",
      "Gradient descent: ▪\n",
      "\n",
      "In reality, loss landscape may not be smooth\n",
      "\n",
      "w2\n",
      "\n",
      "Gradient descent\n",
      "\n",
      "Loss\n",
      "\n",
      "Source: https://www.cs.umd.edu/~tomg/projects/landscapes/\n",
      "\n",
      "w1\n",
      "\n",
      "© Prof. dr. Philippe Baecke\n",
      "\n",
      "KEY ELEMENTS OF NEURAL NETWORKS\n",
      "\n",
      "Learning rate: = hyperparameter that determines how much to change the weights in response to the estimated error each time the model is updated ▪ Needs to be chosen well:\n",
      "\n",
      "© Prof. dr. Philippe Baecke\n",
      "\n",
      "KEY ELEMENTS OF NEURAL NETWORKS\n",
      "\n",
      "Optimizers: ▪\n",
      "\n",
      "In reality, loss landscape may not be smooth ▪ Possibly many local minima\n",
      "\n",
      "w2\n",
      "\n",
      "Gradient descent\n",
      "\n",
      "Loss\n",
      "\n",
      "▪ Different optimization\n",
      "\n",
      "algorithms to search for the lowest loss with ▪ Varying learning rate 𝜂 ▪ History of gradients in previous\n",
      "\n",
      "iterations\n",
      "####################################################################################################\n",
      "example data/MAI-2023 dump/Deep_Learning/MAI01-neural networks - handouts.pdf\n",
      "####################################################################################################\n",
      "Mean squared error loss function:\n",
      "\n",
      "Overview of loss functions in Keras: https://keras.io/api/losses/\n",
      "\n",
      "© Prof. dr. Philippe Baecke\n",
      "\n",
      "KEY ELEMENTS OF NEURAL NETWORKS\n",
      "\n",
      "Overview activation and loss function depending on the problem\n",
      "\n",
      "© Prof. dr. Philippe Baecke\n",
      "\n",
      "KEY ELEMENTS OF NEURAL NETWORKS\n",
      "\n",
      "Gradient descent: ▪\n",
      "\n",
      "In reality, loss landscape may not be smooth\n",
      "\n",
      "Random start\n",
      "\n",
      "w2\n",
      "\n",
      "Loss\n",
      "\n",
      "Source: https://www.cs.umd.edu/~tomg/projects/landscapes/\n",
      "\n",
      "w1\n",
      "\n",
      "© Prof. dr. Philippe Baecke\n",
      "\n",
      "KEY ELEMENTS OF NEURAL NETWORKS\n",
      "\n",
      "Input layer\n",
      "\n",
      "Hidden layer\n",
      "\n",
      "Output layer\n",
      "\n",
      "ℎ = weight\n",
      "\n",
      "𝑤11\n",
      "\n",
      "X1\n",
      "\n",
      "0,3\n",
      "\n",
      "3,5 0,97\n",
      "\n",
      "Error\n",
      "\n",
      "e = 0,66\n",
      "\n",
      "𝑑𝑒𝑟𝑖𝑣𝑎𝑡𝑖𝑣𝑒\n",
      "\n",
      "ℎ 𝑤11\n",
      "\n",
      "© Prof. dr. Philippe Baecke\n",
      "\n",
      "KEY ELEMENTS OF NEURAL NETWORKS\n",
      "\n",
      "Gradient descent: ▪ Gradients can be determined – one layer at a time – by the chain rule ▪ To determine the gradient at a particular layer, you only need gradients from the\n",
      "\n",
      "𝑥\n",
      "\n",
      "subsequent layers ➔ known as back-propagation 𝑤4\n",
      "\n",
      "𝑤1\n",
      "\n",
      "𝑤2\n",
      "\n",
      "𝑤3\n",
      "\n",
      "𝑜1\n",
      "\n",
      "𝑜2\n",
      "\n",
      "𝑜3\n",
      "\n",
      "𝑜4\n",
      "\n",
      "𝑤5\n",
      "\n",
      "𝑦\n",
      "\n",
      "Error 𝜀\n",
      "\n",
      "𝜕𝜀 𝜕𝑤2 =\n",
      "\n",
      "𝜕𝜀 𝜕𝑦\n",
      "\n",
      "𝜕𝑦 𝜕𝑤5\n",
      "####################################################################################################\n",
      "example data/MAI-2023 dump/Deep_Learning/MAI01-neural networks - handouts.pdf\n",
      "####################################################################################################\n",
      "Source: https://www.cs.umd.edu/~tomg/projects/landscapes/\n",
      "\n",
      "w1\n",
      "\n",
      "© Prof. dr. Philippe Baecke\n",
      "\n",
      "KEY ELEMENTS OF NEURAL NETWORKS\n",
      "\n",
      "Optimizers: ▪\n",
      "\n",
      "In reality, loss landscape may not be smooth ▪ Possibly many local minima\n",
      "\n",
      "w2\n",
      "\n",
      "Gradient descent\n",
      "\n",
      "Loss\n",
      "\n",
      "▪ Different optimization\n",
      "\n",
      "algorithms to search for the lowest loss with ▪ Varying learning rate 𝜂 ▪ History of gradients in previous\n",
      "\n",
      "iterations\n",
      "\n",
      "Source: https://www.cs.umd.edu/~tomg/projects/landscapes/\n",
      "\n",
      "w1\n",
      "\n",
      "© Prof. dr. Philippe Baecke\n",
      "\n",
      "KEY ELEMENTS OF NEURAL NETWORKS\n",
      "\n",
      "Optimizers: overview\n",
      "\n",
      "© Prof. dr. Philippe Baecke\n",
      "\n",
      "KEY ELEMENTS OF NEURAL NETWORKS\n",
      "\n",
      "Optimizers:\n",
      "\n",
      "My favourite: ADAM optimizer\n",
      "\n",
      "Stochastic gradient descent maintains a single learning rate for all weight updates and the learning rate does not change during training, while ADAM smartly adapts the parameter learning rate based on a combination of two technique Adaptive Gradient Algorithm (adagrad) and Root Mean Square Propagation (RMSProp)\n",
      "\n",
      "→ Adaptive learning rate > Better training\n",
      "####################################################################################################\n",
      "example data/MAI-2023 dump/Deep_Learning/MAI03-RNN-part1.pptx.pdf\n",
      "####################################################################################################\n",
      "L2\n",
      "\n",
      "Predicted output compared to ground truth defines Loss\n",
      "\n",
      "L\n",
      "\n",
      "© Prof. dr. Philippe Baecke\n",
      "\n",
      "Backpropagation through time (BPTT)\n",
      "\n",
      "X0\n",
      "\n",
      "X1\n",
      "\n",
      "X2\n",
      "\n",
      "h0\n",
      "\n",
      "h1\n",
      "\n",
      "Y0\n",
      "\n",
      "Y1\n",
      "\n",
      "Y2\n",
      "\n",
      "L0\n",
      "\n",
      "L1\n",
      "\n",
      "L2\n",
      "\n",
      "During backpropagation the gradients ﬂow backward across time steps.\n",
      "\n",
      "L\n",
      "\n",
      "© Prof. dr. Philippe Baecke\n",
      "\n",
      "Backpropagation through time (BPTT)\n",
      "\n",
      "In vanilla RNNs, vanishing/exploding gradient comes from the repeated application of the recurrent connections. More explicitly, they happen because of recursive derivative we need to compute.\n",
      "\n",
      "© Prof. dr. Philippe Baecke\n",
      "\n",
      "2 major challenges when training RNNs\n",
      "\n",
      "1. Vanishing gradients (many values <1)\n",
      "\n",
      "2.\n",
      "\n",
      "Exploding gradients (many values >1)\n",
      "\n",
      "© Prof. dr. Philippe Baecke\n",
      "\n",
      "Multiple ways to mitigate\n",
      "\n",
      "© Prof. dr. Philippe Baecke\n",
      "\n",
      "Expose your sins - exercise\n",
      "\n",
      "Lucky us... This is available in tf.Keras\n",
      "\n",
      "⇒ Let’s try our first RNN model!\n",
      "\n",
      "© Prof. dr. Philippe Baecke\n",
      "\n",
      "Shape, units, time step, …\n",
      "\n",
      "© Prof. dr. Philippe Baecke\n",
      "\n",
      "RNN input\n"
     ]
    }
   ],
   "source": [
    "def q(s):\n",
    "    results = retriever.get_relevant_documents(s)\n",
    "    for doc in results:\n",
    "        print(\"#\"*100)\n",
    "        print(doc.metadata[\"source\"])\n",
    "        print(\"#\"*100)\n",
    "        print(doc.page_content)\n",
    "q(\"stochastic gradient descent\")"
   ]
  },
  {
   "cell_type": "code",
   "execution_count": 37,
   "id": "84b51e1d-d731-4d93-aff5-4a191740e987",
   "metadata": {},
   "outputs": [
    {
     "name": "stdout",
     "output_type": "stream",
     "text": [
      "####################################################################################################\n",
      "https://www.vlerick.com/en/newsletter/\n",
      "####################################################################################################\n",
      "Email updates from Vlerick | Vlerick Business School\n",
      "Do you want to stay up-to-date with what’s happening at Vlerick – and be the first to know about our upcoming events and programmes? Would you like to get cutting-edge business insights sent to your inbox? Or are you keen to stay connected to the Vlerick alumni network? Then subscribe for our email updates.\n",
      "Simply fill out the form below to let us know the kinds of information you’d like to get from us. And keep an eye on your inbox – we’ll be sending you inspiring content very soon.\n",
      "####################################################################################################\n",
      "https://www.vlerick.com/en/about-vlerick/giving/\n",
      "####################################################################################################\n",
      "The many ways to donate to Vlerick\n",
      "Why give to Vlerick?\n",
      "By giving back to Vlerick, you’ll provide direct support for pioneering entrepreneurship, help drive the School’s strategic projects or contribute to scholarships that will attract bright minds from around the world with the capacity to change that world for the better.\n",
      "Give back with your class\n",
      "The Vlerick experience is life-changing. Very often, the bonds you forge here end up lasting a lifetime. \n",
      "PUB90 was the first to set up a class donation. “In the short term, we want to offer support to cover the cost of living for a promising student. In the long term, we envisage contributing to the Scholarship Fund. Vlerick has given us so much. Not just knowledge and insights but also friendship, laughter and a sense of purpose.”\n",
      "Do you want to reunite with your classmates and reconnect with the place that shaped who you are today? Contact us to celebrate a milestone reunion.\n",
      "Make a difference to our collective future\n",
      "“Social entrepreneurship can be profitable”\n",
      "“At Vlerick I learned that social entrepreneurship can be a valid, profitable business model. They also showed me how to get investors to understand this.” With support from the Vlerick Entrepreneurship Fund, Clara Maspons (MIE, 2021) and her social start-up Maternia are helping to improve access for pregnant women to adequate healthcare. “It has been an unbelievable journey. Vlerick played a key role in turning the idea into a reality and supported our approach to prioritise social impact over profit.”\n",
      "“For students who normally wouldn’t have the possibility to study at Vlerick”\n",
      "“When I entered our family business, my father passed away. At Vlerick, I was surrounded by alumni and professors who really helped me in those early days.” Today, Michel Moortgat (PUB, 1991 – IGMO, 1998), CEO of Duvel Moortgat, wants to give back to the school. “I thought it would be wonderful if we could fund scholarships on a regular basis for students who normally wouldn’t have the possibility to study at Vlerick.”\n",
      "Make a difference to our collective future\n",
      "Give with impact\n",
      "Every donation, big or small, makes a difference. Want to know how your donation is put to work? How much goes into each of our three strategic funds? Why do donors give back? And what leap students were able to make because of their scholarship? Find out in our special fundraising report.\n",
      "Corporate sponsors\n",
      "####################################################################################################\n",
      "https://www.vlerick.com/en/about-vlerick/giving/funds/\n",
      "####################################################################################################\n",
      "The many ways to donate to Vlerick\n",
      "STUDENT ENTREPRENEURSHIP FUND\n",
      "It takes guts to succeed as a start-up. But it takes just as much knowledge, guidance and openness towards others and the world.\n",
      "At Vlerick, we provide the fertile ground for pioneering entrepreneurship to flourish. And with our Student Entrepreneurship Fund, we empower our student entrepreneurs to transform it into a leap for change.\n",
      "Jorg Hendrikx (left), co-founder of Qviro, received seed money from the Student Entrepreneurship Fund. \n",
      "Help our student entrepreneurs take the leap.\n",
      "####################################################################################################\n",
      "https://www.vlerick.com/en/insights/\n",
      "####################################################################################################\n",
      "Vlerick Insights | Vlerick Business School\n",
      "Looking for the latest business insights? We translate our groundbreaking research into easy-to-digest white papers, articles, podcasts and videos – so you can access the knowledge and tools to take your thinking further. Search for your chosen subject here. \n",
      "You can also get an inside view of Vlerick with regular school updates, programme news, alumni stories and testimonials.\n"
     ]
    }
   ],
   "source": [
    "q(\"vlerick donations\")"
   ]
  },
  {
   "cell_type": "code",
   "execution_count": null,
   "id": "32ba6dee-4871-42f4-a22e-371437e57d41",
   "metadata": {},
   "outputs": [],
   "source": []
  },
  {
   "cell_type": "code",
   "execution_count": null,
   "id": "da656ab0-eda2-424a-af9f-43d0eb609544",
   "metadata": {},
   "outputs": [],
   "source": []
  }
 ],
 "metadata": {
  "kernelspec": {
   "display_name": ".venv",
   "language": "python",
   "name": "python3"
  },
  "language_info": {
   "codemirror_mode": {
    "name": "ipython",
    "version": 3
   },
   "file_extension": ".py",
   "mimetype": "text/x-python",
   "name": "python",
   "nbconvert_exporter": "python",
   "pygments_lexer": "ipython3",
   "version": "3.12.9"
  }
 },
 "nbformat": 4,
 "nbformat_minor": 5
}
