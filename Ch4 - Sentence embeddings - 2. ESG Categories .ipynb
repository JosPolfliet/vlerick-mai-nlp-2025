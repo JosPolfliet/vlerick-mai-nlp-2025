{
 "cells": [
  {
   "cell_type": "markdown",
   "id": "06cd0adc-60ff-4e8c-9a36-43f59ce578de",
   "metadata": {},
   "source": [
    "# Sentence embeddings\n",
    "We will mainly use `sentence-transformers`, which is a dedicated package from Hugging Face 🤗. \n",
    "\n",
    "Relevant documentation\n",
    "- Semantic textual similarity https://www.sbert.net/docs/usage/semantic_textual_similarity.html\n",
    "- Semantic search https://www.sbert.net/examples/applications/semantic-search/README.html"
   ]
  },
  {
   "cell_type": "markdown",
   "id": "5ed070c3-50f0-4d3c-ad73-4b5fef706279",
   "metadata": {
    "scrolled": true
   },
   "source": [
    "### From word embeddings to sentence embeddings"
   ]
  },
  {
   "cell_type": "code",
   "execution_count": 14,
   "id": "0655c877-870d-4e6e-a23d-262736738f51",
   "metadata": {},
   "outputs": [],
   "source": [
    "try:\n",
    "    from mai_nlp_helper_functions import *\n",
    "except ImportError as e:\n",
    "    raise ImportError(\"You don't have the mai_nlp_helper_functions.py file in the same directory as your note book. Either add it, or copy paste the contents in this cell\") from e"
   ]
  },
  {
   "cell_type": "code",
   "execution_count": 15,
   "id": "c10fd65a-d607-4a2f-8e46-c07bb71ec11e",
   "metadata": {},
   "outputs": [],
   "source": [
    "import nest_asyncio\n",
    "nest_asyncio.apply()"
   ]
  },
  {
   "cell_type": "code",
   "execution_count": 16,
   "id": "4719a35b",
   "metadata": {},
   "outputs": [],
   "source": [
    "import pandas as pd\n",
    "import numpy as np\n",
    "\n",
    "from tqdm import tqdm\n",
    "from sklearn.model_selection import train_test_split\n",
    "tqdm.pandas()"
   ]
  },
  {
   "cell_type": "code",
   "execution_count": 17,
   "id": "7561835f",
   "metadata": {},
   "outputs": [
    {
     "data": {
      "text/html": [
       "<div>\n",
       "<style scoped>\n",
       "    .dataframe tbody tr th:only-of-type {\n",
       "        vertical-align: middle;\n",
       "    }\n",
       "\n",
       "    .dataframe tbody tr th {\n",
       "        vertical-align: top;\n",
       "    }\n",
       "\n",
       "    .dataframe thead th {\n",
       "        text-align: right;\n",
       "    }\n",
       "</style>\n",
       "<table border=\"1\" class=\"dataframe\">\n",
       "  <thead>\n",
       "    <tr style=\"text-align: right;\">\n",
       "      <th></th>\n",
       "      <th>text</th>\n",
       "      <th>subject</th>\n",
       "    </tr>\n",
       "  </thead>\n",
       "  <tbody>\n",
       "    <tr>\n",
       "      <th>0</th>\n",
       "      <td>Since its inception in 2010, we have distribut...</td>\n",
       "      <td>Social</td>\n",
       "    </tr>\n",
       "    <tr>\n",
       "      <th>1</th>\n",
       "      <td>I will focus first on traffic, which is a key ...</td>\n",
       "      <td>Other</td>\n",
       "    </tr>\n",
       "    <tr>\n",
       "      <th>2</th>\n",
       "      <td>Also, many farms are aged with degraded soil t...</td>\n",
       "      <td>Environmental</td>\n",
       "    </tr>\n",
       "    <tr>\n",
       "      <th>3</th>\n",
       "      <td>Alaska 2009 STEWARDSHIP REPORT54 cOnSERvATIOn,...</td>\n",
       "      <td>Social</td>\n",
       "    </tr>\n",
       "    <tr>\n",
       "      <th>4</th>\n",
       "      <td>The company’s U.S. GOM operations can be impac...</td>\n",
       "      <td>Other</td>\n",
       "    </tr>\n",
       "    <tr>\n",
       "      <th>...</th>\n",
       "      <td>...</td>\n",
       "      <td>...</td>\n",
       "    </tr>\n",
       "    <tr>\n",
       "      <th>2180</th>\n",
       "      <td>American shad are a species of concern for res...</td>\n",
       "      <td>Environmental</td>\n",
       "    </tr>\n",
       "    <tr>\n",
       "      <th>2181</th>\n",
       "      <td>Weyerhaeuser's policies address best practices...</td>\n",
       "      <td>Other</td>\n",
       "    </tr>\n",
       "    <tr>\n",
       "      <th>2182</th>\n",
       "      <td>compares recently observed trends in weather p...</td>\n",
       "      <td>Environmental</td>\n",
       "    </tr>\n",
       "    <tr>\n",
       "      <th>2183</th>\n",
       "      <td>If our partners, including our licensors, suff...</td>\n",
       "      <td>Other</td>\n",
       "    </tr>\n",
       "    <tr>\n",
       "      <th>2184</th>\n",
       "      <td>Subsequently through three separate acquisitio...</td>\n",
       "      <td>Other</td>\n",
       "    </tr>\n",
       "  </tbody>\n",
       "</table>\n",
       "<p>2185 rows × 2 columns</p>\n",
       "</div>"
      ],
      "text/plain": [
       "                                                   text        subject\n",
       "0     Since its inception in 2010, we have distribut...         Social\n",
       "1     I will focus first on traffic, which is a key ...          Other\n",
       "2     Also, many farms are aged with degraded soil t...  Environmental\n",
       "3     Alaska 2009 STEWARDSHIP REPORT54 cOnSERvATIOn,...         Social\n",
       "4     The company’s U.S. GOM operations can be impac...          Other\n",
       "...                                                 ...            ...\n",
       "2180  American shad are a species of concern for res...  Environmental\n",
       "2181  Weyerhaeuser's policies address best practices...          Other\n",
       "2182  compares recently observed trends in weather p...  Environmental\n",
       "2183  If our partners, including our licensors, suff...          Other\n",
       "2184  Subsequently through three separate acquisitio...          Other\n",
       "\n",
       "[2185 rows x 2 columns]"
      ]
     },
     "execution_count": 17,
     "metadata": {},
     "output_type": "execute_result"
    }
   ],
   "source": [
    "df = pd.read_csv(\"https://media.githubusercontent.com/media/JosPolfliet/vlerick-mai-nlp-2023/main/DATA/esg_reports.csv\")\n",
    "df[\"subject\"] = df[\"subject\"].fillna(\"Other\")\n",
    "df"
   ]
  },
  {
   "cell_type": "code",
   "execution_count": 18,
   "id": "11ee6e0a",
   "metadata": {},
   "outputs": [
    {
     "name": "stdout",
     "output_type": "stream",
     "text": [
      "Shape: (384,)\n"
     ]
    },
    {
     "data": {
      "text/plain": [
       "array([-0.09256149, -0.42923   , -0.1940513 , -0.20812997,  0.3887121 ,\n",
       "        0.05996908, -0.4052988 , -0.12300907, -0.13854708,  0.1655856 ,\n",
       "       -0.18656206, -0.00337574,  0.01154224, -0.14203285, -0.01295885,\n",
       "        0.12488805, -0.13013142, -0.29453832,  0.40909117, -0.38689947,\n",
       "       -0.6521384 , -0.48963892,  0.36488706, -0.23936453, -0.21317144,\n",
       "       -0.13428761,  0.07301812, -0.08748028, -0.27836606, -0.06562182,\n",
       "        0.15807995,  0.19137242,  0.05533346, -0.01790362, -0.32609546,\n",
       "        0.07910851, -0.13638416, -0.11085165, -0.3085413 , -0.2529453 ,\n",
       "        0.00459315, -0.18957312,  0.14105524, -0.0336583 ,  0.02829272,\n",
       "       -0.12054776, -0.26604372,  0.31348324, -0.15021652, -0.4920502 ,\n",
       "        0.44954318, -0.6702832 ,  0.264559  , -0.6560265 , -0.10691288,\n",
       "        0.50342584,  0.31831467,  0.200367  ,  0.2870475 , -0.35019258,\n",
       "        0.536377  , -0.6797642 , -0.00842874,  0.03310847,  0.36897954,\n",
       "       -0.07891325, -0.05243663,  0.05798031,  0.01059717,  0.19111277,\n",
       "       -0.13565008, -0.13307212,  0.62490714,  0.22026724,  0.32856223,\n",
       "       -0.01637137,  0.17515059,  0.04583077,  0.45589682,  0.10419751,\n",
       "        0.17671575,  0.24941383, -0.19055842, -0.21583694,  0.04279254,\n",
       "        0.49206167, -0.0590563 , -0.49142122, -0.15305732, -0.03820093,\n",
       "       -0.49145344,  0.05416916, -0.23372172, -0.03604378,  0.07499156,\n",
       "        0.3497368 , -0.24993049, -0.37817878,  0.02081485,  0.1375415 ,\n",
       "       -0.20419635,  0.30244222,  0.15363869, -0.51225644, -0.3405689 ,\n",
       "       -0.06627335,  0.03297827,  0.09952771,  0.01408083, -0.2022562 ,\n",
       "       -0.04419893, -0.1204609 ,  0.1485936 , -0.4267114 ,  0.54776675,\n",
       "        0.18203853, -0.21193786, -0.2909527 ,  0.24137442, -0.36957026,\n",
       "        0.25690776, -0.34464592,  0.05614802, -0.5286064 , -0.23794778,\n",
       "        0.20642622, -0.55412376, -0.07334325, -0.27277765,  0.28038833,\n",
       "       -0.352465  ,  0.3292944 ,  0.51021284, -0.27823073,  0.11822738,\n",
       "        0.32335693, -0.47859007, -0.20445181, -0.06637376,  0.4162311 ,\n",
       "       -0.05442613,  0.6896017 ,  0.44935217, -0.3271239 , -0.21127874,\n",
       "        0.23653965,  0.54316634, -0.10423456,  0.3577096 , -0.29592627,\n",
       "        0.01114083,  0.00962308,  0.38801107, -0.25400585,  0.46887642,\n",
       "        0.45288026,  0.2960435 ,  0.02128702,  0.16133478,  0.27935168,\n",
       "       -0.51231915,  0.01192487, -0.27650803, -0.48823616, -0.40843564,\n",
       "       -0.51510984,  0.14103016,  0.10906563,  0.00284382,  0.19298583,\n",
       "       -0.30252838, -0.24412923,  0.19746304,  0.03780627, -0.07696792,\n",
       "       -0.03385846,  0.4437181 , -0.15584026, -0.0029364 ,  0.11866648,\n",
       "        0.23824975,  0.10040961,  0.0161658 , -0.18140094, -0.44688627,\n",
       "        0.07284297, -0.08200647, -0.49859944,  0.35807383, -0.14536637,\n",
       "       -0.6344181 ,  0.8598231 ,  0.1815271 ,  0.322236  ,  0.47895968,\n",
       "        0.12027781,  0.43949685,  0.21823001,  0.3519579 , -0.12511648,\n",
       "       -0.58335143,  0.07449085, -0.60481966,  0.3060655 , -0.07888161,\n",
       "        0.53112584,  0.5115374 ,  0.5150165 ,  0.11707976, -0.27866605,\n",
       "       -0.4189122 ,  0.26464635, -0.1493111 ,  0.3698206 ,  0.13200513,\n",
       "        0.30826947, -0.1798609 ,  0.33956155,  0.08563389, -0.22983943,\n",
       "        0.29818174,  0.6045093 , -0.11831375, -0.03705684,  0.2507153 ,\n",
       "       -0.18658875, -0.03888663,  0.3391253 ,  0.17074388,  0.13745317,\n",
       "       -0.11781194, -0.35352325, -0.14698605,  0.08492465, -0.05003392,\n",
       "        0.21841039,  0.31311986, -0.02328384, -0.14039199, -0.17111349,\n",
       "       -0.00466063, -0.04264365,  0.04598413,  0.21292906,  0.05053764,\n",
       "        0.09048899, -0.40223855,  0.0596698 ,  0.0018923 , -0.38713568,\n",
       "       -0.39777657,  0.05810378, -0.26400077, -0.03460662,  0.19712608,\n",
       "        0.06194893, -0.6459255 , -0.2228535 , -0.12534529,  0.574063  ,\n",
       "       -0.06970681, -0.74617237,  0.32151985, -0.01723555,  0.20650215,\n",
       "       -0.05221595, -0.6842593 ,  0.00512581,  0.09980994,  0.29088888,\n",
       "        0.00091103,  0.31592798, -0.4888923 , -0.07273868,  0.2810093 ,\n",
       "        0.5379855 ,  0.12588055, -0.36488965, -0.18697645,  0.6030687 ,\n",
       "        0.26720947,  0.3701386 , -0.01136532,  0.5119942 ,  0.26208907,\n",
       "       -0.01275495,  0.2601176 ,  0.29272872, -0.30032483, -0.22421537,\n",
       "        0.31856486,  0.36780608, -0.25528833,  0.09359733, -0.2822312 ,\n",
       "        0.48531437, -0.23981683, -0.38599053, -0.51769996,  0.11911929,\n",
       "        0.10659911, -0.35996532, -0.32208118, -0.02605535, -0.5002529 ,\n",
       "       -0.24955538,  0.05140012, -0.01382295, -0.00866026, -0.27123168,\n",
       "        0.32904637,  0.04320719,  0.37961715,  0.21846078, -0.16657351,\n",
       "       -0.23149656, -0.39043057,  0.12234052, -0.23862508,  0.11400769,\n",
       "        0.18557112, -0.02762028,  0.54092765,  0.23782703, -0.02693929,\n",
       "        0.07857309,  0.14982094,  0.28645098, -0.03815673, -0.31248748,\n",
       "       -0.4541697 ,  0.05951231, -0.02656405,  0.64832956,  0.46470782,\n",
       "        0.26180634,  0.03151299,  0.80243933, -0.20394999, -0.22309399,\n",
       "        0.22283009,  0.11402974, -0.07494526,  0.14772518, -0.39491314,\n",
       "       -0.37610823,  0.10013043,  0.20807669, -0.09150322, -0.0727504 ,\n",
       "        0.04108175, -0.17020437, -0.08426756, -0.1990015 , -0.08171833,\n",
       "        0.32100698, -0.2923994 , -0.1673304 , -0.29637876, -0.3692336 ,\n",
       "        0.07279089,  0.2649364 ,  0.2254832 , -0.26841307, -0.47313172,\n",
       "        0.4696366 , -0.57612073,  0.1340319 , -0.1527466 , -0.0030177 ,\n",
       "       -0.29313374,  0.10832997, -0.07173697, -0.17883267,  0.07165303,\n",
       "        0.10119596, -0.1992824 ,  0.26231015,  0.3540592 ,  0.3116338 ,\n",
       "        0.02167421,  0.04466726,  0.5012031 , -0.23252557], dtype=float32)"
      ]
     },
     "execution_count": 18,
     "metadata": {},
     "output_type": "execute_result"
    }
   ],
   "source": [
    "from sentence_transformers import SentenceTransformer, util\n",
    "model = SentenceTransformer('paraphrase-MiniLM-L6-v2') # https://www.sbert.net/docs/pretrained_models.html\n",
    "\n",
    "# Sentences we want to encode. Example:\n",
    "sentence = df.iloc[302]\n",
    "\n",
    "# Sentences are encoded by calling model.encode()\n",
    "embedding = model.encode(sentence[\"text\"])\n",
    "print(f\"Shape: {embedding.shape}\")\n",
    "embedding"
   ]
  },
  {
   "cell_type": "markdown",
   "id": "2b0ba9e8-82a7-458b-97ab-d9af7f2555a5",
   "metadata": {},
   "source": [
    "A sentence embedding is just a vector representing the whole sentence at ones. So we can use it directly as features too."
   ]
  },
  {
   "cell_type": "code",
   "execution_count": 19,
   "id": "84b51e1d-d731-4d93-aff5-4a191740e987",
   "metadata": {},
   "outputs": [
    {
     "name": "stdout",
     "output_type": "stream",
     "text": [
      "[-0.09256149 -0.42923    -0.1940513  -0.20812997  0.3887121   0.05996908\n",
      " -0.4052988  -0.12300907 -0.13854708  0.1655856  -0.18656206 -0.00337574\n",
      "  0.01154224 -0.14203285 -0.01295885  0.12488805 -0.13013142 -0.29453832\n",
      "  0.40909117 -0.38689947 -0.6521384  -0.48963892  0.36488706 -0.23936453\n",
      " -0.21317144 -0.13428761  0.07301812 -0.08748028 -0.27836606 -0.06562182\n",
      "  0.15807995  0.19137242  0.05533346 -0.01790362 -0.32609546  0.07910851\n",
      " -0.13638416 -0.11085165 -0.3085413  -0.2529453   0.00459315 -0.18957312\n",
      "  0.14105524 -0.0336583   0.02829272 -0.12054776 -0.26604372  0.31348324\n",
      " -0.15021652 -0.4920502   0.44954318 -0.6702832   0.264559   -0.6560265\n",
      " -0.10691288  0.50342584  0.31831467  0.200367    0.2870475  -0.35019258\n",
      "  0.536377   -0.6797642  -0.00842874  0.03310847  0.36897954 -0.07891325\n",
      " -0.05243663  0.05798031  0.01059717  0.19111277 -0.13565008 -0.13307212\n",
      "  0.62490714  0.22026724  0.32856223 -0.01637137  0.17515059  0.04583077\n",
      "  0.45589682  0.10419751  0.17671575  0.24941383 -0.19055842 -0.21583694\n",
      "  0.04279254  0.49206167 -0.0590563  -0.49142122 -0.15305732 -0.03820093\n",
      " -0.49145344  0.05416916 -0.23372172 -0.03604378  0.07499156  0.3497368\n",
      " -0.24993049 -0.37817878  0.02081485  0.1375415  -0.20419635  0.30244222\n",
      "  0.15363869 -0.51225644 -0.3405689  -0.06627335  0.03297827  0.09952771\n",
      "  0.01408083 -0.2022562  -0.04419893 -0.1204609   0.1485936  -0.4267114\n",
      "  0.54776675  0.18203853 -0.21193786 -0.2909527   0.24137442 -0.36957026\n",
      "  0.25690776 -0.34464592  0.05614802 -0.5286064  -0.23794778  0.20642622\n",
      " -0.55412376 -0.07334325 -0.27277765  0.28038833 -0.352465    0.3292944\n",
      "  0.51021284 -0.27823073  0.11822738  0.32335693 -0.47859007 -0.20445181\n",
      " -0.06637376  0.4162311  -0.05442613  0.6896017   0.44935217 -0.3271239\n",
      " -0.21127874  0.23653965  0.54316634 -0.10423456  0.3577096  -0.29592627\n",
      "  0.01114083  0.00962308  0.38801107 -0.25400585  0.46887642  0.45288026\n",
      "  0.2960435   0.02128702  0.16133478  0.27935168 -0.51231915  0.01192487\n",
      " -0.27650803 -0.48823616 -0.40843564 -0.51510984  0.14103016  0.10906563\n",
      "  0.00284382  0.19298583 -0.30252838 -0.24412923  0.19746304  0.03780627\n",
      " -0.07696792 -0.03385846  0.4437181  -0.15584026 -0.0029364   0.11866648\n",
      "  0.23824975  0.10040961  0.0161658  -0.18140094 -0.44688627  0.07284297\n",
      " -0.08200647 -0.49859944  0.35807383 -0.14536637 -0.6344181   0.8598231\n",
      "  0.1815271   0.322236    0.47895968  0.12027781  0.43949685  0.21823001\n",
      "  0.3519579  -0.12511648 -0.58335143  0.07449085 -0.60481966  0.3060655\n",
      " -0.07888161  0.53112584  0.5115374   0.5150165   0.11707976 -0.27866605\n",
      " -0.4189122   0.26464635 -0.1493111   0.3698206   0.13200513  0.30826947\n",
      " -0.1798609   0.33956155  0.08563389 -0.22983943  0.29818174  0.6045093\n",
      " -0.11831375 -0.03705684  0.2507153  -0.18658875 -0.03888663  0.3391253\n",
      "  0.17074388  0.13745317 -0.11781194 -0.35352325 -0.14698605  0.08492465\n",
      " -0.05003392  0.21841039  0.31311986 -0.02328384 -0.14039199 -0.17111349\n",
      " -0.00466063 -0.04264365  0.04598413  0.21292906  0.05053764  0.09048899\n",
      " -0.40223855  0.0596698   0.0018923  -0.38713568 -0.39777657  0.05810378\n",
      " -0.26400077 -0.03460662  0.19712608  0.06194893 -0.6459255  -0.2228535\n",
      " -0.12534529  0.574063   -0.06970681 -0.74617237  0.32151985 -0.01723555\n",
      "  0.20650215 -0.05221595 -0.6842593   0.00512581  0.09980994  0.29088888\n",
      "  0.00091103  0.31592798 -0.4888923  -0.07273868  0.2810093   0.5379855\n",
      "  0.12588055 -0.36488965 -0.18697645  0.6030687   0.26720947  0.3701386\n",
      " -0.01136532  0.5119942   0.26208907 -0.01275495  0.2601176   0.29272872\n",
      " -0.30032483 -0.22421537  0.31856486  0.36780608 -0.25528833  0.09359733\n",
      " -0.2822312   0.48531437 -0.23981683 -0.38599053 -0.51769996  0.11911929\n",
      "  0.10659911 -0.35996532 -0.32208118 -0.02605535 -0.5002529  -0.24955538\n",
      "  0.05140012 -0.01382295 -0.00866026 -0.27123168  0.32904637  0.04320719\n",
      "  0.37961715  0.21846078 -0.16657351 -0.23149656 -0.39043057  0.12234052\n",
      " -0.23862508  0.11400769  0.18557112 -0.02762028  0.54092765  0.23782703\n",
      " -0.02693929  0.07857309  0.14982094  0.28645098 -0.03815673 -0.31248748\n",
      " -0.4541697   0.05951231 -0.02656405  0.64832956  0.46470782  0.26180634\n",
      "  0.03151299  0.80243933 -0.20394999 -0.22309399  0.22283009  0.11402974\n",
      " -0.07494526  0.14772518 -0.39491314 -0.37610823  0.10013043  0.20807669\n",
      " -0.09150322 -0.0727504   0.04108175 -0.17020437 -0.08426756 -0.1990015\n",
      " -0.08171833  0.32100698 -0.2923994  -0.1673304  -0.29637876 -0.3692336\n",
      "  0.07279089  0.2649364   0.2254832  -0.26841307 -0.47313172  0.4696366\n",
      " -0.57612073  0.1340319  -0.1527466  -0.0030177  -0.29313374  0.10832997\n",
      " -0.07173697 -0.17883267  0.07165303  0.10119596 -0.1992824   0.26231015\n",
      "  0.3540592   0.3116338   0.02167421  0.04466726  0.5012031  -0.23252557]\n",
      "(384,)\n"
     ]
    }
   ],
   "source": [
    "def embed_sentence_lm(sentence):\n",
    "    sentence_embedding = model.encode(sentence[\"text\"])\n",
    "    return sentence_embedding\n",
    "\n",
    "sentence_embedding = embed_sentence_lm(sentence)\n",
    "print(sentence_embedding)\n",
    "print(sentence_embedding.shape)"
   ]
  },
  {
   "cell_type": "code",
   "execution_count": 20,
   "id": "32ba6dee-4871-42f4-a22e-371437e57d41",
   "metadata": {},
   "outputs": [
    {
     "name": "stderr",
     "output_type": "stream",
     "text": [
      "100%|████████████████████████████████████████████████████████████████████| 2185/2185 [00:26<00:00, 81.76it/s]"
     ]
    },
    {
     "name": "stdout",
     "output_type": "stream",
     "text": [
      "CPU times: user 19.7 s, sys: 16.4 s, total: 36.1 s\n",
      "Wall time: 26.7 s\n"
     ]
    },
    {
     "name": "stderr",
     "output_type": "stream",
     "text": [
      "\n"
     ]
    }
   ],
   "source": [
    "%%time\n",
    "\n",
    "df[\"features_simple\"] = df.progress_apply(embed_sentence_lm,axis=1)\n"
   ]
  },
  {
   "cell_type": "code",
   "execution_count": 21,
   "id": "7fae14ef",
   "metadata": {},
   "outputs": [],
   "source": [
    "X = np.stack(df[\"features_simple\"].values)\n",
    "y = np.array(df[\"subject\"])\n"
   ]
  },
  {
   "cell_type": "code",
   "execution_count": null,
   "id": "007f2dc3-b6a4-4f78-b1ca-143aaec3a1ed",
   "metadata": {},
   "outputs": [],
   "source": []
  },
  {
   "cell_type": "code",
   "execution_count": 22,
   "id": "ff2655c8",
   "metadata": {},
   "outputs": [
    {
     "name": "stdout",
     "output_type": "stream",
     "text": [
      "X_train shape: (1638, 384)\n",
      "X_test shape: (547, 384)\n",
      "y_train shape: (1638,)\n",
      "y_test shape: (547,)\n"
     ]
    }
   ],
   "source": [
    "X_train, X_test, y_train, y_test = train_test_split(X, y, random_state=22141)\n",
    "print(f\"X_train shape: {X_train.shape}\")\n",
    "print(f\"X_test shape: {X_test.shape}\")\n",
    "print(f\"y_train shape: {y_train.shape}\")\n",
    "print(f\"y_test shape: {y_test.shape}\")\n"
   ]
  },
  {
   "cell_type": "code",
   "execution_count": 23,
   "id": "2ece73ae",
   "metadata": {},
   "outputs": [
    {
     "name": "stdout",
     "output_type": "stream",
     "text": [
      "CPU times: user 2.84 s, sys: 46.1 ms, total: 2.88 s\n",
      "Wall time: 2.95 s\n"
     ]
    },
    {
     "data": {
      "text/html": [
       "<style>#sk-container-id-2 {color: black;}#sk-container-id-2 pre{padding: 0;}#sk-container-id-2 div.sk-toggleable {background-color: white;}#sk-container-id-2 label.sk-toggleable__label {cursor: pointer;display: block;width: 100%;margin-bottom: 0;padding: 0.3em;box-sizing: border-box;text-align: center;}#sk-container-id-2 label.sk-toggleable__label-arrow:before {content: \"▸\";float: left;margin-right: 0.25em;color: #696969;}#sk-container-id-2 label.sk-toggleable__label-arrow:hover:before {color: black;}#sk-container-id-2 div.sk-estimator:hover label.sk-toggleable__label-arrow:before {color: black;}#sk-container-id-2 div.sk-toggleable__content {max-height: 0;max-width: 0;overflow: hidden;text-align: left;background-color: #f0f8ff;}#sk-container-id-2 div.sk-toggleable__content pre {margin: 0.2em;color: black;border-radius: 0.25em;background-color: #f0f8ff;}#sk-container-id-2 input.sk-toggleable__control:checked~div.sk-toggleable__content {max-height: 200px;max-width: 100%;overflow: auto;}#sk-container-id-2 input.sk-toggleable__control:checked~label.sk-toggleable__label-arrow:before {content: \"▾\";}#sk-container-id-2 div.sk-estimator input.sk-toggleable__control:checked~label.sk-toggleable__label {background-color: #d4ebff;}#sk-container-id-2 div.sk-label input.sk-toggleable__control:checked~label.sk-toggleable__label {background-color: #d4ebff;}#sk-container-id-2 input.sk-hidden--visually {border: 0;clip: rect(1px 1px 1px 1px);clip: rect(1px, 1px, 1px, 1px);height: 1px;margin: -1px;overflow: hidden;padding: 0;position: absolute;width: 1px;}#sk-container-id-2 div.sk-estimator {font-family: monospace;background-color: #f0f8ff;border: 1px dotted black;border-radius: 0.25em;box-sizing: border-box;margin-bottom: 0.5em;}#sk-container-id-2 div.sk-estimator:hover {background-color: #d4ebff;}#sk-container-id-2 div.sk-parallel-item::after {content: \"\";width: 100%;border-bottom: 1px solid gray;flex-grow: 1;}#sk-container-id-2 div.sk-label:hover label.sk-toggleable__label {background-color: #d4ebff;}#sk-container-id-2 div.sk-serial::before {content: \"\";position: absolute;border-left: 1px solid gray;box-sizing: border-box;top: 0;bottom: 0;left: 50%;z-index: 0;}#sk-container-id-2 div.sk-serial {display: flex;flex-direction: column;align-items: center;background-color: white;padding-right: 0.2em;padding-left: 0.2em;position: relative;}#sk-container-id-2 div.sk-item {position: relative;z-index: 1;}#sk-container-id-2 div.sk-parallel {display: flex;align-items: stretch;justify-content: center;background-color: white;position: relative;}#sk-container-id-2 div.sk-item::before, #sk-container-id-2 div.sk-parallel-item::before {content: \"\";position: absolute;border-left: 1px solid gray;box-sizing: border-box;top: 0;bottom: 0;left: 50%;z-index: -1;}#sk-container-id-2 div.sk-parallel-item {display: flex;flex-direction: column;z-index: 1;position: relative;background-color: white;}#sk-container-id-2 div.sk-parallel-item:first-child::after {align-self: flex-end;width: 50%;}#sk-container-id-2 div.sk-parallel-item:last-child::after {align-self: flex-start;width: 50%;}#sk-container-id-2 div.sk-parallel-item:only-child::after {width: 0;}#sk-container-id-2 div.sk-dashed-wrapped {border: 1px dashed gray;margin: 0 0.4em 0.5em 0.4em;box-sizing: border-box;padding-bottom: 0.4em;background-color: white;}#sk-container-id-2 div.sk-label label {font-family: monospace;font-weight: bold;display: inline-block;line-height: 1.2em;}#sk-container-id-2 div.sk-label-container {text-align: center;}#sk-container-id-2 div.sk-container {/* jupyter's `normalize.less` sets `[hidden] { display: none; }` but bootstrap.min.css set `[hidden] { display: none !important; }` so we also need the `!important` here to be able to override the default hidden behavior on the sphinx rendered scikit-learn.org. See: https://github.com/scikit-learn/scikit-learn/issues/21755 */display: inline-block !important;position: relative;}#sk-container-id-2 div.sk-text-repr-fallback {display: none;}</style><div id=\"sk-container-id-2\" class=\"sk-top-container\"><div class=\"sk-text-repr-fallback\"><pre>RandomForestClassifier(class_weight=&#x27;balanced&#x27;, max_depth=3, n_estimators=600,\n",
       "                       random_state=22141)</pre><b>In a Jupyter environment, please rerun this cell to show the HTML representation or trust the notebook. <br />On GitHub, the HTML representation is unable to render, please try loading this page with nbviewer.org.</b></div><div class=\"sk-container\" hidden><div class=\"sk-item\"><div class=\"sk-estimator sk-toggleable\"><input class=\"sk-toggleable__control sk-hidden--visually\" id=\"sk-estimator-id-2\" type=\"checkbox\" checked><label for=\"sk-estimator-id-2\" class=\"sk-toggleable__label sk-toggleable__label-arrow\">RandomForestClassifier</label><div class=\"sk-toggleable__content\"><pre>RandomForestClassifier(class_weight=&#x27;balanced&#x27;, max_depth=3, n_estimators=600,\n",
       "                       random_state=22141)</pre></div></div></div></div></div>"
      ],
      "text/plain": [
       "RandomForestClassifier(class_weight='balanced', max_depth=3, n_estimators=600,\n",
       "                       random_state=22141)"
      ]
     },
     "execution_count": 23,
     "metadata": {},
     "output_type": "execute_result"
    }
   ],
   "source": [
    "%%time\n",
    "from sklearn.ensemble import RandomForestClassifier\n",
    "from sklearn.datasets import make_classification\n",
    "\n",
    "clf = RandomForestClassifier(max_depth=3, random_state=22141, class_weight=\"balanced\", n_estimators=600)\n",
    "clf.fit(X_train, y_train)\n"
   ]
  },
  {
   "cell_type": "code",
   "execution_count": null,
   "id": "6630f5e6-60b0-4785-9351-0f58772530e0",
   "metadata": {},
   "outputs": [],
   "source": []
  },
  {
   "cell_type": "code",
   "execution_count": 24,
   "id": "9e192ca1-4bb9-4089-8300-0bdcce158e6a",
   "metadata": {},
   "outputs": [
    {
     "data": {
      "text/plain": [
       "text               Alaska 2009 STEWARDSHIP REPORT54 cOnSERvATIOn,...\n",
       "subject                                                       Social\n",
       "features_simple    [-0.004161255, -0.1882699, 0.29547796, 0.28592...\n",
       "Name: 3, dtype: object"
      ]
     },
     "execution_count": 24,
     "metadata": {},
     "output_type": "execute_result"
    }
   ],
   "source": [
    "df.iloc[3]"
   ]
  },
  {
   "cell_type": "code",
   "execution_count": 25,
   "id": "8363a41a-dc0c-4a06-bb87-b9c8b24139d8",
   "metadata": {},
   "outputs": [
    {
     "name": "stdout",
     "output_type": "stream",
     "text": [
      "[[0.22685233 0.54432973 0.22881794]]\n"
     ]
    }
   ],
   "source": [
    "\n",
    "print(clf.predict_proba([X_train[1]]))"
   ]
  },
  {
   "cell_type": "code",
   "execution_count": 26,
   "id": "4acca0e9",
   "metadata": {},
   "outputs": [
    {
     "name": "stdin",
     "output_type": "stream",
     "text": [
      "Enter experiment name:  sentence embeddings lm6\n"
     ]
    },
    {
     "name": "stdout",
     "output_type": "stream",
     "text": [
      "               precision    recall  f1-score   support\n",
      "\n",
      "Environmental       0.86      0.75      0.80       299\n",
      "        Other       0.65      0.82      0.72       115\n",
      "       Social       0.64      0.69      0.67       133\n",
      "\n",
      "     accuracy                           0.75       547\n",
      "    macro avg       0.72      0.75      0.73       547\n",
      " weighted avg       0.76      0.75      0.75       547\n",
      "\n"
     ]
    },
    {
     "data": {
      "image/png": "[encoded data removed]",
      "text/plain": [
       "<Figure size 800x500 with 2 Axes>"
      ]
     },
     "metadata": {},
     "output_type": "display_data"
    }
   ],
   "source": [
    "\n",
    "experiment_name = input(\"Enter experiment name: \")\n",
    "predictions = clf.predict(X_test)\n",
    "stats = evaluate_model(y_test, predictions, clf.classes_)\n",
    "log_experiment_results(experiment_name, stats[\"macro avg\"])"
   ]
  },
  {
   "attachments": {},
   "cell_type": "markdown",
   "id": "cebd2d76-2690-44e8-a29e-2b1fa4f01f49",
   "metadata": {},
   "source": [
    "## What's next?\n",
    "### Different models\n",
    "With other models, you can get even better performance. For example, you could use 'BAAI/bge-large-en-v1.5'. See\n",
    "- Overview of all tasks: MTEB Leaderboard https://huggingface.co/spaces/mteb/leaderboard\n",
    "- Easy to get started: SentenceTransformers\u000b",
    "https://www.sbert.net/docs/pretrained_models.html\n",
    "\n",
    "### Applications\n",
    "- Retrieval and ranking\n",
    "- Clustering\n",
    "- Search\n",
    "- RAG\n",
    "- Plagiarism detection via paraphrase mining\n",
    "- Duplicate detection\n",
    "- Multi-modal applications"
   ]
  },
  {
   "cell_type": "code",
   "execution_count": null,
   "id": "7d570dd8-6581-4392-8623-3cdd014ac16d",
   "metadata": {},
   "outputs": [],
   "source": []
  }
 ],
 "metadata": {
  "kernelspec": {
   "display_name": "Python 3 (ipykernel)",
   "language": "python",
   "name": "python3"
  },
  "language_info": {
   "codemirror_mode": {
    "name": "ipython",
    "version": 3
   },
   "file_extension": ".py",
   "mimetype": "text/x-python",
   "name": "python",
   "nbconvert_exporter": "python",
   "pygments_lexer": "ipython3",
   "version": "3.11.6"
  }
 },
 "nbformat": 4,
 "nbformat_minor": 5
}
