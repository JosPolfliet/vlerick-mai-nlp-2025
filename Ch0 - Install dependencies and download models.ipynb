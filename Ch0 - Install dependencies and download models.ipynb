{
 "cells": [
  {
   "cell_type": "markdown",
   "id": "57e6872b-483f-4789-98fe-a49c466682e3",
   "metadata": {},
   "source": [
    "# Preparing your environment\n",
    "\n",
    "For this course, we will only use the `python` programming language. I use the latest versions of all packages and Python 3.10 with pip package manager. You are free to use other versions or other package managers of course.\n",
    "\n",
    "We will make extensive use of the following packages\n",
    "* spaCy\n",
    "* pandas\n",
    "* transformers 🤗\n",
    "* datasets🤗\n",
    "* sklearn\n",
    "* matplotlib\n",
    "* langchain\n",
    "\n",
    "The following code is to install and test if your environment works as intended, so that you don't lose time during the course.\n",
    "\n",
    "Python dependencies can be real nasty !"
   ]
  },
  {
   "cell_type": "markdown",
   "id": "60ae5198-b088-453a-a383-8113a55a3532",
   "metadata": {},
   "source": [
    "### Check Python version"
   ]
  },
  {
   "cell_type": "code",
   "execution_count": null,
   "id": "84ac5d6a-5947-4591-ab22-4a089039aa8a",
   "metadata": {},
   "outputs": [],
   "source": [
    "import sys\n",
    "assert sys.version_info.major==3, \"Python 3.x is required\"\n",
    "if sys.version_info.minor<10: print(\"Warning: Python 3.10 is recommended\")\n",
    "else: print(\"Python >= 3.10 👍\")"
   ]
  },
  {
   "cell_type": "markdown",
   "id": "14c26495-03bf-4a91-9a0d-a8361948efdd",
   "metadata": {},
   "source": [
    "## Installation"
   ]
  },
  {
   "cell_type": "code",
   "execution_count": null,
   "id": "806158ea-c5fe-47dc-86e7-05cdbb10c9b2",
   "metadata": {},
   "outputs": [],
   "source": [
    "!test -f pyproject.toml || wget https://raw.githubusercontent.com/JosPolfliet/vlerick-mai-nlp-2025/main/pyproject.toml\n",
    "!pip install uv\n",
    "!uv pip install -e ."
   ]
  },
  {
   "cell_type": "markdown",
   "id": "71e7b8bd-0b0f-4e6e-8dda-70e1d9e4aa30",
   "metadata": {},
   "source": [
    "Test basic imports"
   ]
  },
  {
   "cell_type": "code",
   "execution_count": null,
   "id": "68a90a27-9929-4433-9a7b-1de34354c43e",
   "metadata": {},
   "outputs": [],
   "source": [
    "import spacy\n",
    "import pandas as pd\n",
    "import numpy as np\n",
    "\n",
    "from sklearn.ensemble import RandomForestClassifier\n",
    "from sklearn.metrics import classification_report\n",
    "from sklearn.metrics import ConfusionMatrixDisplay\n",
    "\n",
    "from spacy.lang.en.stop_words import STOP_WORDS\n",
    "from spacy.lang.en import English\n",
    "from spacy.vectors import Vectors\n",
    "\n",
    "from matplotlib import pyplot as plt\n",
    "\n",
    "from langchain_anthropic import ChatAnthropic\n",
    "from langchain.prompts import ChatPromptTemplate\n",
    "\n",
    "print(\"It works!\")"
   ]
  },
  {
   "cell_type": "markdown",
   "id": "31476493-e246-4e33-826c-2ce31f30d3f9",
   "metadata": {},
   "source": [
    "## Download spacy models"
   ]
  },
  {
   "cell_type": "code",
   "execution_count": 5,
   "id": "6431bb37-a897-49b9-9af7-e1ceabe36df1",
   "metadata": {},
   "outputs": [
    {
     "name": "stdout",
     "output_type": "stream",
     "text": [
      "Collecting en-core-web-lg==3.8.0\n",
      "  Downloading https://github.com/explosion/spacy-models/releases/download/en_core_web_lg-3.8.0/en_core_web_lg-3.8.0-py3-none-any.whl (400.7 MB)\n",
      "\u001b[2K     \u001b[90m━━━━━━━━━━━━━━━━━━━━━━━━━━━━━━━━━━━━━━━\u001b[0m \u001b[32m400.7/400.7 MB\u001b[0m \u001b[31m5.3 MB/s\u001b[0m eta \u001b[36m0:00:00\u001b[0m00:01\u001b[0m00:03\u001b[0m\n",
      "\u001b[?25h\u001b[38;5;2m✔ Download and installation successful\u001b[0m\n",
      "You can now load the package via spacy.load('en_core_web_lg')\n",
      "Collecting en-core-web-md==3.8.0\n",
      "  Downloading https://github.com/explosion/spacy-models/releases/download/en_core_web_md-3.8.0/en_core_web_md-3.8.0-py3-none-any.whl (33.5 MB)\n",
      "\u001b[2K     \u001b[90m━━━━━━━━━━━━━━━━━━━━━━━━━━━━━━━━━━━━━━━━\u001b[0m \u001b[32m33.5/33.5 MB\u001b[0m \u001b[31m6.7 MB/s\u001b[0m eta \u001b[36m0:00:00\u001b[0m00:01\u001b[0m00:01\u001b[0m\n",
      "\u001b[?25h\u001b[38;5;2m✔ Download and installation successful\u001b[0m\n",
      "You can now load the package via spacy.load('en_core_web_md')\n"
     ]
    }
   ],
   "source": [
    "# If you use `uv` and get a \"No module named pip\" error, run `uv venv --seed` first\n",
    "!python -m spacy download en_core_web_lg # used in word arithmetic and ESG classifier\n",
    "!python -m spacy download en_core_web_md # used in BOW\n"
   ]
  },
  {
   "cell_type": "markdown",
   "id": "cafb855a-380a-47fa-bdfd-bc2709f53720",
   "metadata": {},
   "source": [
    "### Test if that worked"
   ]
  },
  {
   "cell_type": "code",
   "execution_count": 4,
   "id": "ca7940a5-94a6-4cf1-96ee-8946eac2e625",
   "metadata": {},
   "outputs": [
    {
     "ename": "NameError",
     "evalue": "name 'spacy' is not defined",
     "output_type": "error",
     "traceback": [
      "\u001b[31m---------------------------------------------------------------------------\u001b[39m",
      "\u001b[31mNameError\u001b[39m                                 Traceback (most recent call last)",
      "\u001b[36mCell\u001b[39m\u001b[36m \u001b[39m\u001b[32mIn[4]\u001b[39m\u001b[32m, line 1\u001b[39m\n\u001b[32m----> \u001b[39m\u001b[32m1\u001b[39m nlp = \u001b[43mspacy\u001b[49m.load(\u001b[33m'\u001b[39m\u001b[33men_core_web_md\u001b[39m\u001b[33m'\u001b[39m)\n\u001b[32m      2\u001b[39m nlp(\u001b[33m\"\u001b[39m\u001b[33mMedium model works!\u001b[39m\u001b[33m\"\u001b[39m)\n",
      "\u001b[31mNameError\u001b[39m: name 'spacy' is not defined"
     ]
    }
   ],
   "source": [
    "nlp = spacy.load('en_core_web_md')\n",
    "nlp(\"Medium model works!\")"
   ]
  },
  {
   "cell_type": "code",
   "execution_count": null,
   "id": "1aa4728b-a465-42a7-b4eb-5c3ac1b6baeb",
   "metadata": {},
   "outputs": [],
   "source": [
    "nlp = spacy.load('en_core_web_lg')\n",
    "nlp(\"Large model works!\")"
   ]
  },
  {
   "cell_type": "code",
   "execution_count": null,
   "id": "7979e3c3",
   "metadata": {},
   "outputs": [],
   "source": []
  },
  {
   "cell_type": "markdown",
   "id": "590659f7-b49d-43da-8fec-fda61fcf62b0",
   "metadata": {},
   "source": [
    "## Download HuggingFace models"
   ]
  },
  {
   "cell_type": "code",
   "execution_count": null,
   "id": "0fcabc6e-8579-416c-9cbc-e52c4d17549a",
   "metadata": {},
   "outputs": [],
   "source": [
    "from transformers import AutoTokenizer\n",
    "from transformers import AutoModelForSequenceClassification, TrainingArguments, Trainer\n",
    "\n",
    "tokenizer = AutoTokenizer.from_pretrained(\"distilbert-base-uncased\")\n",
    "model = AutoModelForSequenceClassification.from_pretrained(\"distilbert-base-uncased\", num_labels=3)\n",
    "print(\"It works!\")"
   ]
  },
  {
   "cell_type": "markdown",
   "id": "4bb68934-e7f0-48e5-a128-32255bd51742",
   "metadata": {},
   "source": [
    "## Download nltk packages"
   ]
  },
  {
   "cell_type": "code",
   "execution_count": null,
   "id": "c0663f90-132a-4338-8cbe-b2ae14f7336d",
   "metadata": {},
   "outputs": [],
   "source": [
    "import nltk\n",
    "nltk.download('punkt')"
   ]
  },
  {
   "cell_type": "code",
   "execution_count": null,
   "id": "7e0c65a2-c673-4dcf-a09f-36f1a52c25e4",
   "metadata": {},
   "outputs": [],
   "source": []
  }
 ],
 "metadata": {
  "kernelspec": {
   "display_name": ".venv",
   "language": "python",
   "name": "python3"
  },
  "language_info": {
   "codemirror_mode": {
    "name": "ipython",
    "version": 3
   },
   "file_extension": ".py",
   "mimetype": "text/x-python",
   "name": "python",
   "nbconvert_exporter": "python",
   "pygments_lexer": "ipython3",
   "version": "3.12.9"
  }
 },
 "nbformat": 4,
 "nbformat_minor": 5
}
