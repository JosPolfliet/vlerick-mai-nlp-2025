{
 "cells": [
  {
   "cell_type": "markdown",
   "metadata": {},
   "source": [
    "# Word arithmetic\n",
    "In this practice notebook, we'll explore how you can calculate with word embeddings.\n",
    "\n",
    "If needed (e.g. on Google Colab), first install the necessary packages and download the correct model by uncommenting the following two cells:"
   ]
  },
  {
   "cell_type": "code",
   "execution_count": null,
   "metadata": {},
   "outputs": [],
   "source": [
    "# !pip install wordfreq spacy-transformers"
   ]
  },
  {
   "cell_type": "code",
   "execution_count": null,
   "metadata": {},
   "outputs": [],
   "source": [
    "# !python -m spacy download en_core_web_lg"
   ]
  },
  {
   "cell_type": "code",
   "execution_count": 1,
   "metadata": {
    "id": "8vW9svTE289D"
   },
   "outputs": [],
   "source": [
    "import spacy\n",
    "import numpy as np\n",
    "from wordfreq import zipf_frequency"
   ]
  },
  {
   "cell_type": "markdown",
   "metadata": {},
   "source": [
    "Vectors are only available in larger models, so let's load that first:"
   ]
  },
  {
   "cell_type": "code",
   "execution_count": 2,
   "metadata": {
    "id": "mWDrpxDk2_r2"
   },
   "outputs": [],
   "source": [
    "nlp = spacy.load('en_core_web_lg')\n",
    "\n",
    "s = \"It's not about the money (only $20.15), it's about sending a message :). 🚀💎🙌\"\n",
    "doc = nlp(s)\n"
   ]
  },
  {
   "cell_type": "code",
   "execution_count": 3,
   "metadata": {},
   "outputs": [
    {
     "data": {
      "text/plain": [
       "{'text': \"It's not about the money (only $20.15), it's about sending a message :). 🚀💎🙌\",\n",
       " 'array_head': (71, 81, 65, 67, 75, 79, 76, 77, 78, 452, 454, 73, 453, 74, 80),\n",
       " 'array_body': array([[                   2,                    0,  7859011591137717335,\n",
       "         10239237003504588839, 13656873538139661788,                    1,\n",
       "                          429,                    2,                    0,\n",
       "                            0,                    0, 10239237003504588839,\n",
       "          9854762412120834745,                   95,                    1],\n",
       "        [                   2,                    1, 16428057658620181782,\n",
       "         16428057658620181782, 13927759927860985106,                   12,\n",
       "                          408,                    2,                    0,\n",
       "                            0,                    0, 10382539506755952630,\n",
       "          6409445096646039388,                   87, 18446744073709551615],\n",
       "        [                   3,                    1,   447765159362469301,\n",
       "           447765159362469301,   164681854541413346, 18446744073709551615,\n",
       "                          425,                    2,                    0,\n",
       "                            0,                    0,   447765159362469301,\n",
       "          4976474778457666057,                   94, 18446744073709551615],\n",
       "        [                   5,                    1,   942632335873952620,\n",
       "           942632335873952620,  1292078113972184607, 18446744073709551614,\n",
       "                          443,                    2,                    0,\n",
       "                            0,                    0,   942632335873952620,\n",
       "                          456,                   85, 18446744073709551615],\n",
       "        [                   3,                    1,  7425985699627899538,\n",
       "          7425985699627899538, 15267657372422890137,                    1,\n",
       "                          415,                    2,                    0,\n",
       "                            0,                    0,  7425985699627899538,\n",
       "         17993772634962171886,                   90, 18446744073709551615],\n",
       "        [                   5,                    1, 14917444839815175757,\n",
       "         14917444839815175757, 15308085513773655218, 18446744073709551614,\n",
       "                          439,                    2,                    0,\n",
       "                            0,                    0, 14917444839815175757,\n",
       "         11292551915497242671,                   92, 18446744073709551615],\n",
       "        [                   1,                    0, 12638816674900267446,\n",
       "         12638816674900267446, 17111077179131903759, 18446744073709551615,\n",
       "                          445,                    2,                    0,\n",
       "                            0,                    0, 12638816674900267446,\n",
       "         15977316573101613678,                   97, 18446744073709551615],\n",
       "        [                   4,                    1, 13398675276606405380,\n",
       "         13398675276606405380,   164681854541413346,                    2,\n",
       "                          400,                    3,                  394,\n",
       "                            0,                    0, 13398675276606405380,\n",
       "                          456,                   86, 18446744073709551615],\n",
       "        [                   1,                    0, 11283501755624150392,\n",
       "         11283501755624150392, 11283501755624150392,                    1,\n",
       "                          446,                    1,                  394,\n",
       "                            0,                    0, 11283501755624150392,\n",
       "                          456,                   99, 18446744073709551615],\n",
       "        [                   5,                    0,  1816975854932220497,\n",
       "          1816975854932220497,  8427216679587749980, 18446744073709551612,\n",
       "                          403,                    1,                  394,\n",
       "                            0,                    0,  1816975854932220497,\n",
       "          1599824077107694006,                   93, 18446744073709551615],\n",
       "        [                   1,                    0,  3842344029291005339,\n",
       "          3842344029291005339,  2465883113906300949, 18446744073709551611,\n",
       "                          445,                    2,                    0,\n",
       "                            0,                    0,  3842344029291005339,\n",
       "          6877848301027669253,                   97, 18446744073709551615],\n",
       "        [                   1,                    1,  2593208677638477497,\n",
       "          2593208677638477497,  2593208677638477497,                    2,\n",
       "                          445,                    2,                    0,\n",
       "                            0,                    0,  2593208677638477497,\n",
       "         15238790053599904751,                   97, 18446744073709551615],\n",
       "        [                   2,                    0, 10239237003504588839,\n",
       "         10239237003504588839, 13656873538139661788,                    1,\n",
       "                          429,                    2,                    0,\n",
       "                            0,                    0, 10239237003504588839,\n",
       "          9854762412120834745,                   95, 18446744073709551615],\n",
       "        [                   2,                    1, 16428057658620181782,\n",
       "         16428057658620181782, 13927759927860985106,                    0,\n",
       "          8206900633647566924,                    2,                    0,\n",
       "                            0,                    0, 10382539506755952630,\n",
       "          6409445096646039388,                   87, 18446744073709551615],\n",
       "        [                   5,                    1,   942632335873952620,\n",
       "           942632335873952620,  1292078113972184607, 18446744073709551615,\n",
       "                          443,                    2,                    0,\n",
       "                            0,                    0,   942632335873952620,\n",
       "                          456,                   85, 18446744073709551615],\n",
       "        [                   7,                    1, 11618898738647771573,\n",
       "         11618898738647771573,  1534113631682161808, 18446744073709551615,\n",
       "                          438,                    2,                    0,\n",
       "                            0,                    0,  6965176418496841198,\n",
       "         15048631098673932031,                  100, 18446744073709551615],\n",
       "        [                   1,                    1, 11901859001352538922,\n",
       "         11901859001352538922, 15267657372422890137,                    1,\n",
       "                          415,                    2,                    0,\n",
       "                            0,                    0, 11901859001352538922,\n",
       "          8746991145056622530,                   90, 18446744073709551615],\n",
       "        [                   7,                    1,  1381057396011922202,\n",
       "          1381057396011922202, 15308085513773655218, 18446744073709551614,\n",
       "                          416,                    2,                    0,\n",
       "                            0,                    0,  1381057396011922202,\n",
       "         11292551915497242671,                   92, 18446744073709551615],\n",
       "        [                   2,                    0,  5920004935509210957,\n",
       "          5920004935509210957, 12646065887601541794, 18446744073709551611,\n",
       "                          445,                    2,                    0,\n",
       "                            0,                    0,  5920004935509210957,\n",
       "          6739740606194143788,                   97, 18446744073709551615],\n",
       "        [                   1,                    1, 12646065887601541794,\n",
       "         12646065887601541794, 12646065887601541794, 18446744073709551610,\n",
       "                          445,                    2,                    0,\n",
       "                            0,                    0, 12646065887601541794,\n",
       "          6739740606194143788,                   97, 18446744073709551615],\n",
       "        [                   1,                    0,  1450545737412984427,\n",
       "          1450545737412984427, 15308085513773655218,                    0,\n",
       "          8206900633647566924,                    2,                    0,\n",
       "                            0,                    0,  1450545737412984427,\n",
       "         11292551915497242671,                   92,                    1],\n",
       "        [                   1,                    0,  1492545719853395015,\n",
       "          1492545719853395015, 15794550382381185553, 18446744073709551615,\n",
       "                          429,                    2,                    0,\n",
       "                            0,                    0,  1492545719853395015,\n",
       "         11292551915497242671,                   96, 18446744073709551615],\n",
       "        [                   1,                    0,  6560202033922632739,\n",
       "          6560202033922632739, 15308085513773655218, 18446744073709551614,\n",
       "                          445,                    2,                    0,\n",
       "                            0,                    0,  6560202033922632739,\n",
       "         11292551915497242671,                   92, 18446744073709551615]],\n",
       "       dtype=uint64),\n",
       " 'sentiment': 0.0,\n",
       " 'tensor': array([[ 0.64392173,  0.41275492, -0.6615509 , ...,  0.29909435,\n",
       "         -1.3755823 , -1.6337097 ],\n",
       "        [ 0.7030934 , -0.7500871 , -0.13019425, ..., -0.93728995,\n",
       "         -0.43364778, -0.16652764],\n",
       "        [-0.9894837 , -0.66545665,  1.3773885 , ...,  1.1919968 ,\n",
       "         -1.9608352 ,  0.8163463 ],\n",
       "        ...,\n",
       "        [-0.10343254, -0.48531926, -0.48228955, ..., -0.8902001 ,\n",
       "         -0.5402915 ,  0.46642923],\n",
       "        [ 1.0795107 ,  0.13350874,  0.9634296 , ...,  0.58199114,\n",
       "          1.1134908 ,  1.3178403 ],\n",
       "        [ 0.15274963, -0.13862756, -0.6146748 , ...,  0.23501468,\n",
       "          0.8636117 ,  0.71946454]], dtype=float32),\n",
       " 'cats': {},\n",
       " 'spans': b'\\x90',\n",
       " 'strings': ['',\n",
       "  '20.15',\n",
       "  'nsubj',\n",
       "  'RB',\n",
       "  'PunctType=Peri',\n",
       "  'quantmod',\n",
       "  'neg',\n",
       "  'Aspect=Prog|Tense=Pres|VerbForm=Part',\n",
       "  'a',\n",
       "  ',',\n",
       "  'Polarity=Neg',\n",
       "  'appos',\n",
       "  'about',\n",
       "  '-RRB-',\n",
       "  '$',\n",
       "  'only',\n",
       "  ':)',\n",
       "  'prep',\n",
       "  '💎',\n",
       "  '(',\n",
       "  '.',\n",
       "  'dobj',\n",
       "  'VBZ',\n",
       "  'message',\n",
       "  'advmod',\n",
       "  'Definite=Def|PronType=Art',\n",
       "  'PRP',\n",
       "  'sending',\n",
       "  '🚀',\n",
       "  ')',\n",
       "  'DT',\n",
       "  'MONEY',\n",
       "  'pobj',\n",
       "  'punct',\n",
       "  'CD',\n",
       "  'PunctSide=Ini|PunctType=Brck',\n",
       "  'PunctType=Comm',\n",
       "  'ROOT',\n",
       "  '🙌',\n",
       "  'det',\n",
       "  'Case=Nom|Gender=Neut|Number=Sing|Person=3|PronType=Prs',\n",
       "  'the',\n",
       "  \"'s\",\n",
       "  'NumType=Card',\n",
       "  'pcomp',\n",
       "  'PunctSide=Fin|PunctType=Brck',\n",
       "  'not',\n",
       "  'VBG',\n",
       "  'NN',\n",
       "  'send',\n",
       "  'Definite=Ind|PronType=Art',\n",
       "  'be',\n",
       "  'Number=Sing',\n",
       "  '-LRB-',\n",
       "  'it',\n",
       "  'IN',\n",
       "  'Mood=Ind|Number=Sing|Person=3|Tense=Pres|VerbForm=Fin',\n",
       "  'money',\n",
       "  'ccomp',\n",
       "  'NNP'],\n",
       " 'has_unknown_spaces': False}"
      ]
     },
     "execution_count": 3,
     "metadata": {},
     "output_type": "execute_result"
    }
   ],
   "source": [
    "doc.to_dict()"
   ]
  },
  {
   "cell_type": "code",
   "execution_count": 4,
   "metadata": {},
   "outputs": [
    {
     "data": {
      "text/plain": [
       "money"
      ]
     },
     "execution_count": 4,
     "metadata": {},
     "output_type": "execute_result"
    }
   ],
   "source": [
    "token = doc[5]\n",
    "token"
   ]
  },
  {
   "cell_type": "code",
   "execution_count": 5,
   "metadata": {},
   "outputs": [
    {
     "name": "stdout",
     "output_type": "stream",
     "text": [
      "It\n",
      "'s\n",
      "not\n",
      "about\n",
      "the\n",
      "money\n",
      "(\n",
      "only\n",
      "$\n",
      "20.15\n"
     ]
    }
   ],
   "source": [
    "for i in range(10):\n",
    "    print(doc[i])"
   ]
  },
  {
   "cell_type": "code",
   "execution_count": 6,
   "metadata": {},
   "outputs": [
    {
     "data": {
      "text/plain": [
       "array([-6.8580e-02,  4.6470e-01,  1.3214e-01,  1.8599e-01, -3.7015e-02,\n",
       "        3.2988e-01,  1.7865e-01, -2.5977e-01, -2.6022e-01,  2.5728e+00,\n",
       "       -2.5867e-01, -6.6095e-01,  8.1984e-02,  1.0321e-02, -1.2223e-01,\n",
       "        9.4609e-03, -8.8657e-02,  5.8367e-01, -1.7465e-02, -3.5569e-01,\n",
       "       -1.0182e-01,  6.1941e-02, -1.4267e-01, -4.0544e-01,  2.9834e-01,\n",
       "        1.0003e-01,  3.5899e-02,  2.2920e-01,  3.0278e-01, -1.8259e-01,\n",
       "       -1.1042e-03,  2.5792e-01, -5.4132e-02,  1.5748e-01,  6.1311e-02,\n",
       "       -3.0055e-01,  3.3732e-01,  4.0023e-01,  4.2472e-02, -3.0014e-01,\n",
       "        6.2963e-02,  7.2134e-02,  6.0897e-02, -6.2527e-02,  2.7505e-01,\n",
       "       -1.3527e-01, -2.1710e-01,  1.9315e-02,  3.8683e-02, -1.2361e-01,\n",
       "       -7.7210e-02, -1.1320e-01, -9.3050e-02,  3.5217e-01,  1.9300e-01,\n",
       "        4.8418e-02, -2.0489e-01,  9.6088e-02,  7.7817e-02, -3.7924e-01,\n",
       "        1.1290e-01, -1.8285e-01, -5.6815e-02,  3.7091e-01,  3.2133e-01,\n",
       "       -1.6343e-01, -3.0290e-01,  2.0258e-01, -1.9113e-01, -4.1821e-02,\n",
       "        9.6427e-02,  2.8788e-01,  2.1868e-01,  1.1835e-01, -5.8606e-01,\n",
       "        8.4765e-02,  4.0064e-02,  3.8934e-02, -4.1745e-04,  1.2880e-01,\n",
       "        3.2659e-02,  2.7487e-01,  3.2105e-01,  1.1337e-01,  2.3331e-01,\n",
       "       -2.0270e-01, -7.5498e-01, -2.1488e-01,  1.1081e-01, -1.2337e-01,\n",
       "       -6.8252e-01,  4.6154e-01, -1.8431e-01, -4.0732e-01,  2.9356e-01,\n",
       "        1.8444e-01,  4.6945e-02, -1.6625e-01,  2.8425e-01,  9.8857e-02,\n",
       "        1.4131e-01,  9.9858e-03, -7.7743e-02, -4.1674e-02, -1.6059e-01,\n",
       "        6.6496e-01,  3.8880e-01,  6.1784e-02, -2.3028e-01, -8.5093e-02,\n",
       "        1.5053e-01,  5.0199e-01, -6.0354e-02,  7.8031e-03, -1.0188e-01,\n",
       "        1.8607e-01,  1.1777e-01, -1.5382e-01,  1.7520e-01,  3.4421e-01,\n",
       "        6.1868e-02, -5.8456e-02,  1.9939e-01,  2.4807e-01, -1.2043e-01,\n",
       "        2.4495e-01, -2.2755e-01, -4.4586e-02, -7.8157e-02, -3.7290e-01,\n",
       "       -2.6008e-01, -3.1267e-01,  4.6500e-01, -1.4188e-01, -9.2598e-02,\n",
       "        6.7002e-02,  2.2380e-01,  5.0371e-01, -4.1528e-01, -3.5387e-02,\n",
       "       -1.1150e+00,  1.0314e-01,  1.0069e-01,  2.6980e-01, -8.6038e-02,\n",
       "       -1.8304e-01, -1.1100e-01,  3.3949e-01, -1.5439e-01, -6.0346e-02,\n",
       "       -7.6030e-02,  3.6591e-01,  7.6120e-02,  1.4184e-01, -6.6350e-02,\n",
       "       -4.2175e-01, -6.8802e-01,  1.6540e-01, -1.5966e-01, -8.2361e-02,\n",
       "       -3.7665e-01,  1.5192e-01, -1.5739e-01,  7.5572e-02, -9.3941e-02,\n",
       "       -5.3344e-01,  2.5038e-01, -1.7772e-01,  5.6826e-01,  2.3024e-02,\n",
       "       -1.3049e-01, -2.3437e-01, -1.4206e-01, -3.6676e-01, -8.7881e-01,\n",
       "       -1.7991e-01,  6.1699e-01, -5.4129e-02, -4.1839e-02,  4.4565e-01,\n",
       "        7.1349e-02,  1.1386e-02, -1.3037e-01, -3.6068e-02, -9.1853e-02,\n",
       "        2.8994e-01,  3.5194e-01,  1.8153e-02, -2.7042e-01, -3.8262e-01,\n",
       "       -4.1694e-01,  8.8887e-02, -3.8843e-01,  9.1897e-02, -1.6549e-01,\n",
       "        1.3396e-01,  1.2725e-01, -3.0501e-01, -8.9378e-02,  2.4039e-01,\n",
       "       -2.9861e-01, -1.0235e-02,  1.1287e-02,  3.9926e-02,  2.2518e-01,\n",
       "       -1.4535e-02, -1.4116e-01, -1.0092e-01, -1.1393e-01, -4.2583e-01,\n",
       "       -1.5182e-01, -4.1830e-01,  9.5807e-02, -4.1133e-01,  3.0601e-01,\n",
       "        2.5951e-01, -1.1851e-01, -6.3935e-02, -6.8160e-01, -3.2533e-01,\n",
       "       -3.1124e-01,  2.6500e-01, -1.7040e-01, -1.3757e-01, -1.3244e-01,\n",
       "       -7.3419e-02, -7.9024e-02,  7.2515e-02,  6.9922e-02,  2.9591e-01,\n",
       "       -3.2007e-01,  9.1738e-02, -1.8087e-01,  7.1566e-02, -2.0362e-01,\n",
       "       -1.9141e-01, -8.5196e-02, -4.7908e-01,  6.4813e-02, -2.1795e-01,\n",
       "       -9.4415e-02,  5.3729e-01,  8.3135e-03,  2.4061e-01,  4.5261e-02,\n",
       "       -8.1265e-02, -3.8758e-02,  1.1975e-01, -1.0087e-01, -2.2780e-01,\n",
       "       -6.6300e-02, -6.9051e-02,  2.6849e-01, -1.6083e-01, -1.6018e-01,\n",
       "        2.6183e-01, -5.4176e-01,  3.1235e-02,  1.4158e-01,  1.4993e-01,\n",
       "       -3.1776e-01,  2.0251e-01, -5.0593e-02,  1.4712e-01, -1.6181e-02,\n",
       "        6.5722e-02, -7.6293e-02, -3.6481e-01,  4.4407e-01, -6.6691e-02,\n",
       "        4.6171e-01,  3.9474e-02, -4.4825e-01, -4.0562e-01,  1.2919e-01,\n",
       "        3.5828e-02, -2.9879e-02,  2.5034e-02,  2.5427e-01,  1.7060e-01,\n",
       "        2.3547e-01,  4.6183e-01, -7.1739e-02,  1.1056e-01, -5.0868e-01,\n",
       "        1.5953e-01, -1.9542e-01,  2.2428e-01, -9.8993e-02, -3.0309e-01,\n",
       "        1.3260e-01,  1.5582e-01,  2.1946e-01, -1.5946e-02,  1.6345e-01,\n",
       "       -2.6763e-01,  4.2565e-02, -9.4786e-02,  2.8878e-01, -2.5244e-01],\n",
       "      dtype=float32)"
      ]
     },
     "execution_count": 6,
     "metadata": {},
     "output_type": "execute_result"
    }
   ],
   "source": [
    "token = doc[1]\n",
    "token.vector"
   ]
  },
  {
   "cell_type": "code",
   "execution_count": 7,
   "metadata": {},
   "outputs": [
    {
     "data": {
      "text/plain": [
       "300"
      ]
     },
     "execution_count": 7,
     "metadata": {},
     "output_type": "execute_result"
    }
   ],
   "source": [
    "token.vector.size"
   ]
  },
  {
   "cell_type": "code",
   "execution_count": 8,
   "metadata": {},
   "outputs": [],
   "source": [
    "def get_vocab_id(word: str):\n",
    "    return nlp.vocab.strings[word]\n",
    "\n",
    "def get_vector(word: str):\n",
    "    return nlp.vocab.vectors[get_vocab_id(word)]\n",
    "\n",
    "def get_token(word: str):\n",
    "    return nlp(word)[0]\n",
    "    "
   ]
  },
  {
   "cell_type": "markdown",
   "metadata": {},
   "source": [
    "## Finding similarities"
   ]
  },
  {
   "cell_type": "code",
   "execution_count": null,
   "metadata": {},
   "outputs": [],
   "source": [
    "get_token(\"woman\").similarity(get_token(\"jupiter\"))"
   ]
  },
  {
   "cell_type": "code",
   "execution_count": 9,
   "metadata": {},
   "outputs": [
    {
     "name": "stdout",
     "output_type": "stream",
     "text": [
      "trump trump 1.0\n",
      "trump obama 0.42474985122680664\n",
      "trump intelligence 0.27713093161582947\n",
      "obama trump 0.42474985122680664\n",
      "obama obama 1.0\n",
      "obama intelligence 0.25764793157577515\n",
      "intelligence trump 0.27713093161582947\n",
      "intelligence obama 0.25764793157577515\n",
      "intelligence intelligence 1.0\n"
     ]
    }
   ],
   "source": [
    "tokens = nlp(u'trump obama intelligence')\n",
    "\n",
    "for t1 in tokens:\n",
    "    for t2 in tokens:\n",
    "        print(t1.text,t2.text,t1.similarity(t2))"
   ]
  },
  {
   "cell_type": "code",
   "execution_count": null,
   "metadata": {},
   "outputs": [],
   "source": [
    "def get_danger_score(country): \n",
    "    if country == \"us\":\n",
    "        return 0.12\n",
    "    elif country == \"be\":\n",
    "        return 0.17\n",
    "    elif country == 'pk':\n",
    "        return 0.\n"
   ]
  },
  {
   "cell_type": "code",
   "execution_count": null,
   "metadata": {},
   "outputs": [],
   "source": [
    "tokens = nlp(u'castle king student error')\n",
    "\n",
    "for t1 in tokens:\n",
    "    for t2 in tokens:\n",
    "        print(f\"{t1.text}, {t2.text}, {t1.similarity(t2):.3f}\")"
   ]
  },
  {
   "cell_type": "markdown",
   "metadata": {},
   "source": [
    "## Find most similar words to a given vector\n",
    "Documentation https://spacy.io/api/vectors#most_similar"
   ]
  },
  {
   "cell_type": "code",
   "execution_count": 22,
   "metadata": {},
   "outputs": [],
   "source": [
    "def find_most_similar(vec: np.ndarray, include_rare = False):\n",
    "    # vec = vector(word)\n",
    "\n",
    "    vocab_ids = nlp.vocab.vectors.most_similar(np.asarray([vec]), n=100)\n",
    "    words =  [nlp.vocab.strings[w] for w in vocab_ids[0][0]]\n",
    "    if include_rare:\n",
    "        return [w.lower() for w in words if get_token(w).is_alpha][0:20]\n",
    "    else:\n",
    "        return [w.lower() for w in words if get_token(w).is_alpha & (zipf_frequency(w, \"en\", wordlist='small', minimum=1)> 3)][0:20]\n",
    "\n"
   ]
  },
  {
   "cell_type": "code",
   "execution_count": 23,
   "metadata": {},
   "outputs": [
    {
     "data": {
      "text/plain": [
       "['doctor',\n",
       " 'physician',\n",
       " 'doctors',\n",
       " 'pharmacist',\n",
       " 'surgeon',\n",
       " 'medical',\n",
       " 'nurse',\n",
       " 'medicine',\n",
       " 'medication',\n",
       " 'patient',\n",
       " 'pediatrician',\n",
       " 'psychiatrist',\n",
       " 'clinic',\n",
       " 'dentist',\n",
       " 'medications',\n",
       " 'meds',\n",
       " 'hospital',\n",
       " 'dermatologist',\n",
       " 'neurologist',\n",
       " 'surgery']"
      ]
     },
     "execution_count": 23,
     "metadata": {},
     "output_type": "execute_result"
    }
   ],
   "source": [
    "find_most_similar(get_vector(\"doctor\"))"
   ]
  },
  {
   "cell_type": "code",
   "execution_count": 24,
   "metadata": {},
   "outputs": [
    {
     "data": {
      "text/plain": [
       "['queen',\n",
       " 'king',\n",
       " 'princess',\n",
       " 'prince',\n",
       " 'kings',\n",
       " 'girl',\n",
       " 'queens',\n",
       " 'royal',\n",
       " 'princesses',\n",
       " 'throne',\n",
       " 'kingdom',\n",
       " 'princes',\n",
       " 'girls',\n",
       " 'duke',\n",
       " 'empress',\n",
       " 'barbie',\n",
       " 'angel',\n",
       " 'fairy',\n",
       " 'sister',\n",
       " 'daughter']"
      ]
     },
     "execution_count": 24,
     "metadata": {},
     "output_type": "execute_result"
    }
   ],
   "source": [
    "find_most_similar(get_vector(\"king\") - get_vector(\"man\") + get_vector(\"girl\"))"
   ]
  },
  {
   "cell_type": "code",
   "execution_count": 25,
   "metadata": {},
   "outputs": [
    {
     "data": {
      "text/plain": [
       "['doctor',\n",
       " 'nurse',\n",
       " 'doctors',\n",
       " 'physician',\n",
       " 'pregnant',\n",
       " 'woman',\n",
       " 'pharmacist',\n",
       " 'midwife',\n",
       " 'medical',\n",
       " 'pediatrician',\n",
       " 'patient',\n",
       " 'pregnancy',\n",
       " 'surgeon',\n",
       " 'clinic',\n",
       " 'medication',\n",
       " 'medicine',\n",
       " 'hospital',\n",
       " 'nurses',\n",
       " 'psychiatrist',\n",
       " 'therapist']"
      ]
     },
     "execution_count": 25,
     "metadata": {},
     "output_type": "execute_result"
    }
   ],
   "source": [
    "find_most_similar(get_vector(\"doctor\") - get_vector(\"man\") + get_vector(\"woman\"))"
   ]
  },
  {
   "cell_type": "code",
   "execution_count": 26,
   "metadata": {},
   "outputs": [
    {
     "data": {
      "text/plain": [
       "['student',\n",
       " 'school',\n",
       " 'castle',\n",
       " 'university',\n",
       " 'students',\n",
       " 'campus',\n",
       " 'college',\n",
       " 'graduate',\n",
       " 'teacher',\n",
       " 'undergraduate',\n",
       " 'classroom',\n",
       " 'professor',\n",
       " 'tutor',\n",
       " 'faculty',\n",
       " 'elementary',\n",
       " 'dormitory',\n",
       " 'schools',\n",
       " 'teaching',\n",
       " 'classmate',\n",
       " 'academic']"
      ]
     },
     "execution_count": 26,
     "metadata": {},
     "output_type": "execute_result"
    }
   ],
   "source": [
    "find_most_similar(get_vector(\"castle\") - get_vector(\"royalty\") + get_vector(\"student\"))"
   ]
  },
  {
   "cell_type": "code",
   "execution_count": 27,
   "metadata": {},
   "outputs": [
    {
     "data": {
      "text/plain": [
       "'tokyo'"
      ]
     },
     "execution_count": 27,
     "metadata": {},
     "output_type": "execute_result"
    }
   ],
   "source": [
    "find_most_similar(get_vector(\"Berlin\") - get_vector(\"Germany\") + get_vector(\"Japan\"))[0]"
   ]
  },
  {
   "cell_type": "code",
   "execution_count": 28,
   "metadata": {},
   "outputs": [
    {
     "data": {
      "text/plain": [
       "['cold',\n",
       " 'colder',\n",
       " 'cooler',\n",
       " 'freezing',\n",
       " 'warmer',\n",
       " 'chilly',\n",
       " 'temperatures',\n",
       " 'temperature',\n",
       " 'heat',\n",
       " 'dry',\n",
       " 'cooling',\n",
       " 'chill',\n",
       " 'warm',\n",
       " 'winter',\n",
       " 'icy',\n",
       " 'frozen',\n",
       " 'chilled',\n",
       " 'worse',\n",
       " 'warmed',\n",
       " 'drier']"
      ]
     },
     "execution_count": 28,
     "metadata": {},
     "output_type": "execute_result"
    }
   ],
   "source": [
    "find_most_similar(get_vector(\"bigger\") - get_vector(\"big\") + get_vector(\"cold\"))"
   ]
  },
  {
   "cell_type": "code",
   "execution_count": 29,
   "metadata": {},
   "outputs": [
    {
     "data": {
      "text/plain": [
       "['sushi',\n",
       " 'cuisine',\n",
       " 'bistro',\n",
       " 'seafood',\n",
       " 'restaurant',\n",
       " 'gourmet',\n",
       " 'sandwiches',\n",
       " 'brunch',\n",
       " 'pizza',\n",
       " 'steak',\n",
       " 'chef',\n",
       " 'burger',\n",
       " 'pastries',\n",
       " 'restaurants',\n",
       " 'salad',\n",
       " 'burgers',\n",
       " 'salads',\n",
       " 'cheese',\n",
       " 'dinner',\n",
       " 'fries']"
      ]
     },
     "execution_count": 29,
     "metadata": {},
     "output_type": "execute_result"
    }
   ],
   "source": [
    "find_most_similar(get_vector(\"sushi\") - get_vector(\"Japan\") + get_vector(\"France\"))"
   ]
  },
  {
   "cell_type": "code",
   "execution_count": 30,
   "metadata": {},
   "outputs": [
    {
     "data": {
      "text/plain": [
       "['merkel',\n",
       " 'canada',\n",
       " 'canadian',\n",
       " 'ontario',\n",
       " 'alberta',\n",
       " 'manitoba',\n",
       " 'barrie',\n",
       " 'harper',\n",
       " 'toronto',\n",
       " 'richardson',\n",
       " 'newfoundland',\n",
       " 'angela',\n",
       " 'ottawa',\n",
       " 'winnipeg',\n",
       " 'scotia',\n",
       " 'cbc',\n",
       " 'quebec',\n",
       " 'buchanan',\n",
       " 'calgary',\n",
       " 'vancouver']"
      ]
     },
     "execution_count": 30,
     "metadata": {},
     "output_type": "execute_result"
    }
   ],
   "source": [
    "find_most_similar(get_vector(\"Merkel\") - get_vector(\"Germany\") + get_vector(\"Canada\"))"
   ]
  },
  {
   "cell_type": "markdown",
   "metadata": {},
   "source": [
    "## Further reading\n",
    "- Library for embedding exploration: https://github.com/koaning/whatlies/"
   ]
  },
  {
   "cell_type": "code",
   "execution_count": null,
   "metadata": {},
   "outputs": [],
   "source": []
  }
 ],
 "metadata": {
  "colab": {
   "collapsed_sections": [],
   "include_colab_link": true,
   "name": "Vlerick-MAI-NLP-demo.ipynb",
   "private_outputs": true,
   "provenance": []
  },
  "kernelspec": {
   "display_name": ".venv",
   "language": "python",
   "name": "python3"
  },
  "language_info": {
   "codemirror_mode": {
    "name": "ipython",
    "version": 3
   },
   "file_extension": ".py",
   "mimetype": "text/x-python",
   "name": "python",
   "nbconvert_exporter": "python",
   "pygments_lexer": "ipython3",
   "version": "3.12.9"
  }
 },
 "nbformat": 4,
 "nbformat_minor": 4
}
