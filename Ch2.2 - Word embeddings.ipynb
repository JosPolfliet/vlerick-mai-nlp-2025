{
 "cells": [
  {
   "cell_type": "code",
   "execution_count": 1,
   "metadata": {},
   "outputs": [
    {
     "data": {
      "application/vnd.jupyter.widget-view+json": {
       "model_id": "f2987dd074564071adbcac55d26dfcc9",
       "version_major": 2,
       "version_minor": 0
      },
      "text/plain": [
       "tokenizer_config.json:   0%|          | 0.00/48.0 [00:00<?, ?B/s]"
      ]
     },
     "metadata": {},
     "output_type": "display_data"
    },
    {
     "data": {
      "application/vnd.jupyter.widget-view+json": {
       "model_id": "afdbbb2e33ad4471b19a6e23ac8373d4",
       "version_major": 2,
       "version_minor": 0
      },
      "text/plain": [
       "config.json:   0%|          | 0.00/570 [00:00<?, ?B/s]"
      ]
     },
     "metadata": {},
     "output_type": "display_data"
    },
    {
     "data": {
      "application/vnd.jupyter.widget-view+json": {
       "model_id": "f3f9fe06c58949d9ba5d85d342d0ce04",
       "version_major": 2,
       "version_minor": 0
      },
      "text/plain": [
       "vocab.txt:   0%|          | 0.00/232k [00:00<?, ?B/s]"
      ]
     },
     "metadata": {},
     "output_type": "display_data"
    },
    {
     "data": {
      "application/vnd.jupyter.widget-view+json": {
       "model_id": "6734211d1eab4e79b2f4455af1a70b53",
       "version_major": 2,
       "version_minor": 0
      },
      "text/plain": [
       "tokenizer.json:   0%|          | 0.00/466k [00:00<?, ?B/s]"
      ]
     },
     "metadata": {},
     "output_type": "display_data"
    },
    {
     "data": {
      "application/vnd.jupyter.widget-view+json": {
       "model_id": "31cb614626b747d2a5f398f4fe99ad8a",
       "version_major": 2,
       "version_minor": 0
      },
      "text/plain": [
       "model.safetensors:   0%|          | 0.00/440M [00:00<?, ?B/s]"
      ]
     },
     "metadata": {},
     "output_type": "display_data"
    },
    {
     "name": "stdout",
     "output_type": "stream",
     "text": [
      "Tokens in the sentence:\n",
      "Token: '[CLS]', Embedding shape: (768,)\n",
      "Token: 'natural', Embedding shape: (768,)\n",
      "Token: 'language', Embedding shape: (768,)\n",
      "Token: 'processing', Embedding shape: (768,)\n",
      "Token: 'is', Embedding shape: (768,)\n",
      "Token: 'fascinating', Embedding shape: (768,)\n",
      "Token: 'and', Embedding shape: (768,)\n",
      "Token: 'powerful', Embedding shape: (768,)\n",
      "Token: '.', Embedding shape: (768,)\n",
      "Token: '[SEP]', Embedding shape: (768,)\n",
      "\n",
      "First 10 values of embedding for 'language':\n",
      "[-0.46853647  0.32274535  0.01619487 -0.8015434   0.2168786   0.31478682\n",
      "  0.06109725  1.2818849  -0.7566536  -0.13486609]\n"
     ]
    }
   ],
   "source": [
    "import torch\n",
    "from transformers import AutoTokenizer, AutoModel\n",
    "import matplotlib.pyplot as plt\n",
    "import numpy as np\n",
    "\n",
    "# Load pretrained model and tokenizer\n",
    "model_name = \"bert-base-uncased\"  # You can try other models like \"roberta-base\", \"distilbert-base-uncased\"\n",
    "tokenizer = AutoTokenizer.from_pretrained(model_name)\n",
    "model = AutoModel.from_pretrained(model_name)\n",
    "\n",
    "def get_token_embeddings(sentence):\n",
    "    \"\"\"\n",
    "    Get embeddings for each token in a sentence.\n",
    "    \n",
    "    Args:\n",
    "        sentence (str): Input sentence\n",
    "        \n",
    "    Returns:\n",
    "        dict: Dictionary mapping tokens to their embeddings\n",
    "    \"\"\"\n",
    "    # Tokenize the sentence\n",
    "    inputs = tokenizer(sentence, return_tensors=\"pt\", padding=True)\n",
    "    token_ids = inputs[\"input_ids\"][0]\n",
    "    \n",
    "    # Get the tokens as strings\n",
    "    tokens = tokenizer.convert_ids_to_tokens(token_ids)\n",
    "    \n",
    "    # Get model output (without computing gradients)\n",
    "    with torch.no_grad():\n",
    "        outputs = model(**inputs)\n",
    "    \n",
    "    # Extract the embeddings from the last hidden state for each token\n",
    "    last_hidden_state = outputs.last_hidden_state[0]  # First (and only) batch\n",
    "    \n",
    "    # Create a dictionary mapping tokens to their embeddings\n",
    "    token_embeddings = {}\n",
    "    for i, token in enumerate(tokens):\n",
    "        # Convert tensor to numpy array\n",
    "        embedding = last_hidden_state[i].numpy()\n",
    "        token_embeddings[token] = embedding\n",
    "    \n",
    "    return token_embeddings\n",
    "\n",
    "# Example usage\n",
    "sentence = \"Natural language processing is fascinating and powerful.\"\n",
    "token_embeddings = get_token_embeddings(sentence)\n",
    "\n",
    "# Print all tokens and their embedding dimensions\n",
    "print(f\"Tokens in the sentence:\")\n",
    "for token, embedding in token_embeddings.items():\n",
    "    print(f\"Token: '{token}', Embedding shape: {embedding.shape}\")\n",
    "\n",
    "# Print the first few values of one token's embedding\n",
    "example_token = list(token_embeddings.keys())[2]  # Get the third token\n",
    "print(f\"\\nFirst 10 values of embedding for '{example_token}':\")\n",
    "print(token_embeddings[example_token][:10])\n"
   ]
  },
  {
   "cell_type": "code",
   "execution_count": null,
   "metadata": {},
   "outputs": [],
   "source": []
  }
 ],
 "metadata": {
  "kernelspec": {
   "display_name": ".venv",
   "language": "python",
   "name": "python3"
  },
  "language_info": {
   "codemirror_mode": {
    "name": "ipython",
    "version": 3
   },
   "file_extension": ".py",
   "mimetype": "text/x-python",
   "name": "python",
   "nbconvert_exporter": "python",
   "pygments_lexer": "ipython3",
   "version": "3.12.9"
  }
 },
 "nbformat": 4,
 "nbformat_minor": 2
}
