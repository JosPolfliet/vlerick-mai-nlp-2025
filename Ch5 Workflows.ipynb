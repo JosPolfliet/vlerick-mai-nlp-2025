{
 "cells": [
  {
   "cell_type": "markdown",
   "metadata": {
    "vscode": {
     "languageId": "plaintext"
    }
   },
   "source": [
    "# Workflows\n",
    "\n",
    "Workflows are sequences of tasks that can be executed by a system, often without any human intervention or supervision. \n",
    "\n",
    "In this example, we'll build a recommendation engine workflow that can run unattended."
   ]
  },
  {
   "cell_type": "markdown",
   "metadata": {},
   "source": []
  },
  {
   "cell_type": "code",
   "execution_count": 22,
   "metadata": {},
   "outputs": [],
   "source": []
  },
  {
   "cell_type": "code",
   "execution_count": 35,
   "metadata": {},
   "outputs": [],
   "source": [
    "import os\n",
    "import json\n",
    "import getpass\n",
    "from langchain_anthropic import ChatAnthropic\n",
    "\n",
    "if \"ANTHROPIC_API_KEY\" not in os.environ:\n",
    "    os.environ[\"ANTHROPIC_API_KEY\"] = getpass.getpass(\"Enter your Anthropic API key: \")\n",
    "\n",
    "model = ChatAnthropic(\n",
    "    model=\"claude-3-7-sonnet-20250219\",\n",
    "    temperature=0,\n",
    "    max_tokens=1024,\n",
    "    max_retries=2,\n",
    "    # other params...\n",
    ")"
   ]
  },
  {
   "cell_type": "code",
   "execution_count": null,
   "metadata": {},
   "outputs": [],
   "source": []
  },
  {
   "cell_type": "code",
   "execution_count": 24,
   "metadata": {},
   "outputs": [
    {
     "data": {
      "text/html": [
       "<div>\n",
       "<style scoped>\n",
       "    .dataframe tbody tr th:only-of-type {\n",
       "        vertical-align: middle;\n",
       "    }\n",
       "\n",
       "    .dataframe tbody tr th {\n",
       "        vertical-align: top;\n",
       "    }\n",
       "\n",
       "    .dataframe thead th {\n",
       "        text-align: right;\n",
       "    }\n",
       "</style>\n",
       "<table border=\"1\" class=\"dataframe\">\n",
       "  <thead>\n",
       "    <tr style=\"text-align: right;\">\n",
       "      <th></th>\n",
       "      <th>title</th>\n",
       "      <th>url</th>\n",
       "      <th>article_id</th>\n",
       "    </tr>\n",
       "  </thead>\n",
       "  <tbody>\n",
       "    <tr>\n",
       "      <th>0</th>\n",
       "      <td>Building an Emergency Fund: Create Financial P...</td>\n",
       "      <td>NaN</td>\n",
       "      <td>813f295d</td>\n",
       "    </tr>\n",
       "    <tr>\n",
       "      <th>1</th>\n",
       "      <td>Planning for retirement, your future self will...</td>\n",
       "      <td>https://www.notion.so/Planning-for-retirement-...</td>\n",
       "      <td>bfc16b4a</td>\n",
       "    </tr>\n",
       "    <tr>\n",
       "      <th>2</th>\n",
       "      <td>Needs vs wants, how to prioritise your spending</td>\n",
       "      <td>https://www.notion.so/Needs-vs-wants-how-to-pr...</td>\n",
       "      <td>190d339d</td>\n",
       "    </tr>\n",
       "    <tr>\n",
       "      <th>3</th>\n",
       "      <td>How to achieve financial independence: The ste...</td>\n",
       "      <td>https://www.notion.so/How-to-achieve-financial...</td>\n",
       "      <td>86bc47d4</td>\n",
       "    </tr>\n",
       "    <tr>\n",
       "      <th>4</th>\n",
       "      <td>The power of compounding: How early investing ...</td>\n",
       "      <td>https://www.notion.so/The-power-of-compounding...</td>\n",
       "      <td>5595ecc5</td>\n",
       "    </tr>\n",
       "  </tbody>\n",
       "</table>\n",
       "</div>"
      ],
      "text/plain": [
       "                                               title  \\\n",
       "0  Building an Emergency Fund: Create Financial P...   \n",
       "1  Planning for retirement, your future self will...   \n",
       "2    Needs vs wants, how to prioritise your spending   \n",
       "3  How to achieve financial independence: The ste...   \n",
       "4  The power of compounding: How early investing ...   \n",
       "\n",
       "                                                 url article_id  \n",
       "0                                                NaN   813f295d  \n",
       "1  https://www.notion.so/Planning-for-retirement-...   bfc16b4a  \n",
       "2  https://www.notion.so/Needs-vs-wants-how-to-pr...   190d339d  \n",
       "3  https://www.notion.so/How-to-achieve-financial...   86bc47d4  \n",
       "4  https://www.notion.so/The-power-of-compounding...   5595ecc5  "
      ]
     },
     "execution_count": 24,
     "metadata": {},
     "output_type": "execute_result"
    }
   ],
   "source": [
    "import pandas as pd\n",
    "from hashlib import md5\n",
    "df = pd.read_csv(\"example data/financial-topics-csv.txt\")\n",
    "df[\"article_id\"] = df[\"title\"].map(lambda s: md5(str.encode(s)).hexdigest()[:8])\n",
    "df.head()"
   ]
  },
  {
   "cell_type": "code",
   "execution_count": 25,
   "metadata": {},
   "outputs": [
    {
     "data": {
      "text/plain": [
       "'[{\"title\":\"Building an Emergency Fund: Create Financial Peace of Mind\",\"url\":null,\"article_id\":\"813f295d\"},{\"title\":\"Planning for retirement, your future self will thank you\",\"url\":\"https:\\\\/\\\\/www.notion.so\\\\/Planning-for-retirement-your-future-self-will-thank-you-1abd15602ba08019b780e8f19d2ab8b8?pvs=21\",\"article_id\":\"bfc16b4a\"},{\"title\":\"Needs vs wants, how to prioritise your spending\",\"url\":\"https:\\\\/\\\\/www.notion.so\\\\/Needs-vs-wants-how-to-prioritise-your-spending-1abd15602ba080afb981c79287c83756?pvs=21\",\"article_id\":\"190d339d\"},{\"title\":\"How to achieve financial independence: The step-by-step guide\",\"url\":\"https:\\\\/\\\\/www.notion.so\\\\/How-to-achieve-financial-independence-The-step-by-step-guide-1acd15602ba080debd17f52333e918ff?pvs=21\",\"article_id\":\"86bc47d4\"},{\"title\":\"The power of compounding: How early investing pays off\",\"url\":\"https:\\\\/\\\\/www.notion.so\\\\/The-power-of-compounding-How-early-investing-pays-off-1acd15602ba0803ba031d81c4508c8d3?pvs=21\",\"article_id\":\"5595ecc5\"},{\"title\":\"The 50\\\\/30\\\\/20 rule, budgeting made easy\",\"url\":\"https:\\\\/\\\\/www.notion.so\\\\/The-50-30-20-rule-budgeting-made-easy-1abd15602ba08002a7b1de63999c2783?pvs=21\",\"article_id\":\"6f93110f\"},{\"title\":\"Budgeting in 5 steps, take charge of your finances\",\"url\":\"https:\\\\/\\\\/www.notion.so\\\\/Budgeting-in-5-steps-take-charge-of-your-finances-1abd15602ba08021a051f40d5b62d2e5?pvs=21\",\"article_id\":\"5c1ff6da\"},{\"title\":\"Saving on everyday expenses, simple cost-cutting tips\",\"url\":\"https:\\\\/\\\\/www.notion.so\\\\/Saving-on-everyday-expenses-simple-cost-cutting-tips-1abd15602ba080a18180f57a1c5d1864?pvs=21\",\"article_id\":\"36a92d5d\"},{\"title\":\"Cash vs. card: Which is better for budgeting?\",\"url\":\"https:\\\\/\\\\/www.notion.so\\\\/Cash-vs-card-Which-is-better-for-budgeting-1acd15602ba080868ca6dc65046f18c3?pvs=21\",\"article_id\":\"50d8a811\"},{\"title\":\"How to manage finances as a couple\",\"url\":\"https:\\\\/\\\\/www.notion.so\\\\/How-to-manage-finances-as-a-couple-1acd15602ba08051a1f1d1e836db81a4?pvs=21\",\"article_id\":\"5bae5e5b\"},{\"title\":\"How to teach kids about money and savings\",\"url\":\"https:\\\\/\\\\/www.notion.so\\\\/How-to-teach-kids-about-money-and-savings-1acd15602ba080b59e06d3bf4c96a71c?pvs=21\",\"article_id\":\"be715750\"},{\"title\":\"How to compare financial products - banks, loans & more, choose wisely\",\"url\":\"https:\\\\/\\\\/www.notion.so\\\\/How-to-compare-financial-products-banks-loans-more-choose-wisely-1abd15602ba08042aaaac0d803b0590c?pvs=21\",\"article_id\":\"db81b4d7\"},{\"title\":\"Fixed or variable mortgage? Choose what\\'s right for you\",\"url\":\"https:\\\\/\\\\/www.notion.so\\\\/Fixed-or-variable-mortgage-Choose-what-s-right-for-you-1abd15602ba0801c86b2ec8c576c5b9b?pvs=21\",\"article_id\":\"185fdc86\"},{\"title\":\"Good debt vs Bad debt, not all loans are create equal\",\"url\":\"https:\\\\/\\\\/www.notion.so\\\\/Good-debt-vs-Bad-debt-not-all-loans-are-create-equal-1abd15602ba0805baefada17a51fdcfa?pvs=21\",\"article_id\":\"69960725\"},{\"title\":\"Negotiate your loan terms, you can (and should)\",\"url\":\"https:\\\\/\\\\/www.notion.so\\\\/Negotiate-your-loan-terms-you-can-and-should-1abd15602ba080a18e9ce3fa03de7aa1?pvs=21\",\"article_id\":\"8be44a9d\"},{\"title\":\"Mortgage refinancing: when does it make sense?\",\"url\":\"https:\\\\/\\\\/www.notion.so\\\\/Mortgage-refinancing-when-does-it-make-sense-1acd15602ba0802eae94d5dd61f8cec2?pvs=21\",\"article_id\":\"d76bcd84\"},{\"title\":\"Paying off debt vs. investing: What should you prioritise?\",\"url\":\"https:\\\\/\\\\/www.notion.so\\\\/Paying-off-debt-vs-investing-What-should-you-prioritise-1acd15602ba080b39f5ff6d863b90942?pvs=21\",\"article_id\":\"7715c95c\"},{\"title\":\"Buying vs renting, which one is right for you?\",\"url\":\"https:\\\\/\\\\/www.notion.so\\\\/Buying-vs-renting-which-one-is-right-for-you-1abd15602ba080d1aae8c229ff264d20?pvs=21\",\"article_id\":\"8c0145fd\"},{\"title\":\"Hidden costs of homeownership, buying a house? budget beyond the price tag\",\"url\":\"https:\\\\/\\\\/www.notion.so\\\\/Hidden-costs-of-homeownership-buying-a-house-budget-beyond-the-price-tag-1abd15602ba080a69d68f1e9d3f1289d?pvs=21\",\"article_id\":\"fd260c51\"},{\"title\":\"Real estate investing 101: How to start with rental properties\",\"url\":\"https:\\\\/\\\\/www.notion.so\\\\/Real-estate-investing-101-How-to-start-with-rental-properties-1acd15602ba080f59b48e2d6df4ef510?pvs=21\",\"article_id\":\"23244f58\"},{\"title\":\"Investing 101, A beginner\\'s guide to growing wealth\",\"url\":\"https:\\\\/\\\\/www.notion.so\\\\/Investing-101-A-beginner-s-guide-to-growing-wealth-1abd15602ba080579a71f34c00b3a70f?pvs=21\",\"article_id\":\"6973df5a\"},{\"title\":\"Passive income ideas, make money while you sleep\",\"url\":\"https:\\\\/\\\\/www.notion.so\\\\/Passive-income-ideas-make-money-while-you-sleep-1abd15602ba080b9891ef22013facd6c?pvs=21\",\"article_id\":\"e57ec2ee\"},{\"title\":\"ETF vs. Stocks: which one? Simple vs. hands-on investing\",\"url\":\"https:\\\\/\\\\/www.notion.so\\\\/ETF-vs-Stocks-which-one-Simple-vs-hands-on-investing-1abd15602ba0802f9146e30bbbbfee08?pvs=21\",\"article_id\":\"1c9aaa4b\"},{\"title\":\"How to start investing with little money\",\"url\":\"https:\\\\/\\\\/www.notion.so\\\\/How-to-start-investing-with-little-money-1acd15602ba080dd90aafe1e50d31597?pvs=21\",\"article_id\":\"91bb11c5\"},{\"title\":\"Risk vs. reward: How to determine your investment style\",\"url\":\"https:\\\\/\\\\/www.notion.so\\\\/Risk-vs-reward-How-to-determine-your-investment-style-1acd15602ba080189f74d5b848d77d4e?pvs=21\",\"article_id\":\"58752c2c\"},{\"title\":\"The biggest investment mistakes to avoid\",\"url\":\"https:\\\\/\\\\/www.notion.so\\\\/The-biggest-investment-mistakes-to-avoid-1acd15602ba0804682cdd74faf39f1bf?pvs=21\",\"article_id\":\"7831c83e\"},{\"title\":\"Belgian tax basics, How to lower your tax bill, keep more of your hard-earned money\",\"url\":\"https:\\\\/\\\\/www.notion.so\\\\/Belgian-tax-basics-How-to-lower-your-tax-bill-keep-more-of-your-hard-earned-money-1abd15602ba0806da492f4350494edb6?pvs=21\",\"article_id\":\"f7340931\"},{\"title\":\"What to pay attention to when completing your personal income tax?\",\"url\":\"https:\\\\/\\\\/www.notion.so\\\\/What-to-pay-attention-to-when-completing-your-personal-income-tax-1afd15602ba080628609f6224ea07ddf?pvs=21\",\"article_id\":\"954aafba\"},{\"title\":\"Understanding inheritance taxes: How to minimize costs\",\"url\":\"https:\\\\/\\\\/www.notion.so\\\\/Understanding-inheritance-taxes-How-to-minimize-costs-1abd15602ba08000bc53f72f17d15bf2?pvs=21\",\"article_id\":\"b5e7f355\"},{\"title\":\"Estate planning essentials: How to pass down wealth effectively\",\"url\":\"https:\\\\/\\\\/www.notion.so\\\\/Estate-planning-essentials-How-to-pass-down-wealth-effectively-1acd15602ba08044bef6f167799bc893?pvs=21\",\"article_id\":\"3a9aa686\"},{\"title\":\"A will: everything you need to know\",\"url\":\"https:\\\\/\\\\/www.notion.so\\\\/A-will-everything-you-need-to-know-1abd15602ba0805b85e9fdf1c492bfe6?pvs=21\",\"article_id\":\"d1437e66\"},{\"title\":\"Do you need life insurance? who depends on your income?\",\"url\":\"https:\\\\/\\\\/www.notion.so\\\\/Do-you-need-life-insurance-who-depends-on-your-income-1abd15602ba0805eb3bed3b1733577b8?pvs=21\",\"article_id\":\"92316b09\"},{\"title\":\"Disability insurance: often overlooked, your ability to earn = your biggest asset\",\"url\":\"https:\\\\/\\\\/www.notion.so\\\\/Disability-insurance-often-overlooked-your-ability-to-earn-your-biggest-asset-1abd15602ba080dc97baf51ccc82a14e?pvs=21\",\"article_id\":\"afc07dfd\"},{\"title\":\"Suggestion: basic economic terminology & concepts (?)\",\"url\":\"https:\\\\/\\\\/www.notion.so\\\\/Suggestion-basic-economic-terminology-concepts-1acd15602ba080188effdfa72b36a33a?pvs=21\",\"article_id\":\"3c1973ec\"},{\"title\":\"Should I invest only in equities?\",\"url\":\"https:\\\\/\\\\/www.notion.so\\\\/Should-I-invest-only-in-equities-1aed15602ba080488a1ad5c9f674535d?pvs=21\",\"article_id\":\"9e0faaf4\"},{\"title\":\"Asset Class Deep Dive: Equities\",\"url\":\"https:\\\\/\\\\/www.notion.so\\\\/Asset-Class-Deep-Dive-Equities-1aed15602ba080778a2beb719a8987c6?pvs=21\",\"article_id\":\"c927fbec\"},{\"title\":\"Asset Class Deep Dive: Fixed Income\",\"url\":\"https:\\\\/\\\\/www.notion.so\\\\/Asset-Class-Deep-Dive-Fixed-Income-1aed15602ba080638fe8def7455816e1?pvs=21\",\"article_id\":\"361d9f3c\"},{\"title\":\"Asset Class Deep Dive: Private Markets\",\"url\":\"https:\\\\/\\\\/www.notion.so\\\\/Asset-Class-Deep-Dive-Private-Markets-1aed15602ba080d29160de5b1de9ae75?pvs=21\",\"article_id\":\"2d81b51b\"},{\"title\":\"Asset Class Deep Dive: Alternatives (crypto-assets, gold, commodities, art, hedge funds, etc\\\\u2026)\",\"url\":\"https:\\\\/\\\\/www.notion.so\\\\/Asset-Class-Deep-Dive-Alternatives-crypto-assets-gold-commodities-art-hedge-funds-etc-1aed15602ba0803589a8c4650b9cbe3c?pvs=21\",\"article_id\":\"72181843\"},{\"title\":\"What ESOPs Are \\\\u2013 How Employees Get a Share in the Company\\'s Success\",\"url\":\"https:\\\\/\\\\/www.notion.so\\\\/What-ESOPs-Are-How-Employees-Get-a-Share-in-the-Company-s-Success-1afd15602ba080b89028e59684fcd37e?pvs=21\",\"article_id\":\"c715d4f7\"}]'"
      ]
     },
     "execution_count": 25,
     "metadata": {},
     "output_type": "execute_result"
    }
   ],
   "source": [
    "articles_as_string = df.to_json(orient='records')  # List-like\n",
    "articles_as_string"
   ]
  },
  {
   "cell_type": "code",
   "execution_count": null,
   "metadata": {},
   "outputs": [],
   "source": []
  },
  {
   "cell_type": "code",
   "execution_count": null,
   "metadata": {},
   "outputs": [],
   "source": []
  },
  {
   "cell_type": "code",
   "execution_count": null,
   "metadata": {},
   "outputs": [],
   "source": []
  },
  {
   "cell_type": "code",
   "execution_count": 26,
   "metadata": {},
   "outputs": [
    {
     "name": "stdout",
     "output_type": "stream",
     "text": [
      "Your task is to make personalized article recommendations for relevant content for a specific user profile. \n",
      "\n",
      "<user_profile>\n",
      "**Personal Demographics and Life Stage**\n",
      "\n",
      "- Age: 34\n",
      "- Family: Married to Sarah (32, part-time graphic designer)\n",
      "- Children: Emma (4) and Lucas (2)\n",
      "- Living in: Ghent, Belgium\n",
      "- Health: Good, active lifestyle\n",
      "- Planning: Considering a larger home in next 3-5 years\n",
      "\n",
      "**Financial Situation**\n",
      "\n",
      "- Combined Income: €115,000/year (€85,000 from Thomas, €30,000 from Sarah)\n",
      "- Savings: €45,000 in savings accounts\n",
      "- Emergency Fund: €20,000\n",
      "- Debt: €280,000 mortgage on current apartment\n",
      "- Monthly Expenses: €3,800 (including €1,200 mortgage)\n",
      "- Insurance: Basic health, home, and life insurance\n",
      "\n",
      "**Employment Details**\n",
      "\n",
      "- Senior Software Engineer at a scale-up\n",
      "- 3 years at current company\n",
      "- Existing benefits: Basic group insurance (Branch 21)\n",
      "- Stock options: 0.1% equity (unvested)\n",
      "- Potential promotion to Lead Engineer in next 12 months\n",
      "\n",
      "**Investment Profile**\n",
      "\n",
      "- Risk Tolerance: Moderate to high\n",
      "- Investment Experience: Some experience with ETFs\n",
      "- Current Investments: €15,000 in tech stocks and broad market ETFs\n",
      "    - Alternative asset class: some Cryptocurrency\n",
      "    - Alternative asset class: 2 oldtimer Porsches\n",
      "- Time Horizon: 25-30 years for retirement\n",
      "- Behavior: Checks investments weekly, tends to hold long-term\n",
      "\n",
      "**Financial Goals**\n",
      "\n",
      "- Retirement: Aims to retire by 60\n",
      "- Target Retirement Income: €4,000/month\n",
      "- Save for children's education (€100,000 each)\n",
      "- Purchase larger home (€500,000 budget)\n",
      "- Build investment portfolio for passive income\n",
      "\n",
      "**Behavioral Factors**\n",
      "\n",
      "- Financial Literacy: Above average due to tech background\n",
      "- Spending Style: Pragmatic, research-oriented\n",
      "- Decision Making: Analytical, data-driven\n",
      "- Market Response: Generally stays calm during volatility\n",
      "- Pain Points: Concerned about having too much in savings accounts\n",
      "\n",
      "**Tax Considerations**\n",
      "\n",
      "- Tax Bracket: Highest Belgian tax bracket\n",
      "- Currently maximizing pension tax benefits\n",
      "- Interested in tax-efficient investing strategies\n",
      "- Wants to optimize salary package structure\n",
      "\n",
      "**Existing Financial Products**\n",
      "\n",
      "- Bank: KBC main account\n",
      "- Investments: Bolero trading account\n",
      "- Pension: Company group insurance + small personal pension saving\n",
      "- Insurance: DKV healthcare, AG home insurance\n",
      "- Property: 2-bedroom apartment in Ghent\n",
      "\n",
      "**Key Concerns & Motivations:**\n",
      "\n",
      "- Worried about saving enough for children's education\n",
      "- Feels current pension planning is insufficient\n",
      "- Interested in optimizing tax situation\n",
      "- Wants to make savings work harder but unsure about best approach\n",
      "- Looking for ways to benefit from tech industry growth\n",
      "- Concerned about Belgian inflation and low interest rates\n",
      "\n",
      "<user_profile>\n",
      "\n",
      "<articles>\n",
      "[{\"title\":\"Building an Emergency Fund: Create Financial Peace of Mind\",\"url\":null,\"article_id\":\"813f295d\"},{\"title\":\"Planning for retirement, your future self will thank you\",\"url\":\"https:\\/\\/www.notion.so\\/Planning-for-retirement-your-future-self-will-thank-you-1abd15602ba08019b780e8f19d2ab8b8?pvs=21\",\"article_id\":\"bfc16b4a\"},{\"title\":\"Needs vs wants, how to prioritise your spending\",\"url\":\"https:\\/\\/www.notion.so\\/Needs-vs-wants-how-to-prioritise-your-spending-1abd15602ba080afb981c79287c83756?pvs=21\",\"article_id\":\"190d339d\"},{\"title\":\"How to achieve financial independence: The step-by-step guide\",\"url\":\"https:\\/\\/www.notion.so\\/How-to-achieve-financial-independence-The-step-by-step-guide-1acd15602ba080debd17f52333e918ff?pvs=21\",\"article_id\":\"86bc47d4\"},{\"title\":\"The power of compounding: How early investing pays off\",\"url\":\"https:\\/\\/www.notion.so\\/The-power-of-compounding-How-early-investing-pays-off-1acd15602ba0803ba031d81c4508c8d3?pvs=21\",\"article_id\":\"5595ecc5\"},{\"title\":\"The 50\\/30\\/20 rule, budgeting made easy\",\"url\":\"https:\\/\\/www.notion.so\\/The-50-30-20-rule-budgeting-made-easy-1abd15602ba08002a7b1de63999c2783?pvs=21\",\"article_id\":\"6f93110f\"},{\"title\":\"Budgeting in 5 steps, take charge of your finances\",\"url\":\"https:\\/\\/www.notion.so\\/Budgeting-in-5-steps-take-charge-of-your-finances-1abd15602ba08021a051f40d5b62d2e5?pvs=21\",\"article_id\":\"5c1ff6da\"},{\"title\":\"Saving on everyday expenses, simple cost-cutting tips\",\"url\":\"https:\\/\\/www.notion.so\\/Saving-on-everyday-expenses-simple-cost-cutting-tips-1abd15602ba080a18180f57a1c5d1864?pvs=21\",\"article_id\":\"36a92d5d\"},{\"title\":\"Cash vs. card: Which is better for budgeting?\",\"url\":\"https:\\/\\/www.notion.so\\/Cash-vs-card-Which-is-better-for-budgeting-1acd15602ba080868ca6dc65046f18c3?pvs=21\",\"article_id\":\"50d8a811\"},{\"title\":\"How to manage finances as a couple\",\"url\":\"https:\\/\\/www.notion.so\\/How-to-manage-finances-as-a-couple-1acd15602ba08051a1f1d1e836db81a4?pvs=21\",\"article_id\":\"5bae5e5b\"},{\"title\":\"How to teach kids about money and savings\",\"url\":\"https:\\/\\/www.notion.so\\/How-to-teach-kids-about-money-and-savings-1acd15602ba080b59e06d3bf4c96a71c?pvs=21\",\"article_id\":\"be715750\"},{\"title\":\"How to compare financial products - banks, loans & more, choose wisely\",\"url\":\"https:\\/\\/www.notion.so\\/How-to-compare-financial-products-banks-loans-more-choose-wisely-1abd15602ba08042aaaac0d803b0590c?pvs=21\",\"article_id\":\"db81b4d7\"},{\"title\":\"Fixed or variable mortgage? Choose what's right for you\",\"url\":\"https:\\/\\/www.notion.so\\/Fixed-or-variable-mortgage-Choose-what-s-right-for-you-1abd15602ba0801c86b2ec8c576c5b9b?pvs=21\",\"article_id\":\"185fdc86\"},{\"title\":\"Good debt vs Bad debt, not all loans are create equal\",\"url\":\"https:\\/\\/www.notion.so\\/Good-debt-vs-Bad-debt-not-all-loans-are-create-equal-1abd15602ba0805baefada17a51fdcfa?pvs=21\",\"article_id\":\"69960725\"},{\"title\":\"Negotiate your loan terms, you can (and should)\",\"url\":\"https:\\/\\/www.notion.so\\/Negotiate-your-loan-terms-you-can-and-should-1abd15602ba080a18e9ce3fa03de7aa1?pvs=21\",\"article_id\":\"8be44a9d\"},{\"title\":\"Mortgage refinancing: when does it make sense?\",\"url\":\"https:\\/\\/www.notion.so\\/Mortgage-refinancing-when-does-it-make-sense-1acd15602ba0802eae94d5dd61f8cec2?pvs=21\",\"article_id\":\"d76bcd84\"},{\"title\":\"Paying off debt vs. investing: What should you prioritise?\",\"url\":\"https:\\/\\/www.notion.so\\/Paying-off-debt-vs-investing-What-should-you-prioritise-1acd15602ba080b39f5ff6d863b90942?pvs=21\",\"article_id\":\"7715c95c\"},{\"title\":\"Buying vs renting, which one is right for you?\",\"url\":\"https:\\/\\/www.notion.so\\/Buying-vs-renting-which-one-is-right-for-you-1abd15602ba080d1aae8c229ff264d20?pvs=21\",\"article_id\":\"8c0145fd\"},{\"title\":\"Hidden costs of homeownership, buying a house? budget beyond the price tag\",\"url\":\"https:\\/\\/www.notion.so\\/Hidden-costs-of-homeownership-buying-a-house-budget-beyond-the-price-tag-1abd15602ba080a69d68f1e9d3f1289d?pvs=21\",\"article_id\":\"fd260c51\"},{\"title\":\"Real estate investing 101: How to start with rental properties\",\"url\":\"https:\\/\\/www.notion.so\\/Real-estate-investing-101-How-to-start-with-rental-properties-1acd15602ba080f59b48e2d6df4ef510?pvs=21\",\"article_id\":\"23244f58\"},{\"title\":\"Investing 101, A beginner's guide to growing wealth\",\"url\":\"https:\\/\\/www.notion.so\\/Investing-101-A-beginner-s-guide-to-growing-wealth-1abd15602ba080579a71f34c00b3a70f?pvs=21\",\"article_id\":\"6973df5a\"},{\"title\":\"Passive income ideas, make money while you sleep\",\"url\":\"https:\\/\\/www.notion.so\\/Passive-income-ideas-make-money-while-you-sleep-1abd15602ba080b9891ef22013facd6c?pvs=21\",\"article_id\":\"e57ec2ee\"},{\"title\":\"ETF vs. Stocks: which one? Simple vs. hands-on investing\",\"url\":\"https:\\/\\/www.notion.so\\/ETF-vs-Stocks-which-one-Simple-vs-hands-on-investing-1abd15602ba0802f9146e30bbbbfee08?pvs=21\",\"article_id\":\"1c9aaa4b\"},{\"title\":\"How to start investing with little money\",\"url\":\"https:\\/\\/www.notion.so\\/How-to-start-investing-with-little-money-1acd15602ba080dd90aafe1e50d31597?pvs=21\",\"article_id\":\"91bb11c5\"},{\"title\":\"Risk vs. reward: How to determine your investment style\",\"url\":\"https:\\/\\/www.notion.so\\/Risk-vs-reward-How-to-determine-your-investment-style-1acd15602ba080189f74d5b848d77d4e?pvs=21\",\"article_id\":\"58752c2c\"},{\"title\":\"The biggest investment mistakes to avoid\",\"url\":\"https:\\/\\/www.notion.so\\/The-biggest-investment-mistakes-to-avoid-1acd15602ba0804682cdd74faf39f1bf?pvs=21\",\"article_id\":\"7831c83e\"},{\"title\":\"Belgian tax basics, How to lower your tax bill, keep more of your hard-earned money\",\"url\":\"https:\\/\\/www.notion.so\\/Belgian-tax-basics-How-to-lower-your-tax-bill-keep-more-of-your-hard-earned-money-1abd15602ba0806da492f4350494edb6?pvs=21\",\"article_id\":\"f7340931\"},{\"title\":\"What to pay attention to when completing your personal income tax?\",\"url\":\"https:\\/\\/www.notion.so\\/What-to-pay-attention-to-when-completing-your-personal-income-tax-1afd15602ba080628609f6224ea07ddf?pvs=21\",\"article_id\":\"954aafba\"},{\"title\":\"Understanding inheritance taxes: How to minimize costs\",\"url\":\"https:\\/\\/www.notion.so\\/Understanding-inheritance-taxes-How-to-minimize-costs-1abd15602ba08000bc53f72f17d15bf2?pvs=21\",\"article_id\":\"b5e7f355\"},{\"title\":\"Estate planning essentials: How to pass down wealth effectively\",\"url\":\"https:\\/\\/www.notion.so\\/Estate-planning-essentials-How-to-pass-down-wealth-effectively-1acd15602ba08044bef6f167799bc893?pvs=21\",\"article_id\":\"3a9aa686\"},{\"title\":\"A will: everything you need to know\",\"url\":\"https:\\/\\/www.notion.so\\/A-will-everything-you-need-to-know-1abd15602ba0805b85e9fdf1c492bfe6?pvs=21\",\"article_id\":\"d1437e66\"},{\"title\":\"Do you need life insurance? who depends on your income?\",\"url\":\"https:\\/\\/www.notion.so\\/Do-you-need-life-insurance-who-depends-on-your-income-1abd15602ba0805eb3bed3b1733577b8?pvs=21\",\"article_id\":\"92316b09\"},{\"title\":\"Disability insurance: often overlooked, your ability to earn = your biggest asset\",\"url\":\"https:\\/\\/www.notion.so\\/Disability-insurance-often-overlooked-your-ability-to-earn-your-biggest-asset-1abd15602ba080dc97baf51ccc82a14e?pvs=21\",\"article_id\":\"afc07dfd\"},{\"title\":\"Suggestion: basic economic terminology & concepts (?)\",\"url\":\"https:\\/\\/www.notion.so\\/Suggestion-basic-economic-terminology-concepts-1acd15602ba080188effdfa72b36a33a?pvs=21\",\"article_id\":\"3c1973ec\"},{\"title\":\"Should I invest only in equities?\",\"url\":\"https:\\/\\/www.notion.so\\/Should-I-invest-only-in-equities-1aed15602ba080488a1ad5c9f674535d?pvs=21\",\"article_id\":\"9e0faaf4\"},{\"title\":\"Asset Class Deep Dive: Equities\",\"url\":\"https:\\/\\/www.notion.so\\/Asset-Class-Deep-Dive-Equities-1aed15602ba080778a2beb719a8987c6?pvs=21\",\"article_id\":\"c927fbec\"},{\"title\":\"Asset Class Deep Dive: Fixed Income\",\"url\":\"https:\\/\\/www.notion.so\\/Asset-Class-Deep-Dive-Fixed-Income-1aed15602ba080638fe8def7455816e1?pvs=21\",\"article_id\":\"361d9f3c\"},{\"title\":\"Asset Class Deep Dive: Private Markets\",\"url\":\"https:\\/\\/www.notion.so\\/Asset-Class-Deep-Dive-Private-Markets-1aed15602ba080d29160de5b1de9ae75?pvs=21\",\"article_id\":\"2d81b51b\"},{\"title\":\"Asset Class Deep Dive: Alternatives (crypto-assets, gold, commodities, art, hedge funds, etc\\u2026)\",\"url\":\"https:\\/\\/www.notion.so\\/Asset-Class-Deep-Dive-Alternatives-crypto-assets-gold-commodities-art-hedge-funds-etc-1aed15602ba0803589a8c4650b9cbe3c?pvs=21\",\"article_id\":\"72181843\"},{\"title\":\"What ESOPs Are \\u2013 How Employees Get a Share in the Company's Success\",\"url\":\"https:\\/\\/www.notion.so\\/What-ESOPs-Are-How-Employees-Get-a-Share-in-the-Company-s-Success-1afd15602ba080b89028e59684fcd37e?pvs=21\",\"article_id\":\"c715d4f7\"}]\n",
      "</articles>\n",
      "\n",
      "Output the top 5 article id's in descending order. Output NO other text\n",
      "Example output: [51, 41, 23, 51, 24]\n",
      "Actual output: [\n",
      "\n"
     ]
    }
   ],
   "source": [
    "user_profile=\"\"\"**Personal Demographics and Life Stage**\n",
    "\n",
    "- Age: 34\n",
    "- Family: Married to Sarah (32, part-time graphic designer)\n",
    "- Children: Emma (4) and Lucas (2)\n",
    "- Living in: Ghent, Belgium\n",
    "- Health: Good, active lifestyle\n",
    "- Planning: Considering a larger home in next 3-5 years\n",
    "\n",
    "**Financial Situation**\n",
    "\n",
    "- Combined Income: €115,000/year (€85,000 from Thomas, €30,000 from Sarah)\n",
    "- Savings: €45,000 in savings accounts\n",
    "- Emergency Fund: €20,000\n",
    "- Debt: €280,000 mortgage on current apartment\n",
    "- Monthly Expenses: €3,800 (including €1,200 mortgage)\n",
    "- Insurance: Basic health, home, and life insurance\n",
    "\n",
    "**Employment Details**\n",
    "\n",
    "- Senior Software Engineer at a scale-up\n",
    "- 3 years at current company\n",
    "- Existing benefits: Basic group insurance (Branch 21)\n",
    "- Stock options: 0.1% equity (unvested)\n",
    "- Potential promotion to Lead Engineer in next 12 months\n",
    "\n",
    "**Investment Profile**\n",
    "\n",
    "- Risk Tolerance: Moderate to high\n",
    "- Investment Experience: Some experience with ETFs\n",
    "- Current Investments: €15,000 in tech stocks and broad market ETFs\n",
    "    - Alternative asset class: some Cryptocurrency\n",
    "    - Alternative asset class: 2 oldtimer Porsches\n",
    "- Time Horizon: 25-30 years for retirement\n",
    "- Behavior: Checks investments weekly, tends to hold long-term\n",
    "\n",
    "**Financial Goals**\n",
    "\n",
    "- Retirement: Aims to retire by 60\n",
    "- Target Retirement Income: €4,000/month\n",
    "- Save for children's education (€100,000 each)\n",
    "- Purchase larger home (€500,000 budget)\n",
    "- Build investment portfolio for passive income\n",
    "\n",
    "**Behavioral Factors**\n",
    "\n",
    "- Financial Literacy: Above average due to tech background\n",
    "- Spending Style: Pragmatic, research-oriented\n",
    "- Decision Making: Analytical, data-driven\n",
    "- Market Response: Generally stays calm during volatility\n",
    "- Pain Points: Concerned about having too much in savings accounts\n",
    "\n",
    "**Tax Considerations**\n",
    "\n",
    "- Tax Bracket: Highest Belgian tax bracket\n",
    "- Currently maximizing pension tax benefits\n",
    "- Interested in tax-efficient investing strategies\n",
    "- Wants to optimize salary package structure\n",
    "\n",
    "**Existing Financial Products**\n",
    "\n",
    "- Bank: KBC main account\n",
    "- Investments: Bolero trading account\n",
    "- Pension: Company group insurance + small personal pension saving\n",
    "- Insurance: DKV healthcare, AG home insurance\n",
    "- Property: 2-bedroom apartment in Ghent\n",
    "\n",
    "**Key Concerns & Motivations:**\n",
    "\n",
    "- Worried about saving enough for children's education\n",
    "- Feels current pension planning is insufficient\n",
    "- Interested in optimizing tax situation\n",
    "- Wants to make savings work harder but unsure about best approach\n",
    "- Looking for ways to benefit from tech industry growth\n",
    "- Concerned about Belgian inflation and low interest rates\n",
    "\"\"\"\n",
    "\n",
    "system_prompt=f\"\"\"Your task is to make personalized article recommendations for relevant content for a specific user profile. \n",
    "\n",
    "<user_profile>\n",
    "{user_profile}\n",
    "<user_profile>\n",
    "\n",
    "<articles>\n",
    "{articles_as_string}\n",
    "</articles>\n",
    "\n",
    "Output the top 5 article id's in descending order. Output NO other text\n",
    "Example output: [51, 41, 23, 51, 24]\n",
    "Actual output: [\n",
    "\"\"\"\n",
    "\n",
    "print(system_prompt)"
   ]
  },
  {
   "cell_type": "code",
   "execution_count": 27,
   "metadata": {},
   "outputs": [],
   "source": [
    "response = model.invoke(system_prompt)"
   ]
  },
  {
   "cell_type": "code",
   "execution_count": 29,
   "metadata": {},
   "outputs": [
    {
     "data": {
      "text/plain": [
       "'[\"f7340931\", \"c715d4f7\", \"bfc16b4a\", \"be715750\", \"72181843\"]'"
      ]
     },
     "execution_count": 29,
     "metadata": {},
     "output_type": "execute_result"
    }
   ],
   "source": [
    "response.text()"
   ]
  },
  {
   "cell_type": "code",
   "execution_count": 34,
   "metadata": {},
   "outputs": [
    {
     "data": {
      "text/plain": [
       "'[{\"article_id\": \"f7340931\", \"match_score\": 0.95}, {\"article_id\": \"c715d4f7\", \"match_score\": 0.92}, {\"article_id\": \"bfc16b4a\", \"match_score\": 0.89}, {\"article_id\": \"72181843\", \"match_score\": 0.85}, {\"article_id\": \"e57ec2ee\", \"match_score\": 0.83}]'"
      ]
     },
     "execution_count": 34,
     "metadata": {},
     "output_type": "execute_result"
    }
   ],
   "source": [
    "system_prompt=f\"\"\"Your task is to make personalized article recommendations for relevant content for a specific user profile. \n",
    "\n",
    "<user_profile>\n",
    "{user_profile}\n",
    "<user_profile>\n",
    "\n",
    "<articles>\n",
    "{articles_as_string}\n",
    "</articles>\n",
    "\n",
    "Output the top 5 article id's in descending order, with a match_score between 0 and 1. Output NO other text\n",
    "Example output: [{{\"article_id\": \"abc123\", \"match_score\": 0.59}}]\n",
    "Actual output: [\n",
    "\"\"\"\n",
    "response = model.invoke(system_prompt)\n",
    "response.text()\n"
   ]
  },
  {
   "cell_type": "code",
   "execution_count": 37,
   "metadata": {},
   "outputs": [
    {
     "data": {
      "text/plain": [
       "[{'article_id': 'f7340931', 'match_score': 0.95},\n",
       " {'article_id': 'c715d4f7', 'match_score': 0.92},\n",
       " {'article_id': 'bfc16b4a', 'match_score': 0.89},\n",
       " {'article_id': '72181843', 'match_score': 0.85},\n",
       " {'article_id': 'e57ec2ee', 'match_score': 0.83}]"
      ]
     },
     "execution_count": 37,
     "metadata": {},
     "output_type": "execute_result"
    }
   ],
   "source": [
    "recommendations = json.loads(response.text())\n",
    "recommendations"
   ]
  },
  {
   "cell_type": "code",
   "execution_count": null,
   "metadata": {},
   "outputs": [],
   "source": []
  }
 ],
 "metadata": {
  "kernelspec": {
   "display_name": ".venv",
   "language": "python",
   "name": "python3"
  },
  "language_info": {
   "codemirror_mode": {
    "name": "ipython",
    "version": 3
   },
   "file_extension": ".py",
   "mimetype": "text/x-python",
   "name": "python",
   "nbconvert_exporter": "python",
   "pygments_lexer": "ipython3",
   "version": "3.13.1"
  }
 },
 "nbformat": 4,
 "nbformat_minor": 2
}
